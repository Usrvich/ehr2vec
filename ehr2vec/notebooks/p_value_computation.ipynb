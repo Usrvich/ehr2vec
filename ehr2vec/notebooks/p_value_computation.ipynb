{
 "cells": [
  {
   "cell_type": "code",
   "execution_count": 12,
   "metadata": {},
   "outputs": [
    {
     "data": {
      "text/plain": [
       "[('Death', 1.0889e-05),\n",
       " ('Basal cell carcinoma', 0.001569068),\n",
       " ('Breast cancer', 0.091730159),\n",
       " ('Colon cancer', 0.14716682),\n",
       " ('Lung cancer', 0.000525985),\n",
       " ('Pancreatic cancer', 0.14280008),\n",
       " (\"Alzheimer's\", 0.000206534),\n",
       " ('Arrhythmia', 5.594e-06),\n",
       " ('Diabetes', 0.00010102),\n",
       " ('Osteonecrosis', 0.288823399),\n",
       " ('Anaphylaxis', 0.146589376),\n",
       " ('Diarrhea', 0.000697944),\n",
       " ('Major bleeding', 5.7544e-05),\n",
       " ('Myocardial Infarction', 4.6746e-05),\n",
       " ('Stroke', 0.000361204),\n",
       " ('Schizophrenia', 0.000920254),\n",
       " ('Depression', 0.004507241),\n",
       " ('Fetal Weight insufficiency', 0.016205426),\n",
       " ('Placenta ins.', 0.431093852),\n",
       " ('Large fetus', 0.171768717),\n",
       " ('Sleep disorder', 0.000481331)]"
      ]
     },
     "execution_count": 12,
     "metadata": {},
     "output_type": "execute_result"
    }
   ],
   "source": [
    "from scipy.stats import t\n",
    "import numpy as np\n",
    "from statsmodels.stats.multitest import multipletests\n",
    "\n",
    "# Data: Each tuple contains (mean_base, std_base, mean_best, std_best)\n",
    "data = [\n",
    "    (\"Death\", 0.866, 0.0004, 0.877, 0.001),\n",
    "    (\"Basal cell carcinoma\", 0.644, 0.004, 0.672, 0.009),\n",
    "    (\"Breast cancer\", 0.570, 0.075, 0.624, 0.005),\n",
    "    (\"Colon cancer\", 0.614, 0.007, 0.628, 0.025),\n",
    "    (\"Lung cancer\", 0.665, 0.004, 0.684, 0.003),\n",
    "    (\"Pancreatic cancer\", 0.529, 0.057, 0.565, 0.032),\n",
    "    (\"Alzheimer's\", 0.739, 0.004, 0.770, 0.005),\n",
    "    (\"Arrhythmia\", 0.689, 0.002, 0.716, 0.001),\n",
    "    (\"Diabetes\", 0.835, 0.001, 0.848, 0.002),\n",
    "    (\"Osteonecrosis\", 0.825, 0.050, 0.842, 0.038),\n",
    "    (\"Anaphylaxis\", 0.710, 0.014, 0.719, 0.009),\n",
    "    (\"Diarrhea\", 0.856, 0.002, 0.875, 0.005),\n",
    "    (\"Major bleeding\", 0.782, 0.001, 0.797, 0.002),\n",
    "    (\"Myocardial Infarction\", 0.657, 0.003, 0.687, 0.003),\n",
    "    (\"Stroke\", 0.645, 0.011, 0.702, 0.008),\n",
    "    (\"Schizophrenia\", 0.838, 0.003, 0.860, 0.006),\n",
    "    (\"Depression\", 0.713, 0.002, 0.719, 0.002),\n",
    "    (\"Fetal Weight insufficiency\", 0.569, 0.033, 0.617, 0.005),\n",
    "    (\"Placenta ins.\", 0.588, 0.010, 0.586, 0.022),\n",
    "    (\"Large fetus\", 0.579, 0.054, 0.616, 0.055),\n",
    "    (\"Sleep disorder\", 0.748, 0.002, 0.759, 0.002),\n",
    "]\n",
    "\n",
    "# Calculate the t-statistic and p-value for each category\n",
    "n = 5  # number of observations\n",
    "\n",
    "revised_results = []\n",
    "for category, mean_base, std_base, mean_best, std_best in data:\n",
    "    mean_diff = mean_best - mean_base\n",
    "    se_diff = np.sqrt((std_base**2 / n) + (std_best**2 / n))  # Standard error of the mean difference\n",
    "    t_stat = mean_diff / se_diff  # t-statistic\n",
    "    p_value = t.sf(np.abs(t_stat), df=n-1)  # one-sided p-value\n",
    "    revised_results.append((category,  round(p_value,9)))\n",
    "\n",
    "revised_results"
   ]
  },
  {
   "cell_type": "code",
   "execution_count": 15,
   "metadata": {},
   "outputs": [],
   "source": [
    "def check_alpha(revised_results):\n",
    "    modified_results = []\n",
    "    for category, p_value in revised_results:\n",
    "        difference = ''\n",
    "        if p_value<0.05:\n",
    "            difference = '*'\n",
    "        if p_value<0.01:\n",
    "            difference = '**'\n",
    "        if p_value<0.001:\n",
    "            difference = '***'\n",
    "        \n",
    "        modified_results.append((category, p_value, difference))    \n",
    "        \n",
    "    return modified_results"
   ]
  },
  {
   "cell_type": "code",
   "execution_count": 16,
   "metadata": {},
   "outputs": [
    {
     "data": {
      "text/plain": [
       "[('Death', 0.00011433450000000001, '***'),\n",
       " ('Basal cell carcinoma', 0.002745869, '**'),\n",
       " ('Breast cancer', 0.1284222226, ''),\n",
       " ('Colon cancer', 0.17169462333333335, ''),\n",
       " ('Lung cancer', 0.0012272983333333333, '**'),\n",
       " ('Pancreatic cancer', 0.17169462333333335, ''),\n",
       " (\"Alzheimer's\", 0.000722869, '***'),\n",
       " ('Arrhythmia', 0.00011433450000000001, '***'),\n",
       " ('Diabetes', 0.00042428400000000003, '***'),\n",
       " ('Osteonecrosis', 0.30326456895, ''),\n",
       " ('Anaphylaxis', 0.17169462333333335, ''),\n",
       " ('Diarrhea', 0.0014656824000000002, '**'),\n",
       " ('Major bleeding', 0.000302106, '***'),\n",
       " ('Myocardial Infarction', 0.000302106, '***'),\n",
       " ('Stroke', 0.001083612, '**'),\n",
       " ('Schizophrenia', 0.0017568485454545453, '**'),\n",
       " ('Depression', 0.00728092776923077, '**'),\n",
       " ('Fetal Weight insufficiency', 0.024308139, '*'),\n",
       " ('Placenta ins.', 0.431093852, ''),\n",
       " ('Large fetus', 0.18984963457894735, ''),\n",
       " ('Sleep disorder', 0.0012272983333333333, '**')]"
      ]
     },
     "execution_count": 16,
     "metadata": {},
     "output_type": "execute_result"
    }
   ],
   "source": [
    "# List of p-values\n",
    "p_values = [res[1] for res in revised_results]\n",
    "categories = [res[0] for res in revised_results]\n",
    "# Apply Benjamini-Hochberg procedure\n",
    "adjusted_p_values = multipletests(p_values, alpha=0.05, method='fdr_bh')[1]\n",
    "adjusted_results = list(zip(categories, adjusted_p_values))\n",
    "adjusted_results_with_significance = check_alpha(adjusted_results)\n",
    "adjusted_results_with_significance"
   ]
  },
  {
   "cell_type": "code",
   "execution_count": 17,
   "metadata": {},
   "outputs": [
    {
     "data": {
      "text/plain": [
       "21"
      ]
     },
     "execution_count": 17,
     "metadata": {},
     "output_type": "execute_result"
    }
   ],
   "source": [
    "len(adjusted_results_with_significance)"
   ]
  }
 ],
 "metadata": {
  "kernelspec": {
   "display_name": "datascience",
   "language": "python",
   "name": "python3"
  },
  "language_info": {
   "codemirror_mode": {
    "name": "ipython",
    "version": 3
   },
   "file_extension": ".py",
   "mimetype": "text/x-python",
   "name": "python",
   "nbconvert_exporter": "python",
   "pygments_lexer": "ipython3",
   "version": "3.9.16"
  }
 },
 "nbformat": 4,
 "nbformat_minor": 2
}
