{
 "cells": [
  {
   "cell_type": "code",
   "execution_count": 30,
   "metadata": {},
   "outputs": [],
   "source": [
    "import numpy as np\n",
    "import sys\n",
    "if '../' not in sys.path:\n",
    "    sys.path.append('../')\n",
    "import visualize_main as vm"
   ]
  },
  {
   "cell_type": "code",
   "execution_count": 31,
   "metadata": {},
   "outputs": [],
   "source": [
    "roc_scores = {'DEATH 60+ (1y)': [0.79232, 0.84539, 0.84615, 0.84688, 0.84206, 0.84595, 0.85567, 0.85687, 0.8562, 0.85479, 0.85706, 0.85787, 0.859, 0.85789, 0.85208, 0.85583, 0.85857, 0.85741, 0.85679, 0.83453, 0.85914], 'PAIN (1m)': [0.76528, 0.77013, 0.7774, 0.77874, 0.77797, 0.78124, 0.78481, 0.78502, 0.78478, 0.78414, 0.78739, 0.78511, 0.78663, 0.78642, 0.78226, 0.78565, 0.78736, 0.78744, 0.78717, 0.78158, 0.78749], 'INFECTION (1w)': [0.72669, 0.73867, 0.74367, 0.74341, 0.74373, 0.74366, 0.75124, 0.75201, 0.75384, 0.75174, 0.75493, 0.75356, 0.75241, 0.75296, 0.74723, 0.75574, 0.7564, 0.75495, 0.75392, 0.7337, 0.75696]}\n",
    "roc_stds = {'DEATH 60+ (1y)': [0.00133, 0.00149, 0.00055, 0.00169, 0.00174, 0.00159, 0.00106, 0.0011, 0.00126, 0.00128, 0.00145, 0.00105, 0.00147, 0.00188, 0.00197, 0.00125, 0.00076, 0.00079, 0.0009, 0.01097, 0.00136], 'PAIN (1m)': [0.00073, 0.00131, 0.00079, 0.00063, 0.00021, 0.00036, 0.00062, 0.00045, 0.00054, 0.00056, 0.00106, 0.00108, 0.00056, 0.0003, 0.00024, 0.00118, 0.00059, 0.00037, 0.0005, 0.00154, 0.00084], 'INFECTION (1w)': [0.00105, 0.00065, 0.001, 0.00041, 0.00069, 0.00186, 0.00073, 0.001, 0.00084, 0.00121, 0.00114, 0.00142, 0.00111, 0.00116, 0.00122, 0.00125, 0.0006, 0.0006, 0.00085, 0.01044, 0.00101]}\n",
    "pr_means =  {'DEATH 60+ (1y)': [0.52773, 0.60265, 0.60906, 0.61239, 0.61128, 0.61058, 0.63408, 0.63671, 0.63585, 0.63407, 0.6399, 0.641, 0.64201, 0.63875, 0.63275, 0.63439, 0.63565, 0.64209, 0.64129, 0.5687, 0.63852], 'PAIN (1m)': [0.79104, 0.79507, 0.80181, 0.8044, 0.80298, 0.80501, 0.80986, 0.80965, 0.80906, 0.80822, 0.81025, 0.80833, 0.80959, 0.80956, 0.80558, 0.80882, 0.81177, 0.81079, 0.81068, 0.80238, 0.81252], 'INFECTION (1w)': [0.77922, 0.78838, 0.79499, 0.79393, 0.79336, 0.79299, 0.80285, 0.80326, 0.8054, 0.80265, 0.80655, 0.80409, 0.80239, 0.80423, 0.79782, 0.80602, 0.80851, 0.80624, 0.80557, 0.78054, 0.80894]}\n",
    "pr_stds = {'DEATH 60+ (1y)': [0.0021, 0.00352, 0.00228, 0.00369, 0.00388, 0.00294, 0.00303, 0.00265, 0.0036, 0.00232, 0.0045, 0.00223, 0.00393, 0.00418, 0.00319, 0.00449, 0.00148, 0.00201, 0.00145, 0.02032, 0.00339], 'PAIN (1m)': [0.0005, 0.0017, 0.00068, 0.00063, 0.00046, 0.00037, 0.00056, 0.00038, 0.00067, 0.00074, 0.00109, 0.00141, 0.00083, 0.00029, 0.00022, 0.00203, 0.00092, 0.00115, 0.0003, 0.00208, 0.001], 'INFECTION (1w)': [0.00127, 0.00056, 0.00087, 0.00056, 0.00056, 0.00188, 0.00101, 0.00102, 0.00131, 0.00169, 0.00117, 0.00188, 0.00139, 0.00261, 0.00123, 0.00144, 0.00098, 0.00094, 0.00087, 0.00896, 0.001]}\n",
    "models = ['medbert_001_diag', '001_diag', '001', '111', '110', '111_no_binarysegments', '111_time2vec_abspos', '111_t2v_AgeAbspos_avg', '111_t2v_AgeAbspos_++_avg', '111_t2v_AgeAbspos_++_MRR10', '111_t2v_AgeAbspos_++_MRR20', '111_t2v_AgeAbspos_++_MRR25', '111_t2v_AgeAbspos_++_MRR30', '111_t2v_AgeAbspos_++_MRR50', '111_t2v_AgeAbspos_++_MRR20_PLOS', '111_t2v_AgeAbspos_++_MRR20_ATTENTION', '111_t2v_AgeAbspos_++_MRR20_BiLSTM', '111_t2v_AgeAbspos_++_MRR20_MAX', '111_t2v_AgeAbspos_++_MRR20_MEAN', '111_t2v_AgeAbspos_++_MRR20_SUM', '111_t2v_AgeAbspos_++_MRR20_BiGRU']\n",
    "def compute_average(scores):\n",
    "    return [np.mean([scores[key][i] for key in scores.keys() if scores[key][i] is not None])\\\n",
    "                          for i in range(len(scores[list(scores.keys())[0]]))]\n",
    "def compute_avg_stds(scores):\n",
    "    return [np.sqrt(np.mean([scores[key][i]**2 for key in scores.keys() if scores[key][i] is not None]))\\\n",
    "                        for i in range(len(scores[list(scores.keys())[0]]))]\n",
    "roc_scores['average'] = compute_average(roc_scores) \n",
    "roc_stds['average'] = compute_avg_stds(roc_stds)\n",
    "pr_means['average'] = compute_average(pr_means)\n",
    "pr_stds['average'] = compute_avg_stds(pr_stds)"
   ]
  },
  {
   "cell_type": "code",
   "execution_count": 32,
   "metadata": {},
   "outputs": [
    {
     "name": "stdout",
     "output_type": "stream",
     "text": [
      "DEATH 60+ (1y) 0.83453 0.01097\n",
      "DEATH 60+ (1y) 0.5687 0.02032\n",
      "PAIN (1m) 0.78158 0.00154\n",
      "PAIN (1m) 0.80238 0.00208\n",
      "INFECTION (1w) 0.7337 0.01044\n",
      "INFECTION (1w) 0.78054 0.00896\n",
      "average 0.7832699999999999 0.008788365414948714\n",
      "average 0.7172066666666668 0.012877763781029688\n"
     ]
    }
   ],
   "source": [
    "model_index = models.index('111_t2v_AgeAbspos_++_MRR20_SUM')\n",
    "for k in roc_scores.keys():\n",
    "    print(k, roc_scores[k][model_index], roc_stds[k][model_index])\n",
    "    print(k, pr_means[k][model_index], pr_stds[k][model_index])\n"
   ]
  },
  {
   "cell_type": "code",
   "execution_count": 34,
   "metadata": {},
   "outputs": [],
   "source": [
    "model_mapping = {\n",
    "    'medbert_001_diag':'MedBERT', \n",
    "    '001_diag':'BEHRT', \n",
    "    '001':'+Med', \n",
    "    '111': '+FV+Sex', \n",
    "    '110':'[-SEP]',\n",
    "    '111_no_binarysegments':'-Binary Segments', \n",
    "    '111_time2vec_abspos':'+time2vec(abspos)',\n",
    "    '111_t2v_AgeAbspos_avg':'+time2vec(age)',\n",
    "    '111_t2v_AgeAbspos_++_avg':'+RoPE+SwiGLU', \n",
    "    '111_t2v_AgeAbspos_++_MRR10':'[Masking Ratio 10%]',\n",
    "    '111_t2v_AgeAbspos_++_MRR20':'Masking Ratio 20%',\n",
    "    '111_t2v_AgeAbspos_++_MRR25':'[Masking Ratio 25%]',\n",
    "    '111_t2v_AgeAbspos_++_MRR30':'[Masking Ratio 30%]',\n",
    "    '111_t2v_AgeAbspos_++_MRR50':'[Masking Ratio 50%]',\n",
    "    '111_t2v_AgeAbspos_++_MRR20_PLOS':'[Masking Ratio 20% + PLOS]',\n",
    "    '111_t2v_AgeAbspos_++_MRR20_ATTENTION':'Weighted Attention',\n",
    "    '111_t2v_AgeAbspos_++_MRR20_BiLSTM':'BiLSTM',\n",
    "    '111_t2v_AgeAbspos_++_MRR20_MAX':'Max Pooling',\n",
    "    '111_t2v_AgeAbspos_++_MRR20_MEAN':'Mean Pooling',\n",
    "    '111_t2v_AgeAbspos_++_MRR20_BiGRU':'BiGRU'\n",
    "}\n",
    "#new_model_names = [model_mapping[model] for model in models]\n"
   ]
  },
  {
   "cell_type": "markdown",
   "metadata": {},
   "source": [
    "##"
   ]
  }
 ],
 "metadata": {
  "kernelspec": {
   "display_name": "datascience",
   "language": "python",
   "name": "python3"
  },
  "language_info": {
   "codemirror_mode": {
    "name": "ipython",
    "version": 3
   },
   "file_extension": ".py",
   "mimetype": "text/x-python",
   "name": "python",
   "nbconvert_exporter": "python",
   "pygments_lexer": "ipython3",
   "version": "3.9.16"
  }
 },
 "nbformat": 4,
 "nbformat_minor": 2
}
