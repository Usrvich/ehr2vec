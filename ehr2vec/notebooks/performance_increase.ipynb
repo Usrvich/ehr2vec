{
 "cells": [
  {
   "cell_type": "code",
   "execution_count": 1,
   "metadata": {},
   "outputs": [],
   "source": [
    "performance = {'breast cancer': [62.4, 63.9], 'preterm birth': [59.5, 63.7], 'Stroke': [70.2, 70.7], 'Schizophrenia': [86, 85.9]}\n",
    "patients = {'breast cancer': [74.4, 124.3], 'preterm birth': [22.5, 100], 'Stroke': [60.4, 276.2], 'Schizophrenia': [25.5, 89.2]}\n",
    "increase_in_performance_percent = {}\n",
    "increase_in_patients_percent = {}\n",
    "for key in performance:\n",
    "    increase_in_performance_percent[key] = (performance[key][1] - performance[key][0]) / performance[key][0] * 100\n",
    "    increase_in_patients_percent[key] = (patients[key][1] - patients[key][0]) / patients[key][0] * 100"
   ]
  },
  {
   "cell_type": "code",
   "execution_count": 2,
   "metadata": {},
   "outputs": [
    {
     "name": "stdout",
     "output_type": "stream",
     "text": [
      "{'breast cancer': 67.06989247311826, 'preterm birth': 344.44444444444446, 'Stroke': 357.2847682119205, 'Schizophrenia': 249.80392156862746}\n",
      "{'breast cancer': 2.403846153846154, 'preterm birth': 7.05882352941177, 'Stroke': 0.7122507122507122, 'Schizophrenia': -0.11627906976743524}\n"
     ]
    }
   ],
   "source": [
    "print(increase_in_patients_percent)\n",
    "print(increase_in_performance_percent)"
   ]
  }
 ],
 "metadata": {
  "kernelspec": {
   "display_name": "datascience",
   "language": "python",
   "name": "python3"
  },
  "language_info": {
   "codemirror_mode": {
    "name": "ipython",
    "version": 3
   },
   "file_extension": ".py",
   "mimetype": "text/x-python",
   "name": "python",
   "nbconvert_exporter": "python",
   "pygments_lexer": "ipython3",
   "version": "3.9.16"
  }
 },
 "nbformat": 4,
 "nbformat_minor": 2
}
