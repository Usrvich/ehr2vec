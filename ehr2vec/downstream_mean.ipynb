{
 "cells": [
  {
   "cell_type": "code",
   "execution_count": 1,
   "metadata": {},
   "outputs": [
    {
     "name": "stderr",
     "output_type": "stream",
     "text": [
      "/services/tools/anaconda3/4.4.0/lib/python3.6/site-packages/distributed/config.py:20: YAMLLoadWarning:\n",
      "\n",
      "calling yaml.load() without Loader=... is deprecated, as the default Loader is unsafe. Please read https://msg.pyyaml.org/load for full details.\n",
      "\n"
     ]
    },
    {
     "data": {
      "text/html": [
       "<style type='text/css'>\n",
       ".datatable table.frame { margin-bottom: 0; }\n",
       ".datatable table.frame thead { border-bottom: none; }\n",
       ".datatable table.frame tr.coltypes td {  color: #FFFFFF;  line-height: 6px;  padding: 0 0.5em;}\n",
       ".datatable .boolean { background: #DDDD99; }\n",
       ".datatable .object  { background: #565656; }\n",
       ".datatable .integer { background: #5D9E5D; }\n",
       ".datatable .float   { background: #4040CC; }\n",
       ".datatable .string  { background: #CC4040; }\n",
       ".datatable .row_index {  background: var(--jp-border-color3);  border-right: 1px solid var(--jp-border-color0);  color: var(--jp-ui-font-color3);  font-size: 9px;}\n",
       ".datatable .frame tr.coltypes .row_index {  background: var(--jp-border-color0);}\n",
       ".datatable th:nth-child(2) { padding-left: 12px; }\n",
       ".datatable .hellipsis {  color: var(--jp-cell-editor-border-color);}\n",
       ".datatable .vellipsis {  background: var(--jp-layout-color0);  color: var(--jp-cell-editor-border-color);}\n",
       ".datatable .na {  color: var(--jp-cell-editor-border-color);  font-size: 80%;}\n",
       ".datatable .footer { font-size: 9px; }\n",
       ".datatable .frame_dimensions {  background: var(--jp-border-color3);  border-top: 1px solid var(--jp-border-color0);  color: var(--jp-ui-font-color3);  display: inline-block;  opacity: 0.6;  padding: 1px 10px 1px 5px;}\n",
       "</style>\n"
      ],
      "text/plain": [
       "<IPython.core.display.HTML object>"
      ]
     },
     "metadata": {},
     "output_type": "display_data"
    }
   ],
   "source": [
    "from os.path import join, split\n",
    "import torch \n",
    "import numpy as np\n",
    "import pandas as pd\n",
    "from common import metrics\n",
    "from common.metrics import pr_auc, roc_auc, precision, recall\n",
    "from common.io import get_train_test_for_embeddings\n",
    "import common.io as io\n",
    "import importlib \n",
    "importlib.reload(io)\n",
    "import plotly.express as px\n",
    "from sklearn.ensemble import RandomForestClassifier\n",
    "from sklearn.model_selection import cross_val_score, cross_validate, ParameterGrid\n",
    "from imblearn.over_sampling import RandomOverSampler\n",
    "import importlib\n",
    "from sklearn.model_selection import train_test_split, StratifiedKFold\n",
    "from sklearn.metrics import roc_curve, precision_recall_curve\n",
    "from sklearn.metrics import confusion_matrix, ConfusionMatrixDisplay\n",
    "import matplotlib.pyplot as plt\n",
    "from xgboost import XGBClassifier\n",
    "from cope import model\n",
    "\n",
    "from tqdm import tqdm"
   ]
  },
  {
   "cell_type": "code",
   "execution_count": 2,
   "metadata": {},
   "outputs": [],
   "source": [
    "data_path = join('runs', 'pretraining', 'embeddings', 'censored')"
   ]
  },
  {
   "cell_type": "markdown",
   "metadata": {},
   "source": [
    "## Train classifiers on Embeddings "
   ]
  },
  {
   "cell_type": "code",
   "execution_count": 3,
   "metadata": {},
   "outputs": [],
   "source": [
    "# X, y, X_test, y_test = io.get_train_test_for_embeddings(data_path,  'HOSPITAL_ADMISSION', 'DEATH', True, filter_covid=True) \n",
    "# X_train, X_val, y_train, y_val = train_test_split(X,y, test_size=.2)\n",
    "# len(X_train)"
   ]
  },
  {
   "cell_type": "code",
   "execution_count": 4,
   "metadata": {},
   "outputs": [],
   "source": [
    "# clf = RandomForestClassifier(n_estimators=30, oob_score=True)\n",
    "# ros = RandomOverSampler(random_state=0, sampling_strategy=.3)\n",
    "# X_resampled, y_resampled = ros.fit_resample(X_test, y_test,)\n",
    "# clf.fit(X_resampled[:3000], y_resampled[:3000])\n",
    "# print(pr_auc(clf, X_val, y_val))\n",
    "# print(roc_auc(clf, X_val, y_val))"
   ]
  },
  {
   "cell_type": "markdown",
   "metadata": {},
   "source": [
    "## RF CV results"
   ]
  },
  {
   "cell_type": "code",
   "execution_count": 23,
   "metadata": {},
   "outputs": [],
   "source": [
    "def get_closest_ids(arr, value):\n",
    "    idx = (np.abs(arr - value)).argmin()\n",
    "    return idx"
   ]
  },
  {
   "cell_type": "code",
   "execution_count": 27,
   "metadata": {},
   "outputs": [
    {
     "name": "stdout",
     "output_type": "stream",
     "text": [
      "censor post HOSPITAL_ADMISSION target ICU_ADMISSION\n"
     ]
    },
    {
     "name": "stderr",
     "output_type": "stream",
     "text": [
      "\r\n",
      "CV: 0it [00:00, ?it/s]"
     ]
    },
    {
     "name": "stdout",
     "output_type": "stream",
     "text": [
      "Selected thresholds at 0.5 sensitivity:  0.10053516405904264 0.11005683587007901\n"
     ]
    },
    {
     "name": "stderr",
     "output_type": "stream",
     "text": [
      "/services/tools/anaconda3/4.4.0/lib/python3.6/site-packages/sklearn/metrics/_classification.py:1248: UndefinedMetricWarning:\n",
      "\n",
      "Precision is ill-defined and being set to 0.0 due to no predicted samples. Use `zero_division` parameter to control this behavior.\n",
      "\n",
      "CV: 1it [00:37, 37.14s/it]"
     ]
    },
    {
     "name": "stdout",
     "output_type": "stream",
     "text": [
      "Selected thresholds at 0.5 sensitivity:  0.1286650649816331 0.1304563002471126\n"
     ]
    },
    {
     "name": "stderr",
     "output_type": "stream",
     "text": [
      "/services/tools/anaconda3/4.4.0/lib/python3.6/site-packages/sklearn/metrics/_classification.py:1248: UndefinedMetricWarning:\n",
      "\n",
      "Precision is ill-defined and being set to 0.0 due to no predicted samples. Use `zero_division` parameter to control this behavior.\n",
      "\n",
      "CV: 2it [01:13, 36.64s/it]"
     ]
    },
    {
     "name": "stdout",
     "output_type": "stream",
     "text": [
      "Selected thresholds at 0.5 sensitivity:  0.13373510886311296 0.13473036842808994\n"
     ]
    },
    {
     "name": "stderr",
     "output_type": "stream",
     "text": [
      "/services/tools/anaconda3/4.4.0/lib/python3.6/site-packages/sklearn/metrics/_classification.py:1248: UndefinedMetricWarning:\n",
      "\n",
      "Precision is ill-defined and being set to 0.0 due to no predicted samples. Use `zero_division` parameter to control this behavior.\n",
      "\n",
      "CV: 3it [01:54, 38.51s/it]"
     ]
    },
    {
     "name": "stdout",
     "output_type": "stream",
     "text": [
      "Selected thresholds at 0.5 sensitivity:  0.10029524517084523 0.11553759865172622\n"
     ]
    },
    {
     "name": "stderr",
     "output_type": "stream",
     "text": [
      "/services/tools/anaconda3/4.4.0/lib/python3.6/site-packages/sklearn/metrics/_classification.py:1248: UndefinedMetricWarning:\n",
      "\n",
      "Precision is ill-defined and being set to 0.0 due to no predicted samples. Use `zero_division` parameter to control this behavior.\n",
      "\n",
      "CV: 4it [02:34, 39.30s/it]"
     ]
    },
    {
     "name": "stdout",
     "output_type": "stream",
     "text": [
      "Selected thresholds at 0.5 sensitivity:  0.1327947043255117 0.13653516336572902\n"
     ]
    },
    {
     "name": "stderr",
     "output_type": "stream",
     "text": [
      "/services/tools/anaconda3/4.4.0/lib/python3.6/site-packages/sklearn/metrics/_classification.py:1248: UndefinedMetricWarning:\n",
      "\n",
      "Precision is ill-defined and being set to 0.0 due to no predicted samples. Use `zero_division` parameter to control this behavior.\n",
      "\n",
      "CV: 5it [03:10, 38.17s/it]\n"
     ]
    },
    {
     "name": "stdout",
     "output_type": "stream",
     "text": [
      "censor post HOSPITAL_ADMISSION target MECHANICAL_VENTILATION\n"
     ]
    },
    {
     "name": "stderr",
     "output_type": "stream",
     "text": [
      "\r\n",
      "CV: 0it [00:00, ?it/s]"
     ]
    },
    {
     "name": "stdout",
     "output_type": "stream",
     "text": [
      "Selected thresholds at 0.5 sensitivity:  0.10745464843891366 0.1135470533860807\n"
     ]
    },
    {
     "name": "stderr",
     "output_type": "stream",
     "text": [
      "/services/tools/anaconda3/4.4.0/lib/python3.6/site-packages/sklearn/metrics/_classification.py:1248: UndefinedMetricWarning:\n",
      "\n",
      "Precision is ill-defined and being set to 0.0 due to no predicted samples. Use `zero_division` parameter to control this behavior.\n",
      "\n",
      "CV: 1it [00:36, 36.26s/it]"
     ]
    },
    {
     "name": "stdout",
     "output_type": "stream",
     "text": [
      "Selected thresholds at 0.5 sensitivity:  0.13134729676686788 0.13313106998828692\n"
     ]
    },
    {
     "name": "stderr",
     "output_type": "stream",
     "text": [
      "/services/tools/anaconda3/4.4.0/lib/python3.6/site-packages/sklearn/metrics/_classification.py:1248: UndefinedMetricWarning:\n",
      "\n",
      "Precision is ill-defined and being set to 0.0 due to no predicted samples. Use `zero_division` parameter to control this behavior.\n",
      "\n",
      "CV: 2it [01:13, 36.55s/it]"
     ]
    },
    {
     "name": "stdout",
     "output_type": "stream",
     "text": [
      "Selected thresholds at 0.5 sensitivity:  0.12571259997466955 0.13290130608178202\n"
     ]
    },
    {
     "name": "stderr",
     "output_type": "stream",
     "text": [
      "/services/tools/anaconda3/4.4.0/lib/python3.6/site-packages/sklearn/metrics/_classification.py:1248: UndefinedMetricWarning:\n",
      "\n",
      "Precision is ill-defined and being set to 0.0 due to no predicted samples. Use `zero_division` parameter to control this behavior.\n",
      "\n",
      "CV: 3it [01:50, 36.86s/it]"
     ]
    },
    {
     "name": "stdout",
     "output_type": "stream",
     "text": [
      "Selected thresholds at 0.5 sensitivity:  0.11982989120119562 0.13604202767814882\n"
     ]
    },
    {
     "name": "stderr",
     "output_type": "stream",
     "text": [
      "/services/tools/anaconda3/4.4.0/lib/python3.6/site-packages/sklearn/metrics/_classification.py:1248: UndefinedMetricWarning:\n",
      "\n",
      "Precision is ill-defined and being set to 0.0 due to no predicted samples. Use `zero_division` parameter to control this behavior.\n",
      "\n",
      "CV: 4it [02:26, 36.72s/it]"
     ]
    },
    {
     "name": "stdout",
     "output_type": "stream",
     "text": [
      "Selected thresholds at 0.5 sensitivity:  0.12715428291506098 0.1290116349997549\n"
     ]
    },
    {
     "name": "stderr",
     "output_type": "stream",
     "text": [
      "/services/tools/anaconda3/4.4.0/lib/python3.6/site-packages/sklearn/metrics/_classification.py:1248: UndefinedMetricWarning:\n",
      "\n",
      "Precision is ill-defined and being set to 0.0 due to no predicted samples. Use `zero_division` parameter to control this behavior.\n",
      "\n",
      "CV: 5it [03:03, 36.61s/it]\n"
     ]
    },
    {
     "name": "stdout",
     "output_type": "stream",
     "text": [
      "censor post HOSPITAL_ADMISSION target DEATH\n"
     ]
    },
    {
     "name": "stderr",
     "output_type": "stream",
     "text": [
      "\r\n",
      "CV: 0it [00:00, ?it/s]"
     ]
    },
    {
     "name": "stdout",
     "output_type": "stream",
     "text": [
      "Selected thresholds at 0.5 sensitivity:  0.23052546111347927 0.23691285616873456\n"
     ]
    },
    {
     "name": "stderr",
     "output_type": "stream",
     "text": [
      "/services/tools/anaconda3/4.4.0/lib/python3.6/site-packages/sklearn/metrics/_classification.py:1248: UndefinedMetricWarning:\n",
      "\n",
      "Precision is ill-defined and being set to 0.0 due to no predicted samples. Use `zero_division` parameter to control this behavior.\n",
      "\n",
      "CV: 1it [00:37, 37.67s/it]"
     ]
    },
    {
     "name": "stdout",
     "output_type": "stream",
     "text": [
      "Selected thresholds at 0.5 sensitivity:  0.20912914691548962 0.21849294152502893\n"
     ]
    },
    {
     "name": "stderr",
     "output_type": "stream",
     "text": [
      "/services/tools/anaconda3/4.4.0/lib/python3.6/site-packages/sklearn/metrics/_classification.py:1248: UndefinedMetricWarning:\n",
      "\n",
      "Precision is ill-defined and being set to 0.0 due to no predicted samples. Use `zero_division` parameter to control this behavior.\n",
      "\n",
      "CV: 2it [01:16, 38.33s/it]"
     ]
    },
    {
     "name": "stdout",
     "output_type": "stream",
     "text": [
      "Selected thresholds at 0.5 sensitivity:  0.200753654860753 0.2004522681576342\n"
     ]
    },
    {
     "name": "stderr",
     "output_type": "stream",
     "text": [
      "/services/tools/anaconda3/4.4.0/lib/python3.6/site-packages/sklearn/metrics/_classification.py:1248: UndefinedMetricWarning:\n",
      "\n",
      "Precision is ill-defined and being set to 0.0 due to no predicted samples. Use `zero_division` parameter to control this behavior.\n",
      "\n",
      "CV: 3it [01:54, 38.37s/it]"
     ]
    },
    {
     "name": "stdout",
     "output_type": "stream",
     "text": [
      "Selected thresholds at 0.5 sensitivity:  0.18853253776177778 0.19055766048770706\n"
     ]
    },
    {
     "name": "stderr",
     "output_type": "stream",
     "text": [
      "/services/tools/anaconda3/4.4.0/lib/python3.6/site-packages/sklearn/metrics/_classification.py:1248: UndefinedMetricWarning:\n",
      "\n",
      "Precision is ill-defined and being set to 0.0 due to no predicted samples. Use `zero_division` parameter to control this behavior.\n",
      "\n",
      "CV: 4it [02:33, 38.46s/it]"
     ]
    },
    {
     "name": "stdout",
     "output_type": "stream",
     "text": [
      "Selected thresholds at 0.5 sensitivity:  0.20251915023363212 0.2008686498097945\n"
     ]
    },
    {
     "name": "stderr",
     "output_type": "stream",
     "text": [
      "/services/tools/anaconda3/4.4.0/lib/python3.6/site-packages/sklearn/metrics/_classification.py:1248: UndefinedMetricWarning:\n",
      "\n",
      "Precision is ill-defined and being set to 0.0 due to no predicted samples. Use `zero_division` parameter to control this behavior.\n",
      "\n",
      "CV: 5it [03:11, 38.36s/it]\n"
     ]
    },
    {
     "name": "stdout",
     "output_type": "stream",
     "text": [
      "censor pre ICU_ADMISSION target MECHANICAL_VENTILATION\n"
     ]
    },
    {
     "name": "stderr",
     "output_type": "stream",
     "text": [
      "\r\n",
      "CV: 0it [00:00, ?it/s]"
     ]
    },
    {
     "name": "stdout",
     "output_type": "stream",
     "text": [
      "Selected thresholds at 0.5 sensitivity:  0.27417381528387846 0.21871972177375795\n"
     ]
    },
    {
     "name": "stderr",
     "output_type": "stream",
     "text": [
      "\r\n",
      "CV: 1it [00:35, 35.76s/it]"
     ]
    },
    {
     "name": "stdout",
     "output_type": "stream",
     "text": [
      "Selected thresholds at 0.5 sensitivity:  0.2848780653470923 0.373830678565616\n"
     ]
    },
    {
     "name": "stderr",
     "output_type": "stream",
     "text": [
      "\r\n",
      "CV: 2it [01:12, 36.21s/it]"
     ]
    },
    {
     "name": "stdout",
     "output_type": "stream",
     "text": [
      "Selected thresholds at 0.5 sensitivity:  0.45967988930023246 0.3363667416008908\n"
     ]
    },
    {
     "name": "stderr",
     "output_type": "stream",
     "text": [
      "\r\n",
      "CV: 3it [01:48, 36.14s/it]"
     ]
    },
    {
     "name": "stdout",
     "output_type": "stream",
     "text": [
      "Selected thresholds at 0.5 sensitivity:  0.22381666666666664 0.22630198412698413\n"
     ]
    },
    {
     "name": "stderr",
     "output_type": "stream",
     "text": [
      "\r\n",
      "CV: 4it [02:24, 36.23s/it]"
     ]
    },
    {
     "name": "stdout",
     "output_type": "stream",
     "text": [
      "Selected thresholds at 0.5 sensitivity:  0.389 0.413\n"
     ]
    },
    {
     "name": "stderr",
     "output_type": "stream",
     "text": [
      "CV: 5it [03:00, 36.19s/it]\n"
     ]
    },
    {
     "name": "stdout",
     "output_type": "stream",
     "text": [
      "censor pre ICU_ADMISSION target DEATH\n"
     ]
    },
    {
     "name": "stderr",
     "output_type": "stream",
     "text": [
      "\r\n",
      "CV: 0it [00:00, ?it/s]"
     ]
    },
    {
     "name": "stdout",
     "output_type": "stream",
     "text": [
      "Selected thresholds at 0.5 sensitivity:  0.36 0.381\n"
     ]
    },
    {
     "name": "stderr",
     "output_type": "stream",
     "text": [
      "\r\n",
      "CV: 1it [00:41, 41.43s/it]"
     ]
    },
    {
     "name": "stdout",
     "output_type": "stream",
     "text": [
      "Selected thresholds at 0.5 sensitivity:  0.348 0.352\n"
     ]
    },
    {
     "name": "stderr",
     "output_type": "stream",
     "text": [
      "\r\n",
      "CV: 2it [01:21, 40.69s/it]"
     ]
    },
    {
     "name": "stdout",
     "output_type": "stream",
     "text": [
      "Selected thresholds at 0.5 sensitivity:  0.3946312623221291 0.39522591767108006\n"
     ]
    },
    {
     "name": "stderr",
     "output_type": "stream",
     "text": [
      "\r\n",
      "CV: 3it [02:01, 40.52s/it]"
     ]
    },
    {
     "name": "stdout",
     "output_type": "stream",
     "text": [
      "Selected thresholds at 0.5 sensitivity:  0.3703324264768569 0.38245397713499873\n"
     ]
    },
    {
     "name": "stderr",
     "output_type": "stream",
     "text": [
      "\r\n",
      "CV: 4it [02:44, 41.29s/it]"
     ]
    },
    {
     "name": "stdout",
     "output_type": "stream",
     "text": [
      "Selected thresholds at 0.5 sensitivity:  0.3446916666666666 0.3456035714285715\n"
     ]
    },
    {
     "name": "stderr",
     "output_type": "stream",
     "text": [
      "CV: 5it [03:24, 40.89s/it]\n"
     ]
    },
    {
     "name": "stdout",
     "output_type": "stream",
     "text": [
      "censor post ICU_ADMISSION target MECHANICAL_VENTILATION\n"
     ]
    },
    {
     "name": "stderr",
     "output_type": "stream",
     "text": [
      "\r\n",
      "CV: 0it [00:00, ?it/s]"
     ]
    },
    {
     "name": "stdout",
     "output_type": "stream",
     "text": [
      "Selected thresholds at 0.5 sensitivity:  0.28808654074475776 0.41096717319581966\n"
     ]
    },
    {
     "name": "stderr",
     "output_type": "stream",
     "text": [
      "\r\n",
      "CV: 1it [00:35, 35.17s/it]"
     ]
    },
    {
     "name": "stdout",
     "output_type": "stream",
     "text": [
      "Selected thresholds at 0.5 sensitivity:  0.333 0.383\n"
     ]
    },
    {
     "name": "stderr",
     "output_type": "stream",
     "text": [
      "\r\n",
      "CV: 2it [01:10, 35.39s/it]"
     ]
    },
    {
     "name": "stdout",
     "output_type": "stream",
     "text": [
      "Selected thresholds at 0.5 sensitivity:  0.4151320994001095 0.2785899774687962\n"
     ]
    },
    {
     "name": "stderr",
     "output_type": "stream",
     "text": [
      "\r\n",
      "CV: 3it [01:46, 35.71s/it]"
     ]
    },
    {
     "name": "stdout",
     "output_type": "stream",
     "text": [
      "Selected thresholds at 0.5 sensitivity:  0.3591121184371183 0.3091369047619048\n"
     ]
    },
    {
     "name": "stderr",
     "output_type": "stream",
     "text": [
      "\r\n",
      "CV: 4it [02:23, 36.00s/it]"
     ]
    },
    {
     "name": "stdout",
     "output_type": "stream",
     "text": [
      "Selected thresholds at 0.5 sensitivity:  0.4048736861994215 0.3230559812091932\n"
     ]
    },
    {
     "name": "stderr",
     "output_type": "stream",
     "text": [
      "CV: 5it [02:59, 35.86s/it]\n"
     ]
    },
    {
     "name": "stdout",
     "output_type": "stream",
     "text": [
      "censor post ICU_ADMISSION target DEATH\n"
     ]
    },
    {
     "name": "stderr",
     "output_type": "stream",
     "text": [
      "\r\n",
      "CV: 0it [00:00, ?it/s]"
     ]
    },
    {
     "name": "stdout",
     "output_type": "stream",
     "text": [
      "Selected thresholds at 0.5 sensitivity:  0.3593332815656467 0.3651913436255442\n"
     ]
    },
    {
     "name": "stderr",
     "output_type": "stream",
     "text": [
      "\r\n",
      "CV: 1it [00:39, 40.00s/it]"
     ]
    },
    {
     "name": "stdout",
     "output_type": "stream",
     "text": [
      "Selected thresholds at 0.5 sensitivity:  0.35203095238095233 0.3590075396825396\n"
     ]
    },
    {
     "name": "stderr",
     "output_type": "stream",
     "text": [
      "\r\n",
      "CV: 2it [01:20, 40.11s/it]"
     ]
    },
    {
     "name": "stdout",
     "output_type": "stream",
     "text": [
      "Selected thresholds at 0.5 sensitivity:  0.39099858987331887 0.3933914376430243\n"
     ]
    },
    {
     "name": "stderr",
     "output_type": "stream",
     "text": [
      "\r\n",
      "CV: 3it [02:01, 40.62s/it]"
     ]
    },
    {
     "name": "stdout",
     "output_type": "stream",
     "text": [
      "Selected thresholds at 0.5 sensitivity:  0.3762300278797571 0.3896643133225565\n"
     ]
    },
    {
     "name": "stderr",
     "output_type": "stream",
     "text": [
      "\r\n",
      "CV: 4it [02:42, 40.72s/it]"
     ]
    },
    {
     "name": "stdout",
     "output_type": "stream",
     "text": [
      "Selected thresholds at 0.5 sensitivity:  0.35499605258244116 0.3569895403047949\n"
     ]
    },
    {
     "name": "stderr",
     "output_type": "stream",
     "text": [
      "CV: 5it [03:22, 40.47s/it]\n"
     ]
    }
   ],
   "source": [
    "Results_dic = {}\n",
    "CM_dic = {}\n",
    "n_folds = 5\n",
    "sensitivity_threshold = 0.5\n",
    "# threshold = .1\n",
    "sampling_alpha = .3\n",
    "oversample=False\n",
    "metric_ls = [roc_auc, pr_auc, precision, recall]# \n",
    "metric_names = [m.__name__ for m in metric_ls]\n",
    "results_dir = \"runs/pretraining/embeddings/censored/Results\"\n",
    "# parameter_grid = {'n_estimators':[40],'max_depth':[5,10, None], 'min_samples_split':[2,5,10]}\n",
    "parameter_grid = {'n_estimators':[1000],'max_depth':[5,10, None], 'min_samples_split':[2,5 ,10]}\n",
    "\n",
    "probas_dic = {}\n",
    "for censor in ['HOSPITAL_ADMISSION', 'ICU_ADMISSION']:\n",
    "    for post in [False, True]:\n",
    "        suffix='pre'\n",
    "        if post:\n",
    "            suffix='post'    \n",
    "        if not post and (censor=='HOSPITAL_ADMISSION'):\n",
    "            continue\n",
    "        for target in ['ICU_ADMISSION', 'MECHANICAL_VENTILATION','DEATH']:\n",
    "            if censor==target:\n",
    "                continue\n",
    "            print(f\"censor {suffix} {censor} target {target}\")\n",
    "            name = f'{suffix}_{censor}_target_{target}'\n",
    "            CM_dic[name] = []\n",
    "            probas_dic[name] = []\n",
    "            _, _, X_test, y_test = io.get_train_test_for_embeddings(data_path, censor, target, post, filter_covid=True)   \n",
    "            scores = {metric_name:[] for metric_name in metric_names}\n",
    "            skf = StratifiedKFold(n_folds)\n",
    "            for i, fold in tqdm(enumerate(skf.split(X_test,y_test)), desc='CV'):\n",
    "                train_ids, val_ids = fold\n",
    "                X_train, X_val, y_train, y_val = X_test[train_ids], X_test[val_ids], y_test[train_ids], y_test[val_ids]\n",
    "                if oversample:\n",
    "                    ros = RandomOverSampler(random_state=0, sampling_strategy=sampling_alpha)\n",
    "                    X_train, y_train = ros.fit_resample(X_train, y_train)\n",
    "\n",
    "                rf = model.RF(name)\n",
    "                rf.fit(X_train, y_train, parameter_grid)\n",
    "                \n",
    "                # save curves\n",
    "                y_scores = rf._model.predict_proba(X_val)[:,1]\n",
    "                \n",
    "                precisions, recalls, th_pr = precision_recall_curve(y_val, y_scores)\n",
    "                \n",
    "                pr_df = pd.DataFrame({'precision':precisions[:-1], 'recall':recalls[:-1], 'thresholds':th_pr})\n",
    "                fprs, tprs, th_roc = roc_curve(y_val, y_scores)\n",
    "                \n",
    "                \n",
    "                idx = get_closest_ids(tprs, sensitivity_threshold)\n",
    "                cm_threshold_roc = th_roc[idx]\n",
    "                idx = get_closest_ids(recalls, sensitivity_threshold)\n",
    "                cm_threshold_pr = th_pr[idx]\n",
    "                cm_threshold = (cm_threshold_pr+cm_threshold_roc)/2\n",
    "                \n",
    "                roc_df = pd.DataFrame({'fpr':fprs, 'tpr':tprs, 'thresholds':th_roc})\n",
    "                pr_df.to_csv(join(results_dir,'curves',f\"pr_curve_{name}_avg_emb_{i}.csv\"),index=None)\n",
    "                roc_df.to_csv(join(results_dir,'curves',f\"roc_curve_{name}_avg_emb_{i}.csv\"),index=None)\n",
    "#                 predictions = rf._model.predict(X_test)\n",
    "                probas = rf._model.predict_proba(X_val)[:,1]\n",
    "                probas_dic[name].append(probas)\n",
    "                predictions = (probas > cm_threshold).astype(int)\n",
    "                cm = confusion_matrix(y_val, predictions, labels=[0, 1])\n",
    "                CM_dic[name].append(cm)\n",
    "                for metric in metric_ls:\n",
    "                    scores[metric.__name__].append(metric(rf._model, X_val, y_val))\n",
    "                    \n",
    "            Results_dic[name] = scores\n",
    "\n",
    "torch.save(CM_dic, f\"runs/pretraining/embeddings/censored/Results/cm_mean_{sensitivity_threshold}_sensitivity.pt\")\n",
    "torch.save(probas_dic, f\"runs/pretraining/embeddings/censored/Results/probas_mean.pt\")"
   ]
  },
  {
   "cell_type": "code",
   "execution_count": null,
   "metadata": {},
   "outputs": [],
   "source": [
    "def get_mean_std(Results_dic):\n",
    "    \"\"\"Takes a nested dict with methods as outer dict and metrics as inner dict which contains lists os metrics,\n",
    "    and computes mean \\pm std for each list.\"\"\"\n",
    "    Results_mean_std = {}\n",
    "\n",
    "    for method in Results_dic.keys():\n",
    "        Results_mean_std[method] = {}\n",
    "        for metric in Results_dic[method].keys():\n",
    "            mean = np.mean(np.array(Results_dic[method][metric]))\n",
    "            std = np.std(np.array(Results_dic[method][metric]))\n",
    "            Results_mean_std[method][metric] = f'{mean:.3f} ± {std:.3f}'\n",
    "    return Results_mean_std"
   ]
  },
  {
   "cell_type": "code",
   "execution_count": null,
   "metadata": {},
   "outputs": [],
   "source": [
    "Results_str = get_mean_std(Results_dic)"
   ]
  },
  {
   "cell_type": "code",
   "execution_count": null,
   "metadata": {},
   "outputs": [],
   "source": [
    "# COVID paper results\n",
    "Results_org = {\n",
    "    \"post_HOSPITAL_ADMISSION_target_ICU_ADMISSION\":{\"org_roc_auc\":\"0.752\", \"org_pr_auc\":\"0.282\"},\n",
    "    \"post_HOSPITAL_ADMISSION_target_MECHANICAL_VENTILATION\":{\"org_roc_auc\":\"0.743\", \"org_pr_auc\":\"0.238\"},\n",
    "    \"post_HOSPITAL_ADMISSION_target_DEATH\":{\"org_roc_auc\":\"0.794\", \"org_pr_auc\":\"0.445\"},\n",
    "    \"pre_ICU_ADMISSION_target_MECHANICAL_VENTILATION\":{\"org_roc_auc\":\"0.567\", \"org_pr_auc\":\"0.869\"},\n",
    "    \"pre_ICU_ADMISSION_target_DEATH\":{\"org_roc_auc\":\"0.735\", \"org_pr_auc\":\"0.548\"},\n",
    "    \"post_ICU_ADMISSION_target_MECHANICAL_VENTILATION\":{\"org_roc_auc\":\"0.530\", \"org_pr_auc\":\"0.843\"},\n",
    "    \"post_ICU_ADMISSION_target_DEATH\":{\"org_roc_auc\":\"0.724\", \"org_pr_auc\":\"0.552\"},\n",
    "}"
   ]
  },
  {
   "cell_type": "code",
   "execution_count": null,
   "metadata": {},
   "outputs": [],
   "source": [
    "All_Results = {key:{**Results_str[key], **Results_org[key]} for key in Results_str}\n",
    "results = pd.DataFrame(All_Results).T\n",
    "# results = results[results.index!='ICU_ADMISSION_post_target_ICU_ADMISSION']\n",
    "results"
   ]
  },
  {
   "cell_type": "code",
   "execution_count": null,
   "metadata": {},
   "outputs": [],
   "source": [
    "results.to_csv(\"runs/pretraining/embeddings/censored/Results/mean.csv\")"
   ]
  }
 ],
 "metadata": {
  "kernelspec": {
   "display_name": "Python 3",
   "language": "python",
   "name": "python3"
  },
  "language_info": {
   "codemirror_mode": {
    "name": "ipython",
    "version": 3
   },
   "file_extension": ".py",
   "mimetype": "text/x-python",
   "name": "python",
   "nbconvert_exporter": "python",
   "pygments_lexer": "ipython3",
   "version": "3.10.9"
  }
 },
 "nbformat": 4,
 "nbformat_minor": 2
}
