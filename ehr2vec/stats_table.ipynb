{
 "cells": [
  {
   "cell_type": "code",
   "execution_count": null,
   "metadata": {},
   "outputs": [],
   "source": [
    "from azureml.core import Workspace, Dataset, Datastore\n",
    "\n",
    "# subscription_id = ''\n",
    "# resource_group = ''\n",
    "# workspace_name = ''\n",
    "\n",
    "# workspace = Workspace(subscription_id, resource_group, workspace_name)\n",
    "# datastore = Datastore.get(workspace, \"sp_data\")"
   ]
  },
  {
   "cell_type": "code",
   "execution_count": null,
   "metadata": {},
   "outputs": [],
   "source": []
  },
  {
   "cell_type": "code",
   "execution_count": 3,
   "metadata": {},
   "outputs": [],
   "source": [
    "import torch\n",
    "from os.path import join\n",
    "import pandas as pd\n",
    "import numpy as np\n",
    "import importlib\n",
    "import seaborn as sns\n",
    "\n",
    "from stats import patient_stats\n",
    "from common.utils import Data\n",
    "from data.utils import Utilities\n",
    "\n",
    "import matplotlib.pyplot as plt"
   ]
  },
  {
   "cell_type": "code",
   "execution_count": 4,
   "metadata": {},
   "outputs": [],
   "source": [
    "MAN_TOKEN = 5\n",
    "WOMAN_TOKEN = 19\n",
    "CLS = True"
   ]
  },
  {
   "cell_type": "markdown",
   "metadata": {},
   "source": [
    "## Patient Stats"
   ]
  },
  {
   "cell_type": "code",
   "execution_count": null,
   "metadata": {},
   "outputs": [],
   "source": [
    "pats_ds = Dataset.Tabular.from_parquet_files(path=(datastore, 'CPMI_PatientInfo.parquet'))\n",
    "pats = pats_ds.to_pandas_dataframe()\n",
    "pats.head()"
   ]
  },
  {
   "cell_type": "code",
   "execution_count": null,
   "metadata": {},
   "outputs": [],
   "source": [
    "print(len(pats))\n",
    "print(pats.CPR_hash.nunique())\n",
    "print(len(pats[pats.iloc[:,-1]=='Mand']))\n",
    "print(len(pats[pats.iloc[:,-1]=='Kvinde']))"
   ]
  },
  {
   "cell_type": "markdown",
   "metadata": {},
   "source": [
    "## Examine Features"
   ]
  },
  {
   "cell_type": "code",
   "execution_count": 5,
   "metadata": {},
   "outputs": [],
   "source": [
    "feats_dir = join('../outputs','data_icd10', 'tokenized')\n",
    "feats = torch.load(join(feats_dir, 'tokenized_pretrain.pt'))\n",
    "pids = torch.load(join(feats_dir, 'pids_pretrain.pt'))\n",
    "del feats['attention_mask']"
   ]
  },
  {
   "cell_type": "code",
   "execution_count": 6,
   "metadata": {},
   "outputs": [],
   "source": [
    "vocab = torch.load(join(feats_dir, 'vocabulary.pt'))\n",
    "tdata = Data(features=feats, pids=pids, vocabulary=vocab)"
   ]
  },
  {
   "cell_type": "markdown",
   "metadata": {},
   "source": [
    "## Age at last event"
   ]
  },
  {
   "cell_type": "code",
   "execution_count": 7,
   "metadata": {},
   "outputs": [],
   "source": [
    "def iterate_patients(features, feat, is_man=None):\n",
    "    # Simplify gender_token assignment using ternary expression\n",
    "    gender_token = None if is_man is None else MAN_TOKEN if is_man else WOMAN_TOKEN\n",
    "    i = 0\n",
    "    if CLS:\n",
    "        gender_index = 1\n",
    "    else:\n",
    "        gender_index = 0\n",
    "    for pat, tokens in zip(features[feat], features['concept']):\n",
    "        if gender_token is None or tokens[gender_index] == gender_token:\n",
    "            yield pat\n",
    "def get_ages_last_encounter(features, feat, is_man=None):\n",
    "    ages = [ages[-1] for ages in iterate_patients(features, feat, is_man)]\n",
    "    return np.array(ages)\n",
    "# this should be done as special case in utils"
   ]
  },
  {
   "cell_type": "code",
   "execution_count": 8,
   "metadata": {},
   "outputs": [
    {
     "data": {
      "text/plain": [
       "(41.980000000000004, 22.2225, 57.6375)"
      ]
     },
     "execution_count": 8,
     "metadata": {},
     "output_type": "execute_result"
    }
   ],
   "source": [
    "# Using the new function to get age arrays\n",
    "age_last_encounter = get_ages_last_encounter(feats, 'age')\n",
    "age_last_encounter_m = get_ages_last_encounter(feats, 'age', is_man=True)\n",
    "age_last_encounter_f = get_ages_last_encounter(feats, 'age', is_man=False)\n",
    "np.median(age_last_encounter), np.percentile(age_last_encounter, 25), np.percentile(age_last_encounter, 75)"
   ]
  },
  {
   "cell_type": "markdown",
   "metadata": {},
   "source": [
    "## Outcomes stats"
   ]
  },
  {
   "cell_type": "code",
   "execution_count": 9,
   "metadata": {},
   "outputs": [],
   "source": [
    "test_outcome = torch.load(\"../outputs/data_icd10/outcomes/TEST_OUTCOME/TEST_OUTCOME.pt\")\n",
    "outcomes_dic = {'test':test_outcome}\n",
    "ordered_outcomes = Utilities.filter_and_order_outcomes(outcomes_dic, tdata.pids)\n",
    "tdata.outcomes = ordered_outcomes"
   ]
  },
  {
   "cell_type": "code",
   "execution_count": 12,
   "metadata": {},
   "outputs": [],
   "source": [
    "censoring_times = [0, 3,]  # Define your censoring times in months\n",
    "cutoffs = [1,5,10]\n",
    "patient_stats_ = patient_stats.PatientStats(tdata, censoring_times, CLS=True)\n",
    "patient_stats_.process_patients()\n",
    "patient_stats_.convert_to_numpy()\n",
    "patient_stats_.compute_cumulative_stats(min_codes_list= cutoffs)\n",
    "\n",
    "# Access the statistics\n",
    "stats_dic = patient_stats_.stats_dic"
   ]
  },
  {
   "cell_type": "code",
   "execution_count": 13,
   "metadata": {},
   "outputs": [
    {
     "data": {
      "text/plain": [
       "{'ages': {'TEST_OUTCOME': array([26.84, 22.84, 27.88, 15.06,  1.02, 42.83, 52.36,  7.32, 11.98,\n",
       "         49.39, 52.88, 21.31, 22.51, 11.06,  0.85, 15.69, 31.41,  7.15,\n",
       "         44.17, 33.52, 52.7 , 55.34,  2.74,  9.83, 19.75, 33.98,  8.74,\n",
       "         25.75, 14.72, 38.41, 36.49, 44.42, 22.25, 11.84, 53.84, 15.27,\n",
       "         28.98, 26.48, 10.54, 52.53, 72.82, 48.85, 13.09, 49.07, 54.41,\n",
       "         26.58,  9.45, 61.35, 26.77, 19.5 , 51.3 ,  6.38, 20.13, 20.19,\n",
       "         20.19,  9.51,  8.28, 62.8 , 10.78,  2.57, 54.24, 55.56, 29.12,\n",
       "         69.19,  6.41,  3.39, 52.65, 22.08,  9.24, 31.64,  8.46, 65.14,\n",
       "         33.31, 17.02, 28.64, 22.29, 35.86, 11.93, 56.68, 11.58,  0.97,\n",
       "         36.72, 60.43, 14.86,  2.81,  4.04, 18.27, 27.99, 23.07, 22.99,\n",
       "         46.27, 40.76, 77.98]),\n",
       "  'TEST_CENSOR': array([ 1.3140e+01,  8.5800e+01,  1.4890e+01,  2.4070e+01,  2.0430e+01,\n",
       "          2.9170e+01,  2.7250e+01,  1.3070e+01,  1.0000e-01,  7.1000e-01,\n",
       "          8.8230e+01, -1.0000e+00,  7.4230e+01,  4.5330e+01,  3.8620e+01,\n",
       "          2.1080e+01,  6.3930e+01,  6.9800e+00,  1.3300e+00,  2.2820e+01,\n",
       "          1.1040e+01,  4.8070e+01,  3.9230e+01,  1.8150e+01,  5.4310e+01,\n",
       "          1.7460e+01,  3.6150e+01,  2.3570e+01,  2.5150e+01,  1.5630e+01,\n",
       "          5.4450e+01,  3.6560e+01,  2.2170e+01,  4.2360e+01,  2.6720e+01,\n",
       "          9.0100e+00,  4.4500e+01,  4.2650e+01,  5.2580e+01,  4.5270e+01,\n",
       "          2.7000e-01,  1.9760e+01,  1.6370e+01,  2.7100e+01,  4.8490e+01,\n",
       "          5.8030e+01,  5.9300e+00,  2.3590e+01,  4.5860e+01,  2.8190e+01,\n",
       "          1.6470e+01, -1.0000e+00,  2.2500e+01,  1.0261e+02,  4.0020e+01,\n",
       "          4.4360e+01,  3.1780e+01,  3.1200e+01,  5.0650e+01,  1.8200e+00,\n",
       "          5.4060e+01,  3.5440e+01,  1.6200e+01,  4.5160e+01,  9.2780e+01,\n",
       "          6.0310e+01,  1.5760e+01,  9.5520e+01, -1.0000e+00,  4.2110e+01,\n",
       "          5.0070e+01,  1.6600e+00,  6.1600e+01,  3.6790e+01,  3.1850e+01,\n",
       "          3.1490e+01,  3.0050e+01,  4.5060e+01,  4.0370e+01,  9.6200e+00,\n",
       "          2.7370e+01,  1.2100e+00,  4.1140e+01,  6.2150e+01,  1.8150e+01,\n",
       "          3.7370e+01,  5.6900e+00,  2.9840e+01,  6.6700e+00,  4.3760e+01,\n",
       "          2.1980e+01,  9.1200e+00,  1.9510e+01,  4.9840e+01,  6.1370e+01,\n",
       "          6.4170e+01,  6.7930e+01,  1.4090e+01,  5.0920e+01,  4.1600e+01,\n",
       "          4.0330e+01,  3.7120e+01,  2.8190e+01,  5.5330e+01,  1.1740e+01,\n",
       "          4.1560e+01,  1.7130e+01,  1.9740e+01,  5.6820e+01,  3.0140e+01,\n",
       "          4.0440e+01,  1.6500e+01,  3.4100e+00,  1.6840e+01,  4.5400e+00,\n",
       "          1.6850e+01,  5.1590e+01,  2.1610e+01,  1.2910e+01,  3.2510e+01,\n",
       "          1.1520e+01,  3.8790e+01,  6.3930e+01,  7.0660e+01,  6.2840e+01,\n",
       "          4.9350e+01,  3.8960e+01,  1.7540e+01,  2.1290e+01,  9.2200e+00,\n",
       "          1.7580e+01,  2.6410e+01,  7.1980e+01,  1.7930e+01,  4.6070e+01,\n",
       "          3.1610e+01,  2.6250e+01,  4.9940e+01, -1.0000e+00,  4.8240e+01,\n",
       "          5.2720e+01,  3.6680e+01,  4.5780e+01,  2.0030e+01,  9.5400e+00,\n",
       "          3.5150e+01,  5.9470e+01,  6.0220e+01, -1.0000e+00,  5.8630e+01,\n",
       "          6.2600e+00,  2.5180e+01,  4.8180e+01,  1.8150e+01,  2.3570e+01,\n",
       "          6.4380e+01,  3.9600e+00,  2.0720e+01, -1.0000e+00,  5.8650e+01,\n",
       "          9.1300e+00,  3.5100e+01,  6.2550e+01,  3.3360e+01,  3.8750e+01,\n",
       "          6.5240e+01,  2.7160e+01,  1.1520e+01,  1.9260e+01,  4.4930e+01,\n",
       "          5.4670e+01,  1.2460e+01,  5.0190e+01,  2.8800e+01,  2.6220e+01,\n",
       "          6.5660e+01,  1.8300e+00,  2.8420e+01,  5.2360e+01,  1.9160e+01,\n",
       "          1.2830e+01,  3.5420e+01,  9.0100e+00, -1.0000e+00,  1.4800e+01,\n",
       "          1.1900e+00,  5.1880e+01,  1.7420e+01,  4.2690e+01,  2.6650e+01,\n",
       "          3.0550e+01,  3.0810e+01,  2.8190e+01,  6.8740e+01,  1.3070e+01,\n",
       "          3.9000e+01,  2.2780e+01,  5.0370e+01,  1.8710e+01,  2.4990e+01,\n",
       "          2.7170e+01,  1.4900e+00,  3.0910e+01,  6.4840e+01,  1.8150e+01,\n",
       "          3.5540e+01,  6.9100e+01,  8.0840e+01,  1.6120e+01,  2.8190e+01,\n",
       "          1.3320e+01,  7.8880e+01,  5.7800e+01,  7.3740e+01,  4.3640e+01,\n",
       "          1.0390e+01,  3.4210e+01,  4.6000e-01,  1.9560e+01,  5.6100e+01,\n",
       "          6.1320e+01,  4.5710e+01,  4.2410e+01,  6.9000e-01,  1.3670e+01,\n",
       "          1.4550e+01,  4.2680e+01,  2.0340e+01,  4.9020e+01,  8.7830e+01,\n",
       "          1.6600e+00, -1.0000e+00,  3.5760e+01,  4.0770e+01,  2.4300e+00,\n",
       "          2.8710e+01,  6.2920e+01,  5.4620e+01,  2.1600e+00,  5.5790e+01,\n",
       "          2.2200e+01,  4.3980e+01,  5.1800e+01,  2.9390e+01,  8.0100e+00,\n",
       "          1.3410e+01,  2.7930e+01,  4.9160e+01,  8.3000e+00,  1.9160e+01,\n",
       "          5.2040e+01,  5.0670e+01,  8.9700e+00,  5.7710e+01,  3.6300e+00,\n",
       "          1.9170e+01])},\n",
       " 'trajectory': {'TEST_OUTCOME': {0: array([323, 274, 335, 181,  12, 515, 629,  88, 144, 593, 635, 256, 270,\n",
       "          133,  10, 189, 377,  86, 531, 403, 633, 665,  33, 118, 237, 408,\n",
       "          105, 309, 177, 462, 438, 534, 267, 142, 647, 183, 348, 318, 127,\n",
       "          631, 875, 587, 157, 590, 654, 319, 114, 737, 322, 234, 616,  77,\n",
       "          242, 243, 243, 114, 100, 755, 130,  31, 652, 668, 350, 831,  77,\n",
       "           41, 633, 265, 111, 380, 102, 783, 400, 204, 344, 268, 431, 143,\n",
       "          681, 139,  12, 441, 726, 179,  34,  49, 219, 336, 277, 276, 556,\n",
       "          490, 937]),\n",
       "   3: array([289, 245, 327, 157,   0, 510, 625,  84, 133, 578, 627, 218, 266,\n",
       "          108,   3,   0, 339,   0, 481, 375, 609, 650,  29,   0, 230, 383,\n",
       "            0, 218,   0, 449, 422, 526, 264, 110, 637, 169, 339, 206,   0,\n",
       "          620, 865, 554,   0, 580, 649, 315,   0, 733, 303, 218, 608,   0,\n",
       "          231, 230, 230, 108,   0, 728, 120,  14, 641, 655, 339, 826,   0,\n",
       "           29, 626,   0,  96, 371,   0, 779, 218, 194, 339,   0, 411,   0,\n",
       "          674, 120,   8, 436, 722,   0,  29,  35, 206, 304, 266, 230, 550,\n",
       "          411, 930])},\n",
       "  'TEST_CENSOR': {0: array([ 158, 1031,  179,  289,  245,  350,  327,  157,    1,    9, 1060,\n",
       "             0,  892,  545,  464,  253,  768,   84,   16,  274,  133,  578,\n",
       "           471,  218,  653,  210,  434,  283,  302,  188,  654,  439,  266,\n",
       "           509,  321,  108,  535,  512,  632,  544,    3,  237,  197,  326,\n",
       "           583,  697,   71,  283,  551,  339,  198,    0,  270, 1233,  481,\n",
       "           533,  382,  375,  609,   22,  650,  426,  195,  543, 1115,  725,\n",
       "           189, 1148,    0,  506,  602,   20,  740,  442,  383,  378,  361,\n",
       "           541,  485,  116,  329,   15,  494,  747,  218,  449,   68,  358,\n",
       "            80,  526,  264,  110,  234,  599,  737,  771,  816,  169,  612,\n",
       "           500,  485,  446,  339,  665,  141,  499,  206,  237,  683,  362,\n",
       "           486,  198,   41,  202,   55,  202,  620,  260,  155,  391,  138,\n",
       "           466,  768,  849,  755,  593,  468,  211,  256,  111,  211,  317,\n",
       "           865,  215,  554,  380,  315,  600,    0,  580,  633,  441,  550,\n",
       "           241,  115,  422,  715,  724,    0,  704,   75,  303,  579,  218,\n",
       "           283,  773,   48,  249,    0,  705,  110,  422,  752,  401,  466,\n",
       "           784,  326,  138,  231,  540,  657,  150,  603,  346,  315,  789,\n",
       "            22,  341,  629,  230,  154,  426,  108,    0,  178,   14,  623,\n",
       "           209,  513,  320,  367,  370,  339,  826,  157,  469,  274,  605,\n",
       "           225,  300,  326,   18,  371,  779,  218,  427,  830,  971,  194,\n",
       "           339,  160,  948,  694,  886,  524,  125,  411,    6,  235,  674,\n",
       "           737,  549,  510,    8,  164,  175,  513,  244,  589, 1055,   20,\n",
       "             0,  430,  490,   29,  345,  756,  656,   26,  670,  267,  528,\n",
       "           622,  353,   96,  161,  336,  591,  100,  230,  625,  609,  108,\n",
       "           693,   44,  230]),\n",
       "   3: array([ 133, 1016,  157,  289,  245,  339,  327,  157,    3, 1054,    0,\n",
       "           884,  534,  461,  247,  742,   84,    8,  266,  133,  578,  467,\n",
       "           218,  630,  172,  400,  279,  295,  181,  651,  402,  266,  495,\n",
       "           314,  108,  523,  509,  625,  447,    3,  230,  181,  322,  570,\n",
       "           686,   59,  254,  548,  339,  157,    0,  266, 1223,  481,  529,\n",
       "           378,  375,  609,   16,  650,  419,  169,  535, 1101,  711,  181,\n",
       "          1138,    0,  481,  596,   12,  722,  435,  383,  365,  339,  534,\n",
       "           481,  108,  325,   11,  481,  738,  218,  449,   60,  339,   58,\n",
       "           526,  255,  110,  230,  590,  717,  764,  809,  169,  601,  481,\n",
       "           481,  411,  339,  659,  132,  484,  206,  218,  662,  339,  480,\n",
       "           181,   35,  194,   47,  135,  620,  248,  150,  375,  134,  460,\n",
       "           756,  845,  742,  578,  447,  206,  218,   47,  206,  313,  865,\n",
       "           206,  554,  375,  311,  588,    0,  553,  625,  423,  537,  218,\n",
       "            84,  411,  708,  712,    0,  698,   72,  303,  553,  218,  263,\n",
       "           759,   41,  242,    0,  698,   72,  411,  747,  396,  453,  775,\n",
       "           303,  133,  231,  533,  651,  145,  598,  315,  304,  778,    5,\n",
       "           329,  615,  230,  145,  411,  108,    0,  171,   14,  614,  194,\n",
       "           505,  303,  352,  339,  339,  826,  145,  461,  266,  595,  218,\n",
       "           295,  303,   13,  371,  779,  218,  417,  820,  968,  194,  339,\n",
       "           157,  942,  678,  877,  520,  108,  411,    0,  218,  674,  731,\n",
       "           540,  504,    8,  148,  168,  510,  226,  578, 1052,   11,    0,\n",
       "           425,  485,   29,  339,  752,  650,   14,  662,  230,  505,  614,\n",
       "           343,   84,  157,  303,  580,   97,  230,  613,  601,  102,  688,\n",
       "             8,  218])}},\n",
       " 'sequence_length': {'TEST_OUTCOME': {0: array([ 35,   7,  44,  29,   3, 154,  34,  23,  31,  54,  75,   5,  36,\n",
       "           21,   9,   3,  10,   3,  59,  40,  63,  71,  23,   3,  32,  29,\n",
       "            3,   5,   3,  65,  54,  78,  58,  29,  70,  35,  10,  33,   3,\n",
       "          140,  41,  25,   3,  55, 112,  26,   3,  95,  41,   5,  69,   3,\n",
       "           14,  28,  39,  15,   3,  87,   9,  11,  72,  62,  35,  89,   3,\n",
       "           17,  50,   3,  19,  37,   3,  42,   6,  29,  13,   7,  18,   3,\n",
       "           68,  23,   9,  49,  89,   3,  17,  11,  39,   9,   7,  27,  38,\n",
       "           20, 205]),\n",
       "   3: array([ 33,   5,  42,  23,   1, 150,  32,  19,  27,  53,  73,   3,  34,\n",
       "           19,   7,   1,   8,   1,  52,  38,  53,  69,  21,   1,  30,  25,\n",
       "            1,   3,   1,  63,  52,  74,  49,  27,  68,  31,   3,  31,   1,\n",
       "          137,  35,  23,   1,  51, 105,  24,   1,  90,  39,   3,  67,   1,\n",
       "            9,  26,  32,  13,   1,  83,   7,   7,  70,  56,  33,  79,   1,\n",
       "           15,  47,   1,  17,  29,   1,  40,   4,  27,  11,   1,  16,   1,\n",
       "           66,  21,   7,  45,  75,   1,  15,   9,  37,   7,   5,  25,  36,\n",
       "           18, 200])},\n",
       "  'TEST_CENSOR': {0: array([  7, 122,   8,  33,   5,  58,  42,  23,   7,   7,  51,   1,  77,\n",
       "           26,  95,  51, 104,  19,  15,  46,  27,  53,  34,   3,  94,  13,\n",
       "           39,  22,  41,  29,  85,  27,  34,  38,  48,  19,  28,  17,  11,\n",
       "           39,   7,  12,   7,  19,  70,  34,  19,  11, 100,   8,  27,   1,\n",
       "           17,  52,  52,  28,  66,  38,  53,  13,  69,  94,  18,  29, 255,\n",
       "           67,   5,  85,   1,  36, 101,  13,  79,  52,  25,  22,  17,  63,\n",
       "           17,  29,  61,  11,  47,  58,   3,  63,  19,  42,  24,  74,  49,\n",
       "           27,  39,  60,  87,  50,  31,  31,  27,  46,  56,  57,   3,  83,\n",
       "           36,  50,  31,  31,  36,  47,  14,  11,  21,  17,   5,   7, 137,\n",
       "           36,   9,  10,  19,  28,  54,  45,  78,  25,  16,   9,  37,  19,\n",
       "            5,  51,  35,  24,  23,  15,  11,  28,   1,  51,  26,  55,  21,\n",
       "           17,   5,  42,  61,  62,   1,  77,   9,  39,  21,   3,  37,  26,\n",
       "           19,  45,   1,  43,  17,  45,  39,  45,  45,  16,  50,  21,   9,\n",
       "           69,  75,  35,  30,  51,  57, 115,   9,  92, 110,  32,  19,  49,\n",
       "           13,   1,  25,   7,  31,  22,  44,   9,  30,  14,  33,  79,  31,\n",
       "           57,  23,  27,  31,  37,  20,  15,  29,  40,   4,  36,  93, 417,\n",
       "           27,  11,  10,  66,  59, 166,  67,  15,  16,   7,  38,  66,  73,\n",
       "           99,  54,   7,  30,  13, 109,  36,  64, 114,  13,   1,  80,  16,\n",
       "           15,  20, 111,  74,   9,  68,  29,  49,  30,  50,  11,  29,  34,\n",
       "           20,  21,  25,  64,  77,   7, 101,  11,  44]),\n",
       "   3: array([  3, 118,   3,  33,   5,  56,  42,  23,   5,  49,   1,  73,  20,\n",
       "           72,  49,  94,  19,  13,  44,  27,  53,  29,   3,  88,   9,  37,\n",
       "           20,  39,  27,  73,  25,  34,  36,  46,  19,  26,  15,   9,  37,\n",
       "            7,  10,   5,  17,  66,  32,  15,   9,  96,   8,  23,   1,  15,\n",
       "           48,  52,  26,  64,  38,  53,   9,  69,  92,  16,  27, 244,  63,\n",
       "            3,  83,   1,  30,  99,  11,  77,  50,  25,  20,  15,  57,  15,\n",
       "           27,  51,   9,  45,  53,   3,  63,  17,  40,  22,  74,  46,  27,\n",
       "           34,  58,  78,  48,  29,  31,  25,  42,  54,  53,   3,  81,  34,\n",
       "           48,  31,  29,  31,  45,  12,   9,  17,  15,   3,   3, 137,  34,\n",
       "            7,   8,  17,  22,  52,  39,  65,  23,  14,   5,  29,  15,   3,\n",
       "           46,  35,  22,  23,  13,   9,  26,   1,  49,  24,  53,  19,  10,\n",
       "            3,  36,  45,  60,   1,  75,   5,  39,  16,   3,  35,  24,  17,\n",
       "           43,   1,  41,  15,  43,  35,  43,  43,  12,  39,  19,   9,  67,\n",
       "           69,  33,  25,  42,  49, 107,   5,  78, 103,  32,  17,  47,  13,\n",
       "            1,  23,   7,  29,  20,  42,   7,  28,  12,  33,  79,  27,  55,\n",
       "           21,  25,  29,  35,  18,  11,  29,  40,   4,  34,  91, 396,  27,\n",
       "           11,   8,  64,  50, 164,  44,  11,  16,   3,  36,  66,  68,  92,\n",
       "           45,   7,  26,  11, 100,  34,  60, 103,  11,   1,  78,  14,  15,\n",
       "           18, 100,  72,   7,  66,  27,  47,  23,  48,   7,  27,  30,  16,\n",
       "           19,  25,  60,  73,   5,  99,   9,  40])}},\n",
       " 'visits': {'TEST_OUTCOME': {0: array([16,  3, 20, 14,  1, 65, 15, 11, 15, 24, 34,  2, 16, 10,  4,  1,  4,\n",
       "           1, 27, 19, 28, 31, 11,  1, 14, 12,  1,  2,  1, 29, 26, 34, 26, 14,\n",
       "          33, 17,  4, 16,  1, 63, 19, 11,  1, 25, 44, 10,  1, 40, 19,  2, 29,\n",
       "           1,  6, 13, 17,  7,  1, 39,  4,  5, 32, 25, 16, 38,  1,  8, 22,  1,\n",
       "           9, 16,  1, 20,  2, 14,  5,  2,  7,  1, 32, 11,  4, 24, 37,  1,  8,\n",
       "           5, 19,  4,  3, 13, 16,  9, 86]),\n",
       "   3: array([15,  2, 19, 11,  0, 64, 14,  9, 13, 23, 33,  1, 15,  9,  3,  0,  3,\n",
       "           0, 24, 18, 23, 30, 10,  0, 13, 10,  0,  1,  0, 28, 25, 32, 22, 13,\n",
       "          32, 15,  1, 15,  0, 62, 16, 10,  0, 23, 42,  9,  0, 38, 18,  1, 28,\n",
       "           0,  4, 12, 14,  6,  0, 37,  3,  3, 31, 23, 15, 34,  0,  7, 21,  0,\n",
       "           8, 12,  0, 19,  1, 13,  4,  0,  6,  0, 31, 10,  3, 22, 31,  0,  7,\n",
       "           4, 18,  3,  2, 12, 15,  8, 85])},\n",
       "  'TEST_CENSOR': {0: array([  3,  59,   3,  15,   2,  25,  19,  11,   3,   3,  21,   0,  34,\n",
       "           12,  40,  21,  48,   9,   7,  21,  13,  23,  12,   1,  37,   6,\n",
       "           18,   9,  19,  14,  38,  13,  15,  16,  19,   9,  12,   7,   5,\n",
       "           18,   3,   5,   3,   7,  30,  14,   9,   4,  45,   3,  13,   0,\n",
       "            6,  22,  24,  10,  30,  18,  23,   6,  30,  41,   8,  12, 122,\n",
       "           30,   2,  38,   0,  13,  43,   6,  36,  23,  10,  10,   7,  24,\n",
       "            7,  14,  26,   5,  21,  23,   1,  28,   9,  19,  11,  32,  22,\n",
       "           13,  17,  28,  38,  23,  15,  15,  11,  21,  26,  26,   1,  35,\n",
       "           17,  21,  15,  15,  15,  21,   6,   5,  10,   8,   2,   3,  62,\n",
       "           16,   4,   4,   9,  11,  24,  21,  35,  11,   7,   4,  16,   9,\n",
       "            2,  24,  16,  11,  10,   6,   5,  12,   0,  23,  11,  23,  10,\n",
       "            7,   2,  18,  26,  28,   0,  34,   4,  18,   9,   1,  16,  12,\n",
       "            9,  20,   0,  18,   8,  21,  17,  21,  21,   7,  22,  10,   4,\n",
       "           31,  31,  17,  11,  23,  21,  50,   4,  39,  49,  14,   8,  24,\n",
       "            6,   0,  11,   3,  11,  10,  20,   4,  12,   6,  15,  34,  15,\n",
       "           26,  10,  12,  14,  18,   8,   7,  12,  19,   1,  15,  41, 185,\n",
       "           13,   4,   4,  26,  24,  78,  25,   7,   6,   3,  18,  31,  32,\n",
       "           47,  22,   3,  14,   6,  47,  17,  28,  52,   6,   0,  37,   7,\n",
       "            7,   8,  45,  32,   4,  31,  14,  22,  10,  23,   5,  14,  16,\n",
       "            7,  10,  12,  30,  34,   3,  44,   5,  20]),\n",
       "   3: array([  1,  57,   1,  15,   2,  24,  19,  11,   2,  20,   0,  32,   9,\n",
       "           29,  20,  44,   9,   6,  20,  13,  23,  10,   1,  34,   4,  17,\n",
       "            8,  18,  13,  32,  12,  15,  15,  18,   9,  11,   6,   4,  17,\n",
       "            3,   4,   2,   6,  28,  13,   7,   3,  43,   3,  11,   0,   5,\n",
       "           20,  24,   9,  29,  18,  23,   4,  30,  40,   7,  11, 117,  28,\n",
       "            1,  37,   0,  11,  42,   5,  35,  22,  10,   9,   6,  21,   6,\n",
       "           13,  23,   4,  20,  21,   1,  28,   8,  18,  10,  32,  21,  13,\n",
       "           15,  27,  34,  22,  14,  15,  10,  19,  25,  24,   1,  34,  16,\n",
       "           20,  15,  14,  13,  20,   5,   4,   8,   7,   1,   1,  62,  15,\n",
       "            3,   3,   8,   9,  23,  18,  29,  10,   6,   2,  13,   7,   1,\n",
       "           22,  16,  10,  10,   5,   4,  11,   0,  22,  10,  22,   9,   4,\n",
       "            1,  16,  20,  27,   0,  33,   2,  18,   7,   1,  15,  11,   8,\n",
       "           19,   0,  17,   7,  20,  15,  20,  20,   5,  18,   9,   4,  30,\n",
       "           29,  16,   9,  19,  18,  46,   2,  33,  46,  14,   7,  23,   6,\n",
       "            0,  10,   3,  10,   9,  19,   3,  11,   5,  15,  34,  13,  25,\n",
       "            9,  11,  13,  17,   7,   5,  12,  19,   1,  14,  40, 176,  13,\n",
       "            4,   3,  25,  20,  77,  17,   5,   6,   1,  17,  31,  30,  44,\n",
       "           18,   3,  12,   5,  43,  16,  26,  47,   5,   0,  36,   6,   7,\n",
       "            7,  40,  31,   3,  30,  13,  21,   7,  22,   3,  13,  14,   5,\n",
       "            9,  12,  28,  32,   2,  43,   4,  18])}}}"
      ]
     },
     "execution_count": 13,
     "metadata": {},
     "output_type": "execute_result"
    }
   ],
   "source": [
    "stats_dic"
   ]
  },
  {
   "cell_type": "markdown",
   "metadata": {},
   "source": [
    "## Visualize"
   ]
  },
  {
   "cell_type": "code",
   "execution_count": 26,
   "metadata": {},
   "outputs": [
    {
     "data": {
      "image/png": "[encoded data removed]",
      "text/plain": [
       "<Figure size 1200x1500 with 1 Axes>"
      ]
     },
     "metadata": {},
     "output_type": "display_data"
    }
   ],
   "source": [
    "# Prepare data for plotting\n",
    "x_values = []\n",
    "y_values = []\n",
    "areas = []  # Area of scatter plot points (e.g., number of patients)\n",
    "colors = []\n",
    "\n",
    "diseases = list(stats_dic['patient_counts_min1'].keys())\n",
    "\n",
    "# Color map\n",
    "cmap = plt.cm.get_cmap('Reds')\n",
    "color_range = cmap(np.linspace(0.2, 1, len(censoring_times)))\n",
    "\n",
    "for cutoff in cutoffs:\n",
    "    key = f'patient_counts_min{cutoff}'\n",
    "    for i, disease in enumerate(diseases):\n",
    "        for censor_idx, censor_time in enumerate(censoring_times):\n",
    "            count = stats_dic[key][disease].get(censor_time, [0])\n",
    "            x_values.append(cutoff + 0.2 * censor_idx)  # Slight offset for each censoring time\n",
    "            y_values.append(i)\n",
    "            areas.append(count * .07)  # Adjust multiplier as needed for visibility\n",
    "            colors.append(color_range[censor_idx])\n",
    "\n",
    "\n",
    "# Plotting\n",
    "plt.figure(figsize=(12, 15))\n",
    "scatter = plt.scatter(x_values, y_values, s=areas, c=colors, alpha=0.5)\n",
    "plt.xticks(cutoffs)\n",
    "plt.yticks(range(len(diseases)), diseases)\n",
    "plt.xlabel('Cutoffs')\n",
    "plt.ylabel('Diseases')\n",
    "plt.title('Number of Patients per Disease at Different Cutoffs and Censoring Times')\n",
    "\n",
    "# Create a legend for censoring times\n",
    "legend_labels_censor = [f'Censoring: {time} months' for time in censoring_times]\n",
    "legend_elements_censor = [plt.Line2D([0], [0], marker='o', color='w', label=label,\n",
    "                                     markersize=10, markerfacecolor=color) for label, color in zip(legend_labels_censor, color_range)]\n",
    "\n",
    "# Create a legend for sizes (using example sizes)\n",
    "size_labels = ['10 patients', '100 patients', '1000 patients', '10k', '100k']  # Example size labels\n",
    "size_values = [10, 100, 1000, 10000, 100000]  # Example sizes corresponding to the labels\n",
    "legend_elements_size = [plt.Line2D([0], [0], marker='o', color='grey', label=label,\n",
    "                                  markersize=np.sqrt(size*.07) , alpha=0.6, linestyle=\"None\") for label, size in zip(size_labels, size_values)]\n",
    "\n",
    "# Adding both legends to the plot\n",
    "plt.legend(handles=legend_elements_censor + legend_elements_size, title='Legend', bbox_to_anchor=(1.05, 1), loc='upper left')\n",
    "\n",
    "plt.show()"
   ]
  },
  {
   "cell_type": "code",
   "execution_count": 14,
   "metadata": {},
   "outputs": [
    {
     "ename": "",
     "evalue": "",
     "output_type": "error",
     "traceback": [
      "\u001b[1;31mThe Kernel crashed while executing code in the the current cell or a previous cell. Please review the code in the cell(s) to identify a possible cause of the failure. Click <a href='https://aka.ms/vscodeJupyterKernelCrash'>here</a> for more info. View Jupyter <a href='command:jupyter.viewOutput'>log</a> for further details."
     ]
    }
   ],
   "source": [
    "# Preparing data for plotting\n",
    "age_data = [(outcome, value) for outcome, values in stats_dic['ages'].items() for value in values]\n",
    "traj_len_data = [(outcome, value) for outcome, values in stats_dic['trajectory'].items() for value in values[0]]  # 0 censoring\n",
    "seq_len_data = [(outcome, value) for outcome, values in stats_dic['sequence_length'].items() for value in values[0]]  # 0 censoring\n",
    "visits_data = [(outcome, value) for outcome, values in stats_dic['visits'].items() for value in values[0]]  # 0 censoring\n",
    "\n",
    "# Convert to DataFrame\n",
    "df_age = pd.DataFrame(age_data, columns=['Outcome', 'Age'])\n",
    "df_traj_len = pd.DataFrame(traj_len_data, columns=['Outcome', 'Trajectory Length'])\n",
    "df_seq_len = pd.DataFrame(seq_len_data, columns=['Outcome', 'Sequence Length'])\n",
    "df_visits = pd.DataFrame(visits_data, columns=['Outcome', 'Visits'])\n",
    "\n",
    "# Plotting\n",
    "fig, axs = plt.subplots(4, 1, figsize=(10, 20))\n",
    "\n",
    "sns.violinplot(x='Age', y='Outcome', data=df_age, ax=axs[0], orient='h')\n",
    "axs[0].set_title('Age Distribution per Outcome')\n",
    "\n",
    "sns.violinplot(x='Trajectory Length', y='Outcome', data=df_traj_len, ax=axs[1], orient='h')\n",
    "axs[1].set_title('Trajectory Length Distribution per Outcome (0 Censoring)')\n",
    "\n",
    "sns.violinplot(x='Sequence Length', y='Outcome', data=df_seq_len, ax=axs[2], orient='h')\n",
    "axs[2].set_title('Sequence Length Distribution per Outcome (0 Censoring)')\n",
    "\n",
    "sns.violinplot(x='Visits', y='Outcome', data=df_visits, ax=axs[3], orient='h')\n",
    "axs[3].set_title('Visits Distribution per Outcome (0 Censoring)')\n",
    "for ax in axs:\n",
    "    ax.set_xas\n",
    "plt.tight_layout()\n",
    "plt.show()"
   ]
  },
  {
   "cell_type": "code",
   "execution_count": 8,
   "metadata": {},
   "outputs": [],
   "source": [
    "a = set(('abd', 'def'))\n",
    "b = set(('a', 'c'))\n",
    "a.update(b)"
   ]
  },
  {
   "cell_type": "code",
   "execution_count": 11,
   "metadata": {},
   "outputs": [],
   "source": [
    "import torch"
   ]
  },
  {
   "cell_type": "code",
   "execution_count": 34,
   "metadata": {},
   "outputs": [],
   "source": [
    "pids01 = torch.load(r'C:\\Users\\fjn197\\PhD\\projects\\PHAIR\\pipelines\\ehr2vec\\ehr2vec\\ehr2vec\\outputs\\pretraining\\behrt_test\\pids_val.pt')\n",
    "pids02 = torch.load(r'C:\\Users\\fjn197\\PhD\\projects\\PHAIR\\pipelines\\ehr2vec\\ehr2vec\\ehr2vec\\outputs\\pretraining\\behrt_test_2\\pids_val.pt')"
   ]
  },
  {
   "cell_type": "code",
   "execution_count": 35,
   "metadata": {},
   "outputs": [
    {
     "data": {
      "text/plain": [
       "True"
      ]
     },
     "execution_count": 35,
     "metadata": {},
     "output_type": "execute_result"
    }
   ],
   "source": [
    "pids01==pids02"
   ]
  }
 ],
 "metadata": {
  "kernelspec": {
   "display_name": "patbert",
   "language": "python",
   "name": "python3"
  },
  "language_info": {
   "codemirror_mode": {
    "name": "ipython",
    "version": 3
   },
   "file_extension": ".py",
   "mimetype": "text/x-python",
   "name": "python",
   "nbconvert_exporter": "python",
   "pygments_lexer": "ipython3",
   "version": "3.10.9"
  }
 },
 "nbformat": 4,
 "nbformat_minor": 2
}
