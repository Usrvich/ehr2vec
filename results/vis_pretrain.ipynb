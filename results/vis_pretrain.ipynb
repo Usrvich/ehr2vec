{
 "cells": [
  {
   "cell_type": "code",
   "execution_count": 7,
   "metadata": {},
   "outputs": [],
   "source": [
    "import plotly.express as px\n",
    "import plotly.graph_objects as go\n",
    "\n",
    "def make_graph(fig, levels, x_offset, y0s, names, frame=True, line=True, line_x=1.5, line_y=[0, 0], title=None, signs=[1, -1]):\n",
    "    deltay = 1\n",
    "    for level in range(levels):\n",
    "        # Set x\n",
    "        x = [x_offset+level, x_offset+level+1]\n",
    "\n",
    "        # Split ys\n",
    "        new_y0s = []\n",
    "        for y0 in y0s:\n",
    "            for i, sign in enumerate(signs):    # Top and bottom offset\n",
    "                if names[level][i] is None:\n",
    "                    continue\n",
    "                y = [y0, y0 + (sign * deltay)]\n",
    "                fig.add_trace(go.Scatter(\n",
    "                    x=x,\n",
    "                    y=y,\n",
    "                    mode=\"lines+markers\",\n",
    "\n",
    "                ))\n",
    "                fig.add_annotation(\n",
    "                    x=x[-1],\n",
    "                    y=y[-1] + (sign * 0.075),\n",
    "                    text=names[level][i],\n",
    "                    bgcolor=\"rgba(255, 255, 255, 0.75)\",\n",
    "                    showarrow=False,\n",
    "                )\n",
    "                new_y0s.append(y[-1])\n",
    "\n",
    "        # Set new params\n",
    "        deltay /= 2\n",
    "        y0s = new_y0s\n",
    "\n",
    "    if frame:\n",
    "        fig.add_shape(\n",
    "            type=\"rect\",\n",
    "            line=dict(\n",
    "                dash=\"dash\"\n",
    "            ),\n",
    "            x0=x_offset - 0.5,\n",
    "            y0=-2,\n",
    "            x1=x_offset + levels + 0.5,\n",
    "            y1=2,\n",
    "        )\n",
    "    if line:\n",
    "        x = x_offset + levels\n",
    "        fig.add_trace(go.Scatter(x=[x, x+line_x], y=line_y, mode=\"markers+lines\", line=dict(dash=\"dot\")))\n",
    "    if title:\n",
    "        fig.add_annotation(\n",
    "            x=x_offset + levels/2,\n",
    "            y=2.2,\n",
    "            text=title,\n",
    "            font=dict(\n",
    "                size=30,\n",
    "            ),\n",
    "            showarrow=False,\n",
    "        )"
   ]
  },
  {
   "cell_type": "code",
   "execution_count": 8,
   "metadata": {},
   "outputs": [
    {
     "data": {
      "application/vnd.plotly.v1+json": {
       "config": {
        "plotlyServerURL": "https://plot.ly"
       },
       "data": [
        {
         "hovertemplate": "<extra></extra>",
         "legendgroup": "",
         "line": {
          "color": "black"
         },
         "marker": {
          "color": "#636efa",
          "symbol": "circle"
         },
         "mode": "markers",
         "name": "",
         "orientation": "v",
         "showlegend": false,
         "textposition": "top center",
         "type": "scatter",
         "xaxis": "x",
         "yaxis": "y"
        },
        {
         "line": {
          "color": "black"
         },
         "mode": "lines+markers",
         "textposition": "top center",
         "type": "scatter",
         "x": [
          0,
          1
         ],
         "y": [
          0,
          1
         ]
        },
        {
         "line": {
          "color": "black"
         },
         "mode": "lines+markers",
         "textposition": "top center",
         "type": "scatter",
         "x": [
          0,
          1
         ],
         "y": [
          0,
          -1
         ]
        },
        {
         "line": {
          "color": "black"
         },
         "mode": "lines+markers",
         "textposition": "top center",
         "type": "scatter",
         "x": [
          1,
          2
         ],
         "y": [
          1,
          1.5
         ]
        },
        {
         "line": {
          "color": "black"
         },
         "mode": "lines+markers",
         "textposition": "top center",
         "type": "scatter",
         "x": [
          1,
          2
         ],
         "y": [
          1,
          0.5
         ]
        },
        {
         "line": {
          "color": "black"
         },
         "mode": "lines+markers",
         "textposition": "top center",
         "type": "scatter",
         "x": [
          1,
          2
         ],
         "y": [
          -1,
          -0.5
         ]
        },
        {
         "line": {
          "color": "black"
         },
         "mode": "lines+markers",
         "textposition": "top center",
         "type": "scatter",
         "x": [
          1,
          2
         ],
         "y": [
          -1,
          -1.5
         ]
        },
        {
         "line": {
          "color": "black"
         },
         "mode": "lines+markers",
         "textposition": "top center",
         "type": "scatter",
         "x": [
          2,
          3
         ],
         "y": [
          1.5,
          1.75
         ]
        },
        {
         "line": {
          "color": "black"
         },
         "mode": "lines+markers",
         "textposition": "top center",
         "type": "scatter",
         "x": [
          2,
          3
         ],
         "y": [
          1.5,
          1.25
         ]
        },
        {
         "line": {
          "color": "black"
         },
         "mode": "lines+markers",
         "textposition": "top center",
         "type": "scatter",
         "x": [
          2,
          3
         ],
         "y": [
          0.5,
          0.75
         ]
        },
        {
         "line": {
          "color": "black"
         },
         "mode": "lines+markers",
         "textposition": "top center",
         "type": "scatter",
         "x": [
          2,
          3
         ],
         "y": [
          0.5,
          0.25
         ]
        },
        {
         "line": {
          "color": "black"
         },
         "mode": "lines+markers",
         "textposition": "top center",
         "type": "scatter",
         "x": [
          2,
          3
         ],
         "y": [
          -0.5,
          -0.25
         ]
        },
        {
         "line": {
          "color": "black"
         },
         "mode": "lines+markers",
         "textposition": "top center",
         "type": "scatter",
         "x": [
          2,
          3
         ],
         "y": [
          -0.5,
          -0.75
         ]
        },
        {
         "line": {
          "color": "black"
         },
         "mode": "lines+markers",
         "textposition": "top center",
         "type": "scatter",
         "x": [
          2,
          3
         ],
         "y": [
          -1.5,
          -1.25
         ]
        },
        {
         "line": {
          "color": "black"
         },
         "mode": "lines+markers",
         "textposition": "top center",
         "type": "scatter",
         "x": [
          2,
          3
         ],
         "y": [
          -1.5,
          -1.75
         ]
        },
        {
         "line": {
          "color": "black",
          "dash": "dot"
         },
         "mode": "markers+lines",
         "textposition": "top center",
         "type": "scatter",
         "x": [
          3,
          4.5
         ],
         "y": [
          0.75,
          0
         ]
        },
        {
         "line": {
          "color": "black"
         },
         "mode": "lines+markers",
         "textposition": "top center",
         "type": "scatter",
         "x": [
          4.5,
          5.5
         ],
         "y": [
          0,
          1
         ]
        },
        {
         "line": {
          "color": "black"
         },
         "mode": "lines+markers",
         "textposition": "top center",
         "type": "scatter",
         "x": [
          4.5,
          5.5
         ],
         "y": [
          0,
          -1
         ]
        },
        {
         "line": {
          "color": "black"
         },
         "mode": "lines+markers",
         "textposition": "top center",
         "type": "scatter",
         "x": [
          5.5,
          6.5
         ],
         "y": [
          1,
          1.5
         ]
        },
        {
         "line": {
          "color": "black"
         },
         "mode": "lines+markers",
         "textposition": "top center",
         "type": "scatter",
         "x": [
          5.5,
          6.5
         ],
         "y": [
          1,
          0.5
         ]
        },
        {
         "line": {
          "color": "black"
         },
         "mode": "lines+markers",
         "textposition": "top center",
         "type": "scatter",
         "x": [
          5.5,
          6.5
         ],
         "y": [
          -1,
          -0.5
         ]
        },
        {
         "line": {
          "color": "black"
         },
         "mode": "lines+markers",
         "textposition": "top center",
         "type": "scatter",
         "x": [
          5.5,
          6.5
         ],
         "y": [
          -1,
          -1.5
         ]
        },
        {
         "line": {
          "color": "black",
          "dash": "dot"
         },
         "mode": "markers+lines",
         "textposition": "top center",
         "type": "scatter",
         "x": [
          6.5,
          8
         ],
         "y": [
          0.5,
          0
         ]
        },
        {
         "line": {
          "color": "black"
         },
         "mode": "lines+markers",
         "textposition": "top center",
         "type": "scatter",
         "x": [
          8,
          9
         ],
         "y": [
          0,
          1
         ]
        },
        {
         "line": {
          "color": "black"
         },
         "mode": "lines+markers",
         "textposition": "top center",
         "type": "scatter",
         "x": [
          8,
          9
         ],
         "y": [
          0,
          -1
         ]
        },
        {
         "line": {
          "color": "black"
         },
         "mode": "lines+markers",
         "textposition": "top center",
         "type": "scatter",
         "x": [
          9,
          10
         ],
         "y": [
          1,
          1.5
         ]
        },
        {
         "line": {
          "color": "black"
         },
         "mode": "lines+markers",
         "textposition": "top center",
         "type": "scatter",
         "x": [
          9,
          10
         ],
         "y": [
          1,
          1
         ]
        },
        {
         "line": {
          "color": "black"
         },
         "mode": "lines+markers",
         "textposition": "top center",
         "type": "scatter",
         "x": [
          9,
          10
         ],
         "y": [
          1,
          0.5
         ]
        },
        {
         "line": {
          "color": "black"
         },
         "mode": "lines+markers",
         "textposition": "top center",
         "type": "scatter",
         "x": [
          9,
          10
         ],
         "y": [
          -1,
          -0.5
         ]
        },
        {
         "line": {
          "color": "black"
         },
         "mode": "lines+markers",
         "textposition": "top center",
         "type": "scatter",
         "x": [
          9,
          10
         ],
         "y": [
          -1,
          -1
         ]
        },
        {
         "line": {
          "color": "black"
         },
         "mode": "lines+markers",
         "textposition": "top center",
         "type": "scatter",
         "x": [
          9,
          10
         ],
         "y": [
          -1,
          -1.5
         ]
        },
        {
         "mode": "text",
         "text": "BEHRT",
         "textposition": "middle left",
         "type": "scatter",
         "x": [
          0
         ],
         "y": [
          0
         ]
        }
       ],
       "layout": {
        "annotations": [
         {
          "bgcolor": "rgba(255, 255, 255, 0.75)",
          "showarrow": false,
          "text": "Background info",
          "x": 1,
          "y": 1.075
         },
         {
          "bgcolor": "rgba(255, 255, 255, 0.75)",
          "showarrow": false,
          "text": "No background info",
          "x": 1,
          "y": -1.075
         },
         {
          "bgcolor": "rgba(255, 255, 255, 0.75)",
          "showarrow": false,
          "text": "Cutoff vocab",
          "x": 2,
          "y": 1.575
         },
         {
          "bgcolor": "rgba(255, 255, 255, 0.75)",
          "showarrow": false,
          "text": "Full vocab",
          "x": 2,
          "y": 0.425
         },
         {
          "bgcolor": "rgba(255, 255, 255, 0.75)",
          "showarrow": false,
          "text": "Cutoff vocab",
          "x": 2,
          "y": -0.425
         },
         {
          "bgcolor": "rgba(255, 255, 255, 0.75)",
          "showarrow": false,
          "text": "Full vocab",
          "x": 2,
          "y": -1.575
         },
         {
          "bgcolor": "rgba(255, 255, 255, 0.75)",
          "showarrow": false,
          "text": "[SEP]",
          "x": 3,
          "y": 1.825
         },
         {
          "bgcolor": "rgba(255, 255, 255, 0.75)",
          "showarrow": false,
          "text": "No [SEP]",
          "x": 3,
          "y": 1.175
         },
         {
          "bgcolor": "rgba(255, 255, 255, 0.75)",
          "showarrow": false,
          "text": "[SEP]",
          "x": 3,
          "y": 0.825
         },
         {
          "bgcolor": "rgba(255, 255, 255, 0.75)",
          "showarrow": false,
          "text": "No [SEP]",
          "x": 3,
          "y": 0.175
         },
         {
          "bgcolor": "rgba(255, 255, 255, 0.75)",
          "showarrow": false,
          "text": "[SEP]",
          "x": 3,
          "y": -0.175
         },
         {
          "bgcolor": "rgba(255, 255, 255, 0.75)",
          "showarrow": false,
          "text": "No [SEP]",
          "x": 3,
          "y": -0.825
         },
         {
          "bgcolor": "rgba(255, 255, 255, 0.75)",
          "showarrow": false,
          "text": "[SEP]",
          "x": 3,
          "y": -1.175
         },
         {
          "bgcolor": "rgba(255, 255, 255, 0.75)",
          "showarrow": false,
          "text": "No [SEP]",
          "x": 3,
          "y": -1.825
         },
         {
          "font": {
           "size": 30
          },
          "showarrow": false,
          "text": "Data",
          "x": 1.5,
          "y": 2.2
         },
         {
          "bgcolor": "rgba(255, 255, 255, 0.75)",
          "showarrow": false,
          "text": "Our embeddings",
          "x": 5.5,
          "y": 1.075
         },
         {
          "bgcolor": "rgba(255, 255, 255, 0.75)",
          "showarrow": false,
          "text": "Original embeddings",
          "x": 5.5,
          "y": -1.075
         },
         {
          "bgcolor": "rgba(255, 255, 255, 0.75)",
          "showarrow": false,
          "text": "Linear combination",
          "x": 6.5,
          "y": 1.575
         },
         {
          "bgcolor": "rgba(255, 255, 255, 0.75)",
          "showarrow": false,
          "text": "Trainable combination",
          "x": 6.5,
          "y": 0.425
         },
         {
          "bgcolor": "rgba(255, 255, 255, 0.75)",
          "showarrow": false,
          "text": "Linear combination",
          "x": 6.5,
          "y": -0.425
         },
         {
          "bgcolor": "rgba(255, 255, 255, 0.75)",
          "showarrow": false,
          "text": "Trainable combination",
          "x": 6.5,
          "y": -1.575
         },
         {
          "font": {
           "size": 30
          },
          "showarrow": false,
          "text": "Architecture",
          "x": 5.5,
          "y": 2.2
         },
         {
          "bgcolor": "rgba(255, 255, 255, 0.75)",
          "showarrow": false,
          "text": "80-10-10 strategy",
          "x": 9,
          "y": 1.075
         },
         {
          "bgcolor": "rgba(255, 255, 255, 0.75)",
          "showarrow": false,
          "text": "100 strategy",
          "x": 9,
          "y": -1.075
         },
         {
          "bgcolor": "rgba(255, 255, 255, 0.75)",
          "showarrow": false,
          "text": "15%",
          "x": 10,
          "y": 1.575
         },
         {
          "bgcolor": "rgba(255, 255, 255, 0.75)",
          "showarrow": false,
          "text": "30%",
          "x": 10,
          "y": 1
         },
         {
          "bgcolor": "rgba(255, 255, 255, 0.75)",
          "showarrow": false,
          "text": "40%",
          "x": 10,
          "y": 0.425
         },
         {
          "bgcolor": "rgba(255, 255, 255, 0.75)",
          "showarrow": false,
          "text": "15%",
          "x": 10,
          "y": -0.425
         },
         {
          "bgcolor": "rgba(255, 255, 255, 0.75)",
          "showarrow": false,
          "text": "30%",
          "x": 10,
          "y": -1
         },
         {
          "bgcolor": "rgba(255, 255, 255, 0.75)",
          "showarrow": false,
          "text": "40%",
          "x": 10,
          "y": -1.575
         },
         {
          "font": {
           "size": 30
          },
          "showarrow": false,
          "text": "Masking",
          "x": 9,
          "y": 2.2
         },
         {
          "showarrow": false,
          "text": "1",
          "x": 3.3,
          "y": 0.75
         },
         {
          "showarrow": false,
          "text": "6",
          "x": 3.3,
          "y": 0.25
         },
         {
          "showarrow": false,
          "text": "2",
          "x": 3.3,
          "y": 1.75
         },
         {
          "showarrow": false,
          "text": "3",
          "x": 3.3,
          "y": 1.25
         },
         {
          "showarrow": false,
          "text": "5",
          "x": 3.3,
          "y": -1.25
         },
         {
          "showarrow": false,
          "text": "8",
          "x": 3.3,
          "y": -1.75
         },
         {
          "showarrow": false,
          "text": "4",
          "x": 3.3,
          "y": -0.25
         },
         {
          "showarrow": false,
          "text": "7",
          "x": 3.3,
          "y": -0.75
         },
         {
          "showarrow": false,
          "text": "2",
          "x": 6.8,
          "y": 1.5
         },
         {
          "showarrow": false,
          "text": "1",
          "x": 6.8,
          "y": 0.5
         },
         {
          "showarrow": false,
          "text": "3",
          "x": 6.8,
          "y": -0.5
         },
         {
          "showarrow": false,
          "text": "4",
          "x": 6.8,
          "y": -1.5
         }
        ],
        "height": 600,
        "legend": {
         "tracegroupgap": 0
        },
        "margin": {
         "t": 60
        },
        "plot_bgcolor": "white",
        "shapes": [
         {
          "line": {
           "dash": "dash"
          },
          "type": "rect",
          "x0": -0.5,
          "x1": 3.5,
          "y0": -2,
          "y1": 2
         },
         {
          "line": {
           "dash": "dash"
          },
          "type": "rect",
          "x0": 4,
          "x1": 7,
          "y0": -2,
          "y1": 2
         },
         {
          "line": {
           "dash": "dash"
          },
          "type": "rect",
          "x0": 7.5,
          "x1": 10.5,
          "y0": -2,
          "y1": 2
         }
        ],
        "showlegend": false,
        "template": {
         "data": {
          "bar": [
           {
            "error_x": {
             "color": "#2a3f5f"
            },
            "error_y": {
             "color": "#2a3f5f"
            },
            "marker": {
             "line": {
              "color": "#E5ECF6",
              "width": 0.5
             },
             "pattern": {
              "fillmode": "overlay",
              "size": 10,
              "solidity": 0.2
             }
            },
            "type": "bar"
           }
          ],
          "barpolar": [
           {
            "marker": {
             "line": {
              "color": "#E5ECF6",
              "width": 0.5
             },
             "pattern": {
              "fillmode": "overlay",
              "size": 10,
              "solidity": 0.2
             }
            },
            "type": "barpolar"
           }
          ],
          "carpet": [
           {
            "aaxis": {
             "endlinecolor": "#2a3f5f",
             "gridcolor": "white",
             "linecolor": "white",
             "minorgridcolor": "white",
             "startlinecolor": "#2a3f5f"
            },
            "baxis": {
             "endlinecolor": "#2a3f5f",
             "gridcolor": "white",
             "linecolor": "white",
             "minorgridcolor": "white",
             "startlinecolor": "#2a3f5f"
            },
            "type": "carpet"
           }
          ],
          "choropleth": [
           {
            "colorbar": {
             "outlinewidth": 0,
             "ticks": ""
            },
            "type": "choropleth"
           }
          ],
          "contour": [
           {
            "colorbar": {
             "outlinewidth": 0,
             "ticks": ""
            },
            "colorscale": [
             [
              0,
              "#0d0887"
             ],
             [
              0.1111111111111111,
              "#46039f"
             ],
             [
              0.2222222222222222,
              "#7201a8"
             ],
             [
              0.3333333333333333,
              "#9c179e"
             ],
             [
              0.4444444444444444,
              "#bd3786"
             ],
             [
              0.5555555555555556,
              "#d8576b"
             ],
             [
              0.6666666666666666,
              "#ed7953"
             ],
             [
              0.7777777777777778,
              "#fb9f3a"
             ],
             [
              0.8888888888888888,
              "#fdca26"
             ],
             [
              1,
              "#f0f921"
             ]
            ],
            "type": "contour"
           }
          ],
          "contourcarpet": [
           {
            "colorbar": {
             "outlinewidth": 0,
             "ticks": ""
            },
            "type": "contourcarpet"
           }
          ],
          "heatmap": [
           {
            "colorbar": {
             "outlinewidth": 0,
             "ticks": ""
            },
            "colorscale": [
             [
              0,
              "#0d0887"
             ],
             [
              0.1111111111111111,
              "#46039f"
             ],
             [
              0.2222222222222222,
              "#7201a8"
             ],
             [
              0.3333333333333333,
              "#9c179e"
             ],
             [
              0.4444444444444444,
              "#bd3786"
             ],
             [
              0.5555555555555556,
              "#d8576b"
             ],
             [
              0.6666666666666666,
              "#ed7953"
             ],
             [
              0.7777777777777778,
              "#fb9f3a"
             ],
             [
              0.8888888888888888,
              "#fdca26"
             ],
             [
              1,
              "#f0f921"
             ]
            ],
            "type": "heatmap"
           }
          ],
          "heatmapgl": [
           {
            "colorbar": {
             "outlinewidth": 0,
             "ticks": ""
            },
            "colorscale": [
             [
              0,
              "#0d0887"
             ],
             [
              0.1111111111111111,
              "#46039f"
             ],
             [
              0.2222222222222222,
              "#7201a8"
             ],
             [
              0.3333333333333333,
              "#9c179e"
             ],
             [
              0.4444444444444444,
              "#bd3786"
             ],
             [
              0.5555555555555556,
              "#d8576b"
             ],
             [
              0.6666666666666666,
              "#ed7953"
             ],
             [
              0.7777777777777778,
              "#fb9f3a"
             ],
             [
              0.8888888888888888,
              "#fdca26"
             ],
             [
              1,
              "#f0f921"
             ]
            ],
            "type": "heatmapgl"
           }
          ],
          "histogram": [
           {
            "marker": {
             "pattern": {
              "fillmode": "overlay",
              "size": 10,
              "solidity": 0.2
             }
            },
            "type": "histogram"
           }
          ],
          "histogram2d": [
           {
            "colorbar": {
             "outlinewidth": 0,
             "ticks": ""
            },
            "colorscale": [
             [
              0,
              "#0d0887"
             ],
             [
              0.1111111111111111,
              "#46039f"
             ],
             [
              0.2222222222222222,
              "#7201a8"
             ],
             [
              0.3333333333333333,
              "#9c179e"
             ],
             [
              0.4444444444444444,
              "#bd3786"
             ],
             [
              0.5555555555555556,
              "#d8576b"
             ],
             [
              0.6666666666666666,
              "#ed7953"
             ],
             [
              0.7777777777777778,
              "#fb9f3a"
             ],
             [
              0.8888888888888888,
              "#fdca26"
             ],
             [
              1,
              "#f0f921"
             ]
            ],
            "type": "histogram2d"
           }
          ],
          "histogram2dcontour": [
           {
            "colorbar": {
             "outlinewidth": 0,
             "ticks": ""
            },
            "colorscale": [
             [
              0,
              "#0d0887"
             ],
             [
              0.1111111111111111,
              "#46039f"
             ],
             [
              0.2222222222222222,
              "#7201a8"
             ],
             [
              0.3333333333333333,
              "#9c179e"
             ],
             [
              0.4444444444444444,
              "#bd3786"
             ],
             [
              0.5555555555555556,
              "#d8576b"
             ],
             [
              0.6666666666666666,
              "#ed7953"
             ],
             [
              0.7777777777777778,
              "#fb9f3a"
             ],
             [
              0.8888888888888888,
              "#fdca26"
             ],
             [
              1,
              "#f0f921"
             ]
            ],
            "type": "histogram2dcontour"
           }
          ],
          "mesh3d": [
           {
            "colorbar": {
             "outlinewidth": 0,
             "ticks": ""
            },
            "type": "mesh3d"
           }
          ],
          "parcoords": [
           {
            "line": {
             "colorbar": {
              "outlinewidth": 0,
              "ticks": ""
             }
            },
            "type": "parcoords"
           }
          ],
          "pie": [
           {
            "automargin": true,
            "type": "pie"
           }
          ],
          "scatter": [
           {
            "fillpattern": {
             "fillmode": "overlay",
             "size": 10,
             "solidity": 0.2
            },
            "type": "scatter"
           }
          ],
          "scatter3d": [
           {
            "line": {
             "colorbar": {
              "outlinewidth": 0,
              "ticks": ""
             }
            },
            "marker": {
             "colorbar": {
              "outlinewidth": 0,
              "ticks": ""
             }
            },
            "type": "scatter3d"
           }
          ],
          "scattercarpet": [
           {
            "marker": {
             "colorbar": {
              "outlinewidth": 0,
              "ticks": ""
             }
            },
            "type": "scattercarpet"
           }
          ],
          "scattergeo": [
           {
            "marker": {
             "colorbar": {
              "outlinewidth": 0,
              "ticks": ""
             }
            },
            "type": "scattergeo"
           }
          ],
          "scattergl": [
           {
            "marker": {
             "colorbar": {
              "outlinewidth": 0,
              "ticks": ""
             }
            },
            "type": "scattergl"
           }
          ],
          "scattermapbox": [
           {
            "marker": {
             "colorbar": {
              "outlinewidth": 0,
              "ticks": ""
             }
            },
            "type": "scattermapbox"
           }
          ],
          "scatterpolar": [
           {
            "marker": {
             "colorbar": {
              "outlinewidth": 0,
              "ticks": ""
             }
            },
            "type": "scatterpolar"
           }
          ],
          "scatterpolargl": [
           {
            "marker": {
             "colorbar": {
              "outlinewidth": 0,
              "ticks": ""
             }
            },
            "type": "scatterpolargl"
           }
          ],
          "scatterternary": [
           {
            "marker": {
             "colorbar": {
              "outlinewidth": 0,
              "ticks": ""
             }
            },
            "type": "scatterternary"
           }
          ],
          "surface": [
           {
            "colorbar": {
             "outlinewidth": 0,
             "ticks": ""
            },
            "colorscale": [
             [
              0,
              "#0d0887"
             ],
             [
              0.1111111111111111,
              "#46039f"
             ],
             [
              0.2222222222222222,
              "#7201a8"
             ],
             [
              0.3333333333333333,
              "#9c179e"
             ],
             [
              0.4444444444444444,
              "#bd3786"
             ],
             [
              0.5555555555555556,
              "#d8576b"
             ],
             [
              0.6666666666666666,
              "#ed7953"
             ],
             [
              0.7777777777777778,
              "#fb9f3a"
             ],
             [
              0.8888888888888888,
              "#fdca26"
             ],
             [
              1,
              "#f0f921"
             ]
            ],
            "type": "surface"
           }
          ],
          "table": [
           {
            "cells": {
             "fill": {
              "color": "#EBF0F8"
             },
             "line": {
              "color": "white"
             }
            },
            "header": {
             "fill": {
              "color": "#C8D4E3"
             },
             "line": {
              "color": "white"
             }
            },
            "type": "table"
           }
          ]
         },
         "layout": {
          "annotationdefaults": {
           "arrowcolor": "#2a3f5f",
           "arrowhead": 0,
           "arrowwidth": 1
          },
          "autotypenumbers": "strict",
          "coloraxis": {
           "colorbar": {
            "outlinewidth": 0,
            "ticks": ""
           }
          },
          "colorscale": {
           "diverging": [
            [
             0,
             "#8e0152"
            ],
            [
             0.1,
             "#c51b7d"
            ],
            [
             0.2,
             "#de77ae"
            ],
            [
             0.3,
             "#f1b6da"
            ],
            [
             0.4,
             "#fde0ef"
            ],
            [
             0.5,
             "#f7f7f7"
            ],
            [
             0.6,
             "#e6f5d0"
            ],
            [
             0.7,
             "#b8e186"
            ],
            [
             0.8,
             "#7fbc41"
            ],
            [
             0.9,
             "#4d9221"
            ],
            [
             1,
             "#276419"
            ]
           ],
           "sequential": [
            [
             0,
             "#0d0887"
            ],
            [
             0.1111111111111111,
             "#46039f"
            ],
            [
             0.2222222222222222,
             "#7201a8"
            ],
            [
             0.3333333333333333,
             "#9c179e"
            ],
            [
             0.4444444444444444,
             "#bd3786"
            ],
            [
             0.5555555555555556,
             "#d8576b"
            ],
            [
             0.6666666666666666,
             "#ed7953"
            ],
            [
             0.7777777777777778,
             "#fb9f3a"
            ],
            [
             0.8888888888888888,
             "#fdca26"
            ],
            [
             1,
             "#f0f921"
            ]
           ],
           "sequentialminus": [
            [
             0,
             "#0d0887"
            ],
            [
             0.1111111111111111,
             "#46039f"
            ],
            [
             0.2222222222222222,
             "#7201a8"
            ],
            [
             0.3333333333333333,
             "#9c179e"
            ],
            [
             0.4444444444444444,
             "#bd3786"
            ],
            [
             0.5555555555555556,
             "#d8576b"
            ],
            [
             0.6666666666666666,
             "#ed7953"
            ],
            [
             0.7777777777777778,
             "#fb9f3a"
            ],
            [
             0.8888888888888888,
             "#fdca26"
            ],
            [
             1,
             "#f0f921"
            ]
           ]
          },
          "colorway": [
           "#636efa",
           "#EF553B",
           "#00cc96",
           "#ab63fa",
           "#FFA15A",
           "#19d3f3",
           "#FF6692",
           "#B6E880",
           "#FF97FF",
           "#FECB52"
          ],
          "font": {
           "color": "#2a3f5f"
          },
          "geo": {
           "bgcolor": "white",
           "lakecolor": "white",
           "landcolor": "#E5ECF6",
           "showlakes": true,
           "showland": true,
           "subunitcolor": "white"
          },
          "hoverlabel": {
           "align": "left"
          },
          "hovermode": "closest",
          "mapbox": {
           "style": "light"
          },
          "paper_bgcolor": "white",
          "plot_bgcolor": "#E5ECF6",
          "polar": {
           "angularaxis": {
            "gridcolor": "white",
            "linecolor": "white",
            "ticks": ""
           },
           "bgcolor": "#E5ECF6",
           "radialaxis": {
            "gridcolor": "white",
            "linecolor": "white",
            "ticks": ""
           }
          },
          "scene": {
           "xaxis": {
            "backgroundcolor": "#E5ECF6",
            "gridcolor": "white",
            "gridwidth": 2,
            "linecolor": "white",
            "showbackground": true,
            "ticks": "",
            "zerolinecolor": "white"
           },
           "yaxis": {
            "backgroundcolor": "#E5ECF6",
            "gridcolor": "white",
            "gridwidth": 2,
            "linecolor": "white",
            "showbackground": true,
            "ticks": "",
            "zerolinecolor": "white"
           },
           "zaxis": {
            "backgroundcolor": "#E5ECF6",
            "gridcolor": "white",
            "gridwidth": 2,
            "linecolor": "white",
            "showbackground": true,
            "ticks": "",
            "zerolinecolor": "white"
           }
          },
          "shapedefaults": {
           "line": {
            "color": "#2a3f5f"
           }
          },
          "ternary": {
           "aaxis": {
            "gridcolor": "white",
            "linecolor": "white",
            "ticks": ""
           },
           "baxis": {
            "gridcolor": "white",
            "linecolor": "white",
            "ticks": ""
           },
           "bgcolor": "#E5ECF6",
           "caxis": {
            "gridcolor": "white",
            "linecolor": "white",
            "ticks": ""
           }
          },
          "title": {
           "x": 0.05
          },
          "xaxis": {
           "automargin": true,
           "gridcolor": "white",
           "linecolor": "white",
           "ticks": "",
           "title": {
            "standoff": 15
           },
           "zerolinecolor": "white",
           "zerolinewidth": 2
          },
          "yaxis": {
           "automargin": true,
           "gridcolor": "white",
           "linecolor": "white",
           "ticks": "",
           "title": {
            "standoff": 15
           },
           "zerolinecolor": "white",
           "zerolinewidth": 2
          }
         }
        },
        "xaxis": {
         "anchor": "y",
         "domain": [
          0,
          1
         ],
         "visible": false
        },
        "yaxis": {
         "anchor": "x",
         "domain": [
          0,
          1
         ],
         "visible": false
        }
       }
      }
     },
     "metadata": {},
     "output_type": "display_data"
    }
   ],
   "source": [
    "fig = px.scatter()\n",
    "\n",
    "make_graph(\n",
    "    fig, \n",
    "    levels=3, \n",
    "    x_offset=0, \n",
    "    y0s=[0], \n",
    "    names=[(\"Background info\", \"No background info\"), (\"Cutoff vocab\", \"Full vocab\"), (\"[SEP]\", \"No [SEP]\")],\n",
    "    line_y=[0.75, 0],\n",
    "    title=\"Data\"    \n",
    ")\n",
    "make_graph(\n",
    "    fig, \n",
    "    levels=2, \n",
    "    x_offset=4.5, \n",
    "    y0s=[0], \n",
    "    names=[(\"Our embeddings\", \"Original embeddings\"), (\"Linear combination\", \"Trainable combination\"), ],\n",
    "    line_y=[0.5, 0],\n",
    "    title=\"Architecture\",\n",
    ")\n",
    "make_graph(\n",
    "    fig, \n",
    "    levels=2, \n",
    "    x_offset=8, \n",
    "    y0s=[0],\n",
    "    signs=[1, 0, -1],\n",
    "    names=[(\"80-10-10 strategy\", None, \"100 strategy\"), (\"15%\", \"30%\", \"40%\")],\n",
    "    line=False,\n",
    "    title=\"Masking\"\n",
    ")\n",
    "\n",
    "fig.update_layout(\n",
    "    height=600,\n",
    "    plot_bgcolor=\"white\",\n",
    "    xaxis=dict(\n",
    "        visible=False\n",
    "    ),\n",
    "    yaxis=dict(\n",
    "        visible=False\n",
    "    ),\n",
    "    showlegend=False,\n",
    ")\n",
    "\n",
    "fig.update_traces(\n",
    "    textposition=\"top center\",\n",
    "    line=dict(\n",
    "        color=\"black\",\n",
    "    ),\n",
    ")\n",
    "\n",
    "fig.add_trace(go.Scatter(x=[0], y=[0], mode=\"text\", text=\"BEHRT\", textposition=\"middle left\"))\n",
    "\n",
    "# Rankings (temp)\n",
    "fig.add_annotation(x=3.3, y=0.75, text=1, showarrow=False)\n",
    "fig.add_annotation(x=3.3, y=0.25, text=6, showarrow=False)\n",
    "fig.add_annotation(x=3.3, y=1.75, text=2, showarrow=False)\n",
    "fig.add_annotation(x=3.3, y=1.25, text=3, showarrow=False)\n",
    "fig.add_annotation(x=3.3, y=-1.25, text=5, showarrow=False)\n",
    "fig.add_annotation(x=3.3, y=-1.75, text=8, showarrow=False)\n",
    "fig.add_annotation(x=3.3, y=-0.25, text=4, showarrow=False)\n",
    "fig.add_annotation(x=3.3, y=-0.75, text=7, showarrow=False)\n",
    "\n",
    "fig.add_annotation(x=6.8, y=1.5, text=2, showarrow=False)\n",
    "fig.add_annotation(x=6.8, y=0.5, text=1, showarrow=False)\n",
    "fig.add_annotation(x=6.8, y=-0.5, text=3, showarrow=False)\n",
    "fig.add_annotation(x=6.8, y=-1.5, text=4, showarrow=False)\n",
    "\n",
    "\n",
    "fig.show()"
   ]
  },
  {
   "cell_type": "code",
   "execution_count": 9,
   "metadata": {},
   "outputs": [
    {
     "data": {
      "application/vnd.plotly.v1+json": {
       "config": {
        "plotlyServerURL": "https://plot.ly"
       },
       "data": [
        {
         "hovertemplate": "<extra></extra>",
         "legendgroup": "",
         "line": {
          "color": "black"
         },
         "marker": {
          "color": "#636efa",
          "symbol": "circle"
         },
         "mode": "markers",
         "name": "",
         "orientation": "v",
         "showlegend": false,
         "textposition": "top center",
         "type": "scatter",
         "xaxis": "x",
         "yaxis": "y"
        },
        {
         "line": {
          "color": "black"
         },
         "mode": "lines+markers",
         "textposition": "top center",
         "type": "scatter",
         "x": [
          0,
          1
         ],
         "y": [
          0,
          1
         ]
        },
        {
         "line": {
          "color": "black"
         },
         "mode": "lines+markers",
         "textposition": "top center",
         "type": "scatter",
         "x": [
          0,
          1
         ],
         "y": [
          0,
          -1
         ]
        },
        {
         "line": {
          "color": "black"
         },
         "mode": "lines+markers",
         "textposition": "top center",
         "type": "scatter",
         "x": [
          1,
          2
         ],
         "y": [
          1,
          1.5
         ]
        },
        {
         "line": {
          "color": "black"
         },
         "mode": "lines+markers",
         "textposition": "top center",
         "type": "scatter",
         "x": [
          1,
          2
         ],
         "y": [
          1,
          0.5
         ]
        },
        {
         "line": {
          "color": "black"
         },
         "mode": "lines+markers",
         "textposition": "top center",
         "type": "scatter",
         "x": [
          1,
          2
         ],
         "y": [
          -1,
          -0.5
         ]
        },
        {
         "line": {
          "color": "black"
         },
         "mode": "lines+markers",
         "textposition": "top center",
         "type": "scatter",
         "x": [
          1,
          2
         ],
         "y": [
          -1,
          -1.5
         ]
        },
        {
         "line": {
          "color": "black"
         },
         "mode": "lines+markers",
         "textposition": "top center",
         "type": "scatter",
         "x": [
          2,
          3
         ],
         "y": [
          1.5,
          1.75
         ]
        },
        {
         "line": {
          "color": "black"
         },
         "mode": "lines+markers",
         "textposition": "top center",
         "type": "scatter",
         "x": [
          2,
          3
         ],
         "y": [
          1.5,
          1.25
         ]
        },
        {
         "line": {
          "color": "black"
         },
         "mode": "lines+markers",
         "textposition": "top center",
         "type": "scatter",
         "x": [
          2,
          3
         ],
         "y": [
          0.5,
          0.75
         ]
        },
        {
         "line": {
          "color": "black"
         },
         "mode": "lines+markers",
         "textposition": "top center",
         "type": "scatter",
         "x": [
          2,
          3
         ],
         "y": [
          0.5,
          0.25
         ]
        },
        {
         "line": {
          "color": "black"
         },
         "mode": "lines+markers",
         "textposition": "top center",
         "type": "scatter",
         "x": [
          2,
          3
         ],
         "y": [
          -0.5,
          -0.25
         ]
        },
        {
         "line": {
          "color": "black"
         },
         "mode": "lines+markers",
         "textposition": "top center",
         "type": "scatter",
         "x": [
          2,
          3
         ],
         "y": [
          -0.5,
          -0.75
         ]
        },
        {
         "line": {
          "color": "black"
         },
         "mode": "lines+markers",
         "textposition": "top center",
         "type": "scatter",
         "x": [
          2,
          3
         ],
         "y": [
          -1.5,
          -1.25
         ]
        },
        {
         "line": {
          "color": "black"
         },
         "mode": "lines+markers",
         "textposition": "top center",
         "type": "scatter",
         "x": [
          2,
          3
         ],
         "y": [
          -1.5,
          -1.75
         ]
        },
        {
         "line": {
          "color": "black",
          "dash": "dot"
         },
         "mode": "markers+lines",
         "textposition": "top center",
         "type": "scatter",
         "x": [
          3,
          4.5
         ],
         "y": [
          0.75,
          0
         ]
        },
        {
         "line": {
          "color": "black"
         },
         "mode": "lines+markers",
         "textposition": "top center",
         "type": "scatter",
         "x": [
          4.5,
          5.5
         ],
         "y": [
          0,
          1
         ]
        },
        {
         "line": {
          "color": "black"
         },
         "mode": "lines+markers",
         "textposition": "top center",
         "type": "scatter",
         "x": [
          4.5,
          5.5
         ],
         "y": [
          0,
          -1
         ]
        },
        {
         "line": {
          "color": "black"
         },
         "mode": "lines+markers",
         "textposition": "top center",
         "type": "scatter",
         "x": [
          5.5,
          6.5
         ],
         "y": [
          1,
          1.5
         ]
        },
        {
         "line": {
          "color": "black"
         },
         "mode": "lines+markers",
         "textposition": "top center",
         "type": "scatter",
         "x": [
          5.5,
          6.5
         ],
         "y": [
          1,
          0.5
         ]
        },
        {
         "line": {
          "color": "black"
         },
         "mode": "lines+markers",
         "textposition": "top center",
         "type": "scatter",
         "x": [
          5.5,
          6.5
         ],
         "y": [
          -1,
          -0.5
         ]
        },
        {
         "line": {
          "color": "black"
         },
         "mode": "lines+markers",
         "textposition": "top center",
         "type": "scatter",
         "x": [
          5.5,
          6.5
         ],
         "y": [
          -1,
          -1.5
         ]
        },
        {
         "line": {
          "color": "black",
          "dash": "dot"
         },
         "mode": "markers+lines",
         "textposition": "top center",
         "type": "scatter",
         "x": [
          6.5,
          8
         ],
         "y": [
          0.5,
          0
         ]
        },
        {
         "line": {
          "color": "black"
         },
         "mode": "lines+markers",
         "textposition": "top center",
         "type": "scatter",
         "x": [
          8,
          9
         ],
         "y": [
          0,
          1
         ]
        },
        {
         "line": {
          "color": "black"
         },
         "mode": "lines+markers",
         "textposition": "top center",
         "type": "scatter",
         "x": [
          8,
          9
         ],
         "y": [
          0,
          -1
         ]
        },
        {
         "line": {
          "color": "black"
         },
         "mode": "lines+markers",
         "textposition": "top center",
         "type": "scatter",
         "x": [
          9,
          10
         ],
         "y": [
          1,
          1.5
         ]
        },
        {
         "line": {
          "color": "black"
         },
         "mode": "lines+markers",
         "textposition": "top center",
         "type": "scatter",
         "x": [
          9,
          10
         ],
         "y": [
          1,
          1
         ]
        },
        {
         "line": {
          "color": "black"
         },
         "mode": "lines+markers",
         "textposition": "top center",
         "type": "scatter",
         "x": [
          9,
          10
         ],
         "y": [
          1,
          0.5
         ]
        },
        {
         "line": {
          "color": "black"
         },
         "mode": "lines+markers",
         "textposition": "top center",
         "type": "scatter",
         "x": [
          9,
          10
         ],
         "y": [
          -1,
          -0.5
         ]
        },
        {
         "line": {
          "color": "black"
         },
         "mode": "lines+markers",
         "textposition": "top center",
         "type": "scatter",
         "x": [
          9,
          10
         ],
         "y": [
          -1,
          -1
         ]
        },
        {
         "line": {
          "color": "black"
         },
         "mode": "lines+markers",
         "textposition": "top center",
         "type": "scatter",
         "x": [
          9,
          10
         ],
         "y": [
          -1,
          -1.5
         ]
        },
        {
         "mode": "text",
         "text": "BEHRT",
         "textposition": "middle left",
         "type": "scatter",
         "x": [
          0
         ],
         "y": [
          0
         ]
        }
       ],
       "layout": {
        "annotations": [
         {
          "bgcolor": "rgba(255, 255, 255, 0.75)",
          "showarrow": false,
          "text": "Background info",
          "x": 1,
          "y": 1.075
         },
         {
          "bgcolor": "rgba(255, 255, 255, 0.75)",
          "showarrow": false,
          "text": "No background info",
          "x": 1,
          "y": -1.075
         },
         {
          "bgcolor": "rgba(255, 255, 255, 0.75)",
          "showarrow": false,
          "text": "Cutoff vocab",
          "x": 2,
          "y": 1.575
         },
         {
          "bgcolor": "rgba(255, 255, 255, 0.75)",
          "showarrow": false,
          "text": "Full vocab",
          "x": 2,
          "y": 0.425
         },
         {
          "bgcolor": "rgba(255, 255, 255, 0.75)",
          "showarrow": false,
          "text": "Cutoff vocab",
          "x": 2,
          "y": -0.425
         },
         {
          "bgcolor": "rgba(255, 255, 255, 0.75)",
          "showarrow": false,
          "text": "Full vocab",
          "x": 2,
          "y": -1.575
         },
         {
          "bgcolor": "rgba(255, 255, 255, 0.75)",
          "showarrow": false,
          "text": "[SEP]",
          "x": 3,
          "y": 1.825
         },
         {
          "bgcolor": "rgba(255, 255, 255, 0.75)",
          "showarrow": false,
          "text": "No [SEP]",
          "x": 3,
          "y": 1.175
         },
         {
          "bgcolor": "rgba(255, 255, 255, 0.75)",
          "showarrow": false,
          "text": "[SEP]",
          "x": 3,
          "y": 0.825
         },
         {
          "bgcolor": "rgba(255, 255, 255, 0.75)",
          "showarrow": false,
          "text": "No [SEP]",
          "x": 3,
          "y": 0.175
         },
         {
          "bgcolor": "rgba(255, 255, 255, 0.75)",
          "showarrow": false,
          "text": "[SEP]",
          "x": 3,
          "y": -0.175
         },
         {
          "bgcolor": "rgba(255, 255, 255, 0.75)",
          "showarrow": false,
          "text": "No [SEP]",
          "x": 3,
          "y": -0.825
         },
         {
          "bgcolor": "rgba(255, 255, 255, 0.75)",
          "showarrow": false,
          "text": "[SEP]",
          "x": 3,
          "y": -1.175
         },
         {
          "bgcolor": "rgba(255, 255, 255, 0.75)",
          "showarrow": false,
          "text": "No [SEP]",
          "x": 3,
          "y": -1.825
         },
         {
          "font": {
           "size": 30
          },
          "showarrow": false,
          "text": "Data",
          "x": 1.5,
          "y": 2.2
         },
         {
          "bgcolor": "rgba(255, 255, 255, 0.75)",
          "showarrow": false,
          "text": "Our embeddings",
          "x": 5.5,
          "y": 1.075
         },
         {
          "bgcolor": "rgba(255, 255, 255, 0.75)",
          "showarrow": false,
          "text": "Original embeddings",
          "x": 5.5,
          "y": -1.075
         },
         {
          "bgcolor": "rgba(255, 255, 255, 0.75)",
          "showarrow": false,
          "text": "Linear combination",
          "x": 6.5,
          "y": 1.575
         },
         {
          "bgcolor": "rgba(255, 255, 255, 0.75)",
          "showarrow": false,
          "text": "Trainable combination",
          "x": 6.5,
          "y": 0.425
         },
         {
          "bgcolor": "rgba(255, 255, 255, 0.75)",
          "showarrow": false,
          "text": "Linear combination",
          "x": 6.5,
          "y": -0.425
         },
         {
          "bgcolor": "rgba(255, 255, 255, 0.75)",
          "showarrow": false,
          "text": "Trainable combination",
          "x": 6.5,
          "y": -1.575
         },
         {
          "font": {
           "size": 30
          },
          "showarrow": false,
          "text": "Architecture",
          "x": 5.5,
          "y": 2.2
         },
         {
          "bgcolor": "rgba(255, 255, 255, 0.75)",
          "showarrow": false,
          "text": "80-10-10 strategy",
          "x": 9,
          "y": 1.075
         },
         {
          "bgcolor": "rgba(255, 255, 255, 0.75)",
          "showarrow": false,
          "text": "100 strategy",
          "x": 9,
          "y": -1.075
         },
         {
          "bgcolor": "rgba(255, 255, 255, 0.75)",
          "showarrow": false,
          "text": "15%",
          "x": 10,
          "y": 1.575
         },
         {
          "bgcolor": "rgba(255, 255, 255, 0.75)",
          "showarrow": false,
          "text": "30%",
          "x": 10,
          "y": 1
         },
         {
          "bgcolor": "rgba(255, 255, 255, 0.75)",
          "showarrow": false,
          "text": "40%",
          "x": 10,
          "y": 0.425
         },
         {
          "bgcolor": "rgba(255, 255, 255, 0.75)",
          "showarrow": false,
          "text": "15%",
          "x": 10,
          "y": -0.425
         },
         {
          "bgcolor": "rgba(255, 255, 255, 0.75)",
          "showarrow": false,
          "text": "30%",
          "x": 10,
          "y": -1
         },
         {
          "bgcolor": "rgba(255, 255, 255, 0.75)",
          "showarrow": false,
          "text": "40%",
          "x": 10,
          "y": -1.575
         },
         {
          "font": {
           "size": 30
          },
          "showarrow": false,
          "text": "Masking",
          "x": 9,
          "y": 2.2
         },
         {
          "showarrow": false,
          "text": "1",
          "x": 3.3,
          "y": 0.75
         },
         {
          "showarrow": false,
          "text": "6",
          "x": 3.3,
          "y": 0.25
         },
         {
          "showarrow": false,
          "text": "2",
          "x": 3.3,
          "y": 1.75
         },
         {
          "showarrow": false,
          "text": "3",
          "x": 3.3,
          "y": 1.25
         },
         {
          "showarrow": false,
          "text": "5",
          "x": 3.3,
          "y": -1.25
         },
         {
          "showarrow": false,
          "text": "8",
          "x": 3.3,
          "y": -1.75
         },
         {
          "showarrow": false,
          "text": "4",
          "x": 3.3,
          "y": -0.25
         },
         {
          "showarrow": false,
          "text": "7",
          "x": 3.3,
          "y": -0.75
         },
         {
          "showarrow": false,
          "text": "2",
          "x": 6.8,
          "y": 1.5
         },
         {
          "showarrow": false,
          "text": "1",
          "x": 6.8,
          "y": 0.5
         },
         {
          "showarrow": false,
          "text": "3",
          "x": 6.8,
          "y": -0.5
         },
         {
          "showarrow": false,
          "text": "4",
          "x": 6.8,
          "y": -1.5
         }
        ],
        "height": 600,
        "legend": {
         "tracegroupgap": 0
        },
        "margin": {
         "t": 60
        },
        "plot_bgcolor": "white",
        "shapes": [
         {
          "line": {
           "dash": "dash"
          },
          "type": "rect",
          "x0": -0.5,
          "x1": 3.5,
          "y0": -2,
          "y1": 2
         },
         {
          "line": {
           "dash": "dash"
          },
          "type": "rect",
          "x0": 4,
          "x1": 7,
          "y0": -2,
          "y1": 2
         },
         {
          "line": {
           "dash": "dash"
          },
          "type": "rect",
          "x0": 7.5,
          "x1": 10.5,
          "y0": -2,
          "y1": 2
         }
        ],
        "showlegend": false,
        "template": {
         "data": {
          "bar": [
           {
            "error_x": {
             "color": "#2a3f5f"
            },
            "error_y": {
             "color": "#2a3f5f"
            },
            "marker": {
             "line": {
              "color": "#E5ECF6",
              "width": 0.5
             },
             "pattern": {
              "fillmode": "overlay",
              "size": 10,
              "solidity": 0.2
             }
            },
            "type": "bar"
           }
          ],
          "barpolar": [
           {
            "marker": {
             "line": {
              "color": "#E5ECF6",
              "width": 0.5
             },
             "pattern": {
              "fillmode": "overlay",
              "size": 10,
              "solidity": 0.2
             }
            },
            "type": "barpolar"
           }
          ],
          "carpet": [
           {
            "aaxis": {
             "endlinecolor": "#2a3f5f",
             "gridcolor": "white",
             "linecolor": "white",
             "minorgridcolor": "white",
             "startlinecolor": "#2a3f5f"
            },
            "baxis": {
             "endlinecolor": "#2a3f5f",
             "gridcolor": "white",
             "linecolor": "white",
             "minorgridcolor": "white",
             "startlinecolor": "#2a3f5f"
            },
            "type": "carpet"
           }
          ],
          "choropleth": [
           {
            "colorbar": {
             "outlinewidth": 0,
             "ticks": ""
            },
            "type": "choropleth"
           }
          ],
          "contour": [
           {
            "colorbar": {
             "outlinewidth": 0,
             "ticks": ""
            },
            "colorscale": [
             [
              0,
              "#0d0887"
             ],
             [
              0.1111111111111111,
              "#46039f"
             ],
             [
              0.2222222222222222,
              "#7201a8"
             ],
             [
              0.3333333333333333,
              "#9c179e"
             ],
             [
              0.4444444444444444,
              "#bd3786"
             ],
             [
              0.5555555555555556,
              "#d8576b"
             ],
             [
              0.6666666666666666,
              "#ed7953"
             ],
             [
              0.7777777777777778,
              "#fb9f3a"
             ],
             [
              0.8888888888888888,
              "#fdca26"
             ],
             [
              1,
              "#f0f921"
             ]
            ],
            "type": "contour"
           }
          ],
          "contourcarpet": [
           {
            "colorbar": {
             "outlinewidth": 0,
             "ticks": ""
            },
            "type": "contourcarpet"
           }
          ],
          "heatmap": [
           {
            "colorbar": {
             "outlinewidth": 0,
             "ticks": ""
            },
            "colorscale": [
             [
              0,
              "#0d0887"
             ],
             [
              0.1111111111111111,
              "#46039f"
             ],
             [
              0.2222222222222222,
              "#7201a8"
             ],
             [
              0.3333333333333333,
              "#9c179e"
             ],
             [
              0.4444444444444444,
              "#bd3786"
             ],
             [
              0.5555555555555556,
              "#d8576b"
             ],
             [
              0.6666666666666666,
              "#ed7953"
             ],
             [
              0.7777777777777778,
              "#fb9f3a"
             ],
             [
              0.8888888888888888,
              "#fdca26"
             ],
             [
              1,
              "#f0f921"
             ]
            ],
            "type": "heatmap"
           }
          ],
          "heatmapgl": [
           {
            "colorbar": {
             "outlinewidth": 0,
             "ticks": ""
            },
            "colorscale": [
             [
              0,
              "#0d0887"
             ],
             [
              0.1111111111111111,
              "#46039f"
             ],
             [
              0.2222222222222222,
              "#7201a8"
             ],
             [
              0.3333333333333333,
              "#9c179e"
             ],
             [
              0.4444444444444444,
              "#bd3786"
             ],
             [
              0.5555555555555556,
              "#d8576b"
             ],
             [
              0.6666666666666666,
              "#ed7953"
             ],
             [
              0.7777777777777778,
              "#fb9f3a"
             ],
             [
              0.8888888888888888,
              "#fdca26"
             ],
             [
              1,
              "#f0f921"
             ]
            ],
            "type": "heatmapgl"
           }
          ],
          "histogram": [
           {
            "marker": {
             "pattern": {
              "fillmode": "overlay",
              "size": 10,
              "solidity": 0.2
             }
            },
            "type": "histogram"
           }
          ],
          "histogram2d": [
           {
            "colorbar": {
             "outlinewidth": 0,
             "ticks": ""
            },
            "colorscale": [
             [
              0,
              "#0d0887"
             ],
             [
              0.1111111111111111,
              "#46039f"
             ],
             [
              0.2222222222222222,
              "#7201a8"
             ],
             [
              0.3333333333333333,
              "#9c179e"
             ],
             [
              0.4444444444444444,
              "#bd3786"
             ],
             [
              0.5555555555555556,
              "#d8576b"
             ],
             [
              0.6666666666666666,
              "#ed7953"
             ],
             [
              0.7777777777777778,
              "#fb9f3a"
             ],
             [
              0.8888888888888888,
              "#fdca26"
             ],
             [
              1,
              "#f0f921"
             ]
            ],
            "type": "histogram2d"
           }
          ],
          "histogram2dcontour": [
           {
            "colorbar": {
             "outlinewidth": 0,
             "ticks": ""
            },
            "colorscale": [
             [
              0,
              "#0d0887"
             ],
             [
              0.1111111111111111,
              "#46039f"
             ],
             [
              0.2222222222222222,
              "#7201a8"
             ],
             [
              0.3333333333333333,
              "#9c179e"
             ],
             [
              0.4444444444444444,
              "#bd3786"
             ],
             [
              0.5555555555555556,
              "#d8576b"
             ],
             [
              0.6666666666666666,
              "#ed7953"
             ],
             [
              0.7777777777777778,
              "#fb9f3a"
             ],
             [
              0.8888888888888888,
              "#fdca26"
             ],
             [
              1,
              "#f0f921"
             ]
            ],
            "type": "histogram2dcontour"
           }
          ],
          "mesh3d": [
           {
            "colorbar": {
             "outlinewidth": 0,
             "ticks": ""
            },
            "type": "mesh3d"
           }
          ],
          "parcoords": [
           {
            "line": {
             "colorbar": {
              "outlinewidth": 0,
              "ticks": ""
             }
            },
            "type": "parcoords"
           }
          ],
          "pie": [
           {
            "automargin": true,
            "type": "pie"
           }
          ],
          "scatter": [
           {
            "fillpattern": {
             "fillmode": "overlay",
             "size": 10,
             "solidity": 0.2
            },
            "type": "scatter"
           }
          ],
          "scatter3d": [
           {
            "line": {
             "colorbar": {
              "outlinewidth": 0,
              "ticks": ""
             }
            },
            "marker": {
             "colorbar": {
              "outlinewidth": 0,
              "ticks": ""
             }
            },
            "type": "scatter3d"
           }
          ],
          "scattercarpet": [
           {
            "marker": {
             "colorbar": {
              "outlinewidth": 0,
              "ticks": ""
             }
            },
            "type": "scattercarpet"
           }
          ],
          "scattergeo": [
           {
            "marker": {
             "colorbar": {
              "outlinewidth": 0,
              "ticks": ""
             }
            },
            "type": "scattergeo"
           }
          ],
          "scattergl": [
           {
            "marker": {
             "colorbar": {
              "outlinewidth": 0,
              "ticks": ""
             }
            },
            "type": "scattergl"
           }
          ],
          "scattermapbox": [
           {
            "marker": {
             "colorbar": {
              "outlinewidth": 0,
              "ticks": ""
             }
            },
            "type": "scattermapbox"
           }
          ],
          "scatterpolar": [
           {
            "marker": {
             "colorbar": {
              "outlinewidth": 0,
              "ticks": ""
             }
            },
            "type": "scatterpolar"
           }
          ],
          "scatterpolargl": [
           {
            "marker": {
             "colorbar": {
              "outlinewidth": 0,
              "ticks": ""
             }
            },
            "type": "scatterpolargl"
           }
          ],
          "scatterternary": [
           {
            "marker": {
             "colorbar": {
              "outlinewidth": 0,
              "ticks": ""
             }
            },
            "type": "scatterternary"
           }
          ],
          "surface": [
           {
            "colorbar": {
             "outlinewidth": 0,
             "ticks": ""
            },
            "colorscale": [
             [
              0,
              "#0d0887"
             ],
             [
              0.1111111111111111,
              "#46039f"
             ],
             [
              0.2222222222222222,
              "#7201a8"
             ],
             [
              0.3333333333333333,
              "#9c179e"
             ],
             [
              0.4444444444444444,
              "#bd3786"
             ],
             [
              0.5555555555555556,
              "#d8576b"
             ],
             [
              0.6666666666666666,
              "#ed7953"
             ],
             [
              0.7777777777777778,
              "#fb9f3a"
             ],
             [
              0.8888888888888888,
              "#fdca26"
             ],
             [
              1,
              "#f0f921"
             ]
            ],
            "type": "surface"
           }
          ],
          "table": [
           {
            "cells": {
             "fill": {
              "color": "#EBF0F8"
             },
             "line": {
              "color": "white"
             }
            },
            "header": {
             "fill": {
              "color": "#C8D4E3"
             },
             "line": {
              "color": "white"
             }
            },
            "type": "table"
           }
          ]
         },
         "layout": {
          "annotationdefaults": {
           "arrowcolor": "#2a3f5f",
           "arrowhead": 0,
           "arrowwidth": 1
          },
          "autotypenumbers": "strict",
          "coloraxis": {
           "colorbar": {
            "outlinewidth": 0,
            "ticks": ""
           }
          },
          "colorscale": {
           "diverging": [
            [
             0,
             "#8e0152"
            ],
            [
             0.1,
             "#c51b7d"
            ],
            [
             0.2,
             "#de77ae"
            ],
            [
             0.3,
             "#f1b6da"
            ],
            [
             0.4,
             "#fde0ef"
            ],
            [
             0.5,
             "#f7f7f7"
            ],
            [
             0.6,
             "#e6f5d0"
            ],
            [
             0.7,
             "#b8e186"
            ],
            [
             0.8,
             "#7fbc41"
            ],
            [
             0.9,
             "#4d9221"
            ],
            [
             1,
             "#276419"
            ]
           ],
           "sequential": [
            [
             0,
             "#0d0887"
            ],
            [
             0.1111111111111111,
             "#46039f"
            ],
            [
             0.2222222222222222,
             "#7201a8"
            ],
            [
             0.3333333333333333,
             "#9c179e"
            ],
            [
             0.4444444444444444,
             "#bd3786"
            ],
            [
             0.5555555555555556,
             "#d8576b"
            ],
            [
             0.6666666666666666,
             "#ed7953"
            ],
            [
             0.7777777777777778,
             "#fb9f3a"
            ],
            [
             0.8888888888888888,
             "#fdca26"
            ],
            [
             1,
             "#f0f921"
            ]
           ],
           "sequentialminus": [
            [
             0,
             "#0d0887"
            ],
            [
             0.1111111111111111,
             "#46039f"
            ],
            [
             0.2222222222222222,
             "#7201a8"
            ],
            [
             0.3333333333333333,
             "#9c179e"
            ],
            [
             0.4444444444444444,
             "#bd3786"
            ],
            [
             0.5555555555555556,
             "#d8576b"
            ],
            [
             0.6666666666666666,
             "#ed7953"
            ],
            [
             0.7777777777777778,
             "#fb9f3a"
            ],
            [
             0.8888888888888888,
             "#fdca26"
            ],
            [
             1,
             "#f0f921"
            ]
           ]
          },
          "colorway": [
           "#636efa",
           "#EF553B",
           "#00cc96",
           "#ab63fa",
           "#FFA15A",
           "#19d3f3",
           "#FF6692",
           "#B6E880",
           "#FF97FF",
           "#FECB52"
          ],
          "font": {
           "color": "#2a3f5f"
          },
          "geo": {
           "bgcolor": "white",
           "lakecolor": "white",
           "landcolor": "#E5ECF6",
           "showlakes": true,
           "showland": true,
           "subunitcolor": "white"
          },
          "hoverlabel": {
           "align": "left"
          },
          "hovermode": "closest",
          "mapbox": {
           "style": "light"
          },
          "paper_bgcolor": "white",
          "plot_bgcolor": "#E5ECF6",
          "polar": {
           "angularaxis": {
            "gridcolor": "white",
            "linecolor": "white",
            "ticks": ""
           },
           "bgcolor": "#E5ECF6",
           "radialaxis": {
            "gridcolor": "white",
            "linecolor": "white",
            "ticks": ""
           }
          },
          "scene": {
           "xaxis": {
            "backgroundcolor": "#E5ECF6",
            "gridcolor": "white",
            "gridwidth": 2,
            "linecolor": "white",
            "showbackground": true,
            "ticks": "",
            "zerolinecolor": "white"
           },
           "yaxis": {
            "backgroundcolor": "#E5ECF6",
            "gridcolor": "white",
            "gridwidth": 2,
            "linecolor": "white",
            "showbackground": true,
            "ticks": "",
            "zerolinecolor": "white"
           },
           "zaxis": {
            "backgroundcolor": "#E5ECF6",
            "gridcolor": "white",
            "gridwidth": 2,
            "linecolor": "white",
            "showbackground": true,
            "ticks": "",
            "zerolinecolor": "white"
           }
          },
          "shapedefaults": {
           "line": {
            "color": "#2a3f5f"
           }
          },
          "ternary": {
           "aaxis": {
            "gridcolor": "white",
            "linecolor": "white",
            "ticks": ""
           },
           "baxis": {
            "gridcolor": "white",
            "linecolor": "white",
            "ticks": ""
           },
           "bgcolor": "#E5ECF6",
           "caxis": {
            "gridcolor": "white",
            "linecolor": "white",
            "ticks": ""
           }
          },
          "title": {
           "x": 0.05
          },
          "xaxis": {
           "automargin": true,
           "gridcolor": "white",
           "linecolor": "white",
           "ticks": "",
           "title": {
            "standoff": 15
           },
           "zerolinecolor": "white",
           "zerolinewidth": 2
          },
          "yaxis": {
           "automargin": true,
           "gridcolor": "white",
           "linecolor": "white",
           "ticks": "",
           "title": {
            "standoff": 15
           },
           "zerolinecolor": "white",
           "zerolinewidth": 2
          }
         }
        },
        "xaxis": {
         "anchor": "y",
         "domain": [
          0,
          1
         ],
         "visible": false
        },
        "yaxis": {
         "anchor": "x",
         "domain": [
          0,
          1
         ],
         "visible": false
        }
       }
      }
     },
     "metadata": {},
     "output_type": "display_data"
    }
   ],
   "source": [
    "fig = px.scatter()\n",
    "\n",
    "make_graph(\n",
    "    fig, \n",
    "    levels=3, \n",
    "    x_offset=0, \n",
    "    y0s=[0], \n",
    "    names=[(\"Background info\", \"No background info\"), (\"Cutoff vocab\", \"Full vocab\"), (\"[SEP]\", \"No [SEP]\")],\n",
    "    line_y=[0.75, 0],\n",
    "    title=\"Data\"    \n",
    ")\n",
    "make_graph(\n",
    "    fig, \n",
    "    levels=2, \n",
    "    x_offset=4.5, \n",
    "    y0s=[0], \n",
    "    names=[(\"Our embeddings\", \"Original embeddings\"), (\"Linear combination\", \"Trainable combination\"), ],\n",
    "    line_y=[0.5, 0],\n",
    "    title=\"Architecture\",\n",
    ")\n",
    "make_graph(\n",
    "    fig, \n",
    "    levels=2, \n",
    "    x_offset=8, \n",
    "    y0s=[0],\n",
    "    signs=[1, 0, -1],\n",
    "    names=[(\"80-10-10 strategy\", None, \"100 strategy\"), (\"15%\", \"30%\", \"40%\")],\n",
    "    line=False,\n",
    "    title=\"Masking\"\n",
    ")\n",
    "\n",
    "fig.update_layout(\n",
    "    height=600,\n",
    "    plot_bgcolor=\"white\",\n",
    "    xaxis=dict(\n",
    "        visible=False\n",
    "    ),\n",
    "    yaxis=dict(\n",
    "        visible=False\n",
    "    ),\n",
    "    showlegend=False,\n",
    ")\n",
    "\n",
    "fig.update_traces(\n",
    "    textposition=\"top center\",\n",
    "    line=dict(\n",
    "        color=\"black\",\n",
    "    ),\n",
    ")\n",
    "\n",
    "fig.add_trace(go.Scatter(x=[0], y=[0], mode=\"text\", text=\"BEHRT\", textposition=\"middle left\"))\n",
    "\n",
    "# Rankings (temp)\n",
    "fig.add_annotation(x=3.3, y=0.75, text=1, showarrow=False)\n",
    "fig.add_annotation(x=3.3, y=0.25, text=6, showarrow=False)\n",
    "fig.add_annotation(x=3.3, y=1.75, text=2, showarrow=False)\n",
    "fig.add_annotation(x=3.3, y=1.25, text=3, showarrow=False)\n",
    "fig.add_annotation(x=3.3, y=-1.25, text=5, showarrow=False)\n",
    "fig.add_annotation(x=3.3, y=-1.75, text=8, showarrow=False)\n",
    "fig.add_annotation(x=3.3, y=-0.25, text=4, showarrow=False)\n",
    "fig.add_annotation(x=3.3, y=-0.75, text=7, showarrow=False)\n",
    "\n",
    "fig.add_annotation(x=6.8, y=1.5, text=2, showarrow=False)\n",
    "fig.add_annotation(x=6.8, y=0.5, text=1, showarrow=False)\n",
    "fig.add_annotation(x=6.8, y=-0.5, text=3, showarrow=False)\n",
    "fig.add_annotation(x=6.8, y=-1.5, text=4, showarrow=False)\n",
    "\n",
    "\n",
    "fig.show()"
   ]
  },
  {
   "cell_type": "code",
   "execution_count": 10,
   "metadata": {},
   "outputs": [
    {
     "data": {
      "image/png": "[encoded data removed]",
      "text/plain": [
       "<Figure size 640x480 with 1 Axes>"
      ]
     },
     "metadata": {},
     "output_type": "display_data"
    }
   ],
   "source": [
    "import matplotlib.pyplot as plt\n",
    "\n",
    "plt.bar([\"BS1\", \"BS1_SEP0\", \"BS1_FV1\", \"BS1_FV1_SEP0\", \"BEHRT\", \"SEP0\", \"FV1\", \"FV1_SEP0\"], [0.8, 0.7, 0.9, 0.4, 0.6, 0.3, 0.5, 0.2])\n",
    "plt.xticks(rotation=30)\n",
    "plt.show()"
   ]
  },
  {
   "cell_type": "code",
   "execution_count": 11,
   "metadata": {},
   "outputs": [
    {
     "data": {
      "image/png": "[encoded data removed]",
      "text/plain": [
       "<Figure size 640x480 with 1 Axes>"
      ]
     },
     "metadata": {},
     "output_type": "display_data"
    }
   ],
   "source": [
    "plt.bar([\"BS1\", \"BS1_SEP0\", \"BS1_FV1\", \"BS1_FV1_SEP0\", \"BEHRT\", \"SEP0\", \"FV1\", \"FV1_SEP0\"], [0.8, 0.7, 0.9, 0.4, 0.6, 0.3, 0.5, 0.2])\n",
    "plt.xticks(rotation=30)\n",
    "plt.show()"
   ]
  },
  {
   "cell_type": "code",
   "execution_count": 12,
   "metadata": {},
   "outputs": [
    {
     "data": {
      "image/png": "[encoded data removed]",
      "text/plain": [
       "<Figure size 640x480 with 1 Axes>"
      ]
     },
     "metadata": {},
     "output_type": "display_data"
    }
   ],
   "source": [
    "idxs, vals = zip(*sorted(zip(list(range(8)), [0.8, 0.7, 0.9, 0.4, 0.6, 0.3, 0.5, 0.2]), key=lambda k: k[1], reverse=True))\n",
    "bar = [0.8, 0.7, 0.9, 0.4, 0.6, 0.3, 0.5, 0.2]\n",
    "foo = [\"BS1\", \"BS1_SEP0\", \"BS1_FV1\", \"BS1_FV1_SEP0\", \"BEHRT\", \"SEP0\", \"FV1\", \"FV1_SEP0\"]\n",
    "plt.bar([foo[i] for i in idxs], vals)\n",
    "plt.xticks(rotation=30)\n",
    "plt.show()\n"
   ]
  },
  {
   "cell_type": "code",
   "execution_count": 13,
   "metadata": {},
   "outputs": [
    {
     "data": {
      "image/png": "[encoded data removed]",
      "text/plain": [
       "<Figure size 640x480 with 1 Axes>"
      ]
     },
     "metadata": {},
     "output_type": "display_data"
    }
   ],
   "source": [
    "bar = [0.8, 0.7, 0.9, 0.4, 0.3, 0.5, 0.2]\n",
    "foo = [\"BS1\", \"BS1_SEP0\", \"BS1_FV1\", \"BS1_FV1_SEP0\", \"SEP0\", \"FV1\", \"FV1_SEP0\"]\n",
    "idxs = [1, 5, 6, 2, 3, 7, 4]\n",
    "plt.plot([0.6]*7, linestyle=\"dashed\", color=\"r\", label=\"BEHRT performance\")\n",
    "plt.bar([foo[i-1] for i in idxs], [bar[i-1] for i in idxs])\n",
    "plt.xticks(rotation=30)\n",
    "plt.legend()\n",
    "plt.show()\n"
   ]
  },
  {
   "cell_type": "code",
   "execution_count": 14,
   "metadata": {},
   "outputs": [
    {
     "data": {
      "image/png": "[encoded data removed]",
      "text/plain": [
       "<Figure size 640x480 with 1 Axes>"
      ]
     },
     "metadata": {},
     "output_type": "display_data"
    }
   ],
   "source": [
    "bar = [0.8, 0.7, 0.9, 0.4, 0.3, 0.5, 0.2]\n",
    "foo = [\"BS1\", \"BS1_SEP0\", \"BS1_FV1\", \"BS1_FV1_SEP0\", \"SEP0\", \"FV1\", \"FV1_SEP0\"]\n",
    "idxs = [1, 2, 3, 4, 5, 6, 7]\n",
    "plt.plot([0.6]*7, linestyle=\"dashed\", color=\"r\", label=\"BEHRT performance\")\n",
    "plt.bar([foo[i-1] for i in idxs], [bar[i-1] for i in idxs])\n",
    "plt.xticks(rotation=30)\n",
    "plt.legend()\n",
    "plt.show()\n"
   ]
  },
  {
   "cell_type": "code",
   "execution_count": 15,
   "metadata": {},
   "outputs": [
    {
     "data": {
      "image/png": "[encoded data removed]",
      "text/plain": [
       "<Figure size 640x480 with 1 Axes>"
      ]
     },
     "metadata": {},
     "output_type": "display_data"
    }
   ],
   "source": [
    "bar = [0.8, 0.7, 0.9, 0.4, 0.3, 0.5, 0.2]\n",
    "foo = [\"BS1\", \"BS1_SEP0\", \"BS1_FV1\", \"BS1_FV1_SEP0\", \"SEP0\", \"FV1\", \"FV1_SEP0\"]\n",
    "idxs = [1, 2, 3, 4, 5, 6, 7]\n",
    "plt.plot([0]*7, color=\"r\", label=\"BEHRT performance\")\n",
    "plt.bar([foo[i-1] for i in idxs], [bar[i-1]-0.6 for i in idxs])\n",
    "plt.xticks(rotation=30)\n",
    "plt.legend()\n",
    "plt.show()\n"
   ]
  },
  {
   "cell_type": "code",
   "execution_count": 17,
   "metadata": {},
   "outputs": [
    {
     "data": {
      "image/png": "[encoded data removed]",
      "text/plain": [
       "<Figure size 640x480 with 1 Axes>"
      ]
     },
     "metadata": {},
     "output_type": "display_data"
    }
   ],
   "source": [
    "bar = [\n",
    "    0.8, 0.7, 0.9, 0.4, \n",
    "    0.3, 0.7, 0.2, 0.4,\n",
    "    0.5, 0.2, 0.9, 0.4\n",
    "    ]\n",
    "foo = [\n",
    "    \"BS1\", \"BS1_SEP0\", \"BS1_FV1\", \"BS1_FV1_SEP0\", \n",
    "    \"SEP0\", \"SEP0_BS1\", \"SEP0_FV1\", \"BS1_FV1_SEP0\", \n",
    "    \"FV1\", \"FV1_SEP0\", \"FV1_BS1\", \"BS1_FV1_SEP0\"\n",
    "    ]\n",
    "idxs = [1, 2, 3, 4, 5, 6, 7]\n",
    "plt.plot([0.6]*7, linestyle=\"dashed\", color=\"r\", label=\"BEHRT performance\")\n",
    "plt.bar([foo[i-1] for i in idxs], [bar[i-1] for i in idxs])\n",
    "plt.xticks(rotation=30)\n",
    "plt.legend()\n",
    "plt.show()\n"
   ]
  },
  {
   "cell_type": "code",
   "execution_count": 18,
   "metadata": {},
   "outputs": [],
   "source": [
    "import plotly.express as px\n",
    "import plotly.graph_objects as go\n",
    "\n",
    "def make_split(fig, size, cx, cy, double=True, names=None, bottom=True):\n",
    "    if names is not None:\n",
    "        if bottom:\n",
    "            text_y = -cy\n",
    "        else:\n",
    "            text_y = cy\n",
    "        fig.add_annotation(\n",
    "            x=cx, y=text_y, text=names[0], showarrow=False, bgcolor=\"white\", font=dict(size=25)\n",
    "        )\n",
    "\n",
    "    fig.add_trace(go.Scatter(\n",
    "        x=[cx+1, cx, cx, cx, cx+1],\n",
    "        y=[cy-size, cy-size, cy, cy+size, cy+size],\n",
    "        line=dict(color=\"black\"),\n",
    "        mode=\"lines\",\n",
    "    ))\n",
    "    if double:\n",
    "        fig.add_trace(go.Scatter(\n",
    "            x=[cx+1, cx, cx, cx, cx+1],\n",
    "            y=[-cy-size, -cy-size, -cy, -cy+size, -cy+size],\n",
    "            line=dict(color=\"black\"),\n",
    "            mode=\"lines\",\n",
    "        ))\n",
    "def make_bars(fig, bar_y, rocs, errors, x_offset):\n",
    "    for y, roc, err in zip(bar_y, rocs, errors):\n",
    "        fig.add_trace(go.Scatter(\n",
    "            y=[y],\n",
    "            x=[x_offset+roc*20],\n",
    "            error_x=dict(array=[err*20])\n",
    "        ))\n",
    "    fig.add_trace(go.Scatter(\n",
    "        x=[x_offset+rocs[0]*20]*2,\n",
    "        y=[bar_y[0]+1, -bar_y[0]-1],\n",
    "        mode=\"lines\",\n",
    "        line=dict(\n",
    "            color=\"red\",\n",
    "            dash=\"dash\",\n",
    "        )\n",
    "    ))"
   ]
  },
  {
   "cell_type": "code",
   "execution_count": 19,
   "metadata": {},
   "outputs": [
    {
     "data": {
      "application/vnd.plotly.v1+json": {
       "config": {
        "plotlyServerURL": "https://plot.ly"
       },
       "data": [
        {
         "hovertemplate": "<extra></extra>",
         "legendgroup": "",
         "marker": {
          "color": "#636efa",
          "symbol": "circle"
         },
         "mode": "markers",
         "name": "",
         "orientation": "v",
         "showlegend": false,
         "type": "scatter",
         "xaxis": "x",
         "yaxis": "y"
        },
        {
         "line": {
          "color": "black"
         },
         "mode": "lines",
         "type": "scatter",
         "x": [
          1,
          0,
          0,
          0,
          1
         ],
         "y": [
          -4,
          -4,
          0,
          4,
          4
         ]
        },
        {
         "line": {
          "color": "black"
         },
         "mode": "lines",
         "type": "scatter",
         "x": [
          2,
          1,
          1,
          1,
          2
         ],
         "y": [
          2,
          2,
          4,
          6,
          6
         ]
        },
        {
         "line": {
          "color": "black"
         },
         "mode": "lines",
         "type": "scatter",
         "x": [
          2,
          1,
          1,
          1,
          2
         ],
         "y": [
          -6,
          -6,
          -4,
          -2,
          -2
         ]
        },
        {
         "line": {
          "color": "black"
         },
         "mode": "lines",
         "type": "scatter",
         "x": [
          3,
          2,
          2,
          2,
          3
         ],
         "y": [
          5,
          5,
          6,
          7,
          7
         ]
        },
        {
         "line": {
          "color": "black"
         },
         "mode": "lines",
         "type": "scatter",
         "x": [
          3,
          2,
          2,
          2,
          3
         ],
         "y": [
          -7,
          -7,
          -6,
          -5,
          -5
         ]
        },
        {
         "line": {
          "color": "black"
         },
         "mode": "lines",
         "type": "scatter",
         "x": [
          3,
          2,
          2,
          2,
          3
         ],
         "y": [
          1,
          1,
          2,
          3,
          3
         ]
        },
        {
         "line": {
          "color": "black"
         },
         "mode": "lines",
         "type": "scatter",
         "x": [
          3,
          2,
          2,
          2,
          3
         ],
         "y": [
          -3,
          -3,
          -2,
          -1,
          -1
         ]
        },
        {
         "error_x": {
          "array": [
           2.2
          ]
         },
         "type": "scatter",
         "x": [
          6.960000000000001
         ],
         "y": [
          7
         ]
        },
        {
         "error_x": {
          "array": [
           2.4
          ]
         },
         "type": "scatter",
         "x": [
          6.66
         ],
         "y": [
          5
         ]
        },
        {
         "error_x": {
          "array": [
           2.6
          ]
         },
         "type": "scatter",
         "x": [
          6.740000000000002
         ],
         "y": [
          3
         ]
        },
        {
         "error_x": {
          "array": [
           1.4000000000000001
          ]
         },
         "type": "scatter",
         "x": [
          6.740000000000002
         ],
         "y": [
          1
         ]
        },
        {
         "error_x": {
          "array": [
           1
          ]
         },
         "type": "scatter",
         "x": [
          6.919999999999998
         ],
         "y": [
          -1
         ]
        },
        {
         "error_x": {
          "array": [
           0.8
          ]
         },
         "type": "scatter",
         "x": [
          6.939999999999998
         ],
         "y": [
          -3
         ]
        },
        {
         "error_x": {
          "array": [
           0.8
          ]
         },
         "type": "scatter",
         "x": [
          7
         ],
         "y": [
          -5
         ]
        },
        {
         "error_x": {
          "array": [
           1.7999999999999998
          ]
         },
         "type": "scatter",
         "x": [
          6.859999999999999
         ],
         "y": [
          -7
         ]
        },
        {
         "line": {
          "color": "red",
          "dash": "dash"
         },
         "mode": "lines",
         "type": "scatter",
         "x": [
          6.960000000000001,
          6.960000000000001
         ],
         "y": [
          8,
          -8
         ]
        },
        {
         "line": {
          "color": "black"
         },
         "mode": "lines",
         "type": "scatter",
         "x": [
          12,
          11,
          11,
          11,
          12
         ],
         "y": [
          -4,
          -4,
          0,
          4,
          4
         ]
        },
        {
         "line": {
          "color": "black"
         },
         "mode": "lines",
         "type": "scatter",
         "x": [
          13,
          12,
          12,
          12,
          13
         ],
         "y": [
          2,
          2,
          4,
          6,
          6
         ]
        },
        {
         "line": {
          "color": "black"
         },
         "mode": "lines",
         "type": "scatter",
         "x": [
          13,
          12,
          12,
          12,
          13
         ],
         "y": [
          -6,
          -6,
          -4,
          -2,
          -2
         ]
        },
        {
         "error_x": {
          "array": [
           0.8
          ]
         },
         "type": "scatter",
         "x": [
          14.8
         ],
         "y": [
          6
         ]
        },
        {
         "error_x": {
          "array": [
           1.2
          ]
         },
         "type": "scatter",
         "x": [
          14.559999999999999
         ],
         "y": [
          2
         ]
        },
        {
         "error_x": {
          "array": [
           1.7999999999999998
          ]
         },
         "type": "scatter",
         "x": [
          15.3
         ],
         "y": [
          -2
         ]
        },
        {
         "error_x": {
          "array": [
           0.6
          ]
         },
         "type": "scatter",
         "x": [
          15.400000000000002
         ],
         "y": [
          -6
         ]
        },
        {
         "line": {
          "color": "red",
          "dash": "dash"
         },
         "mode": "lines",
         "type": "scatter",
         "x": [
          14.8,
          14.8
         ],
         "y": [
          7,
          -7
         ]
        }
       ],
       "layout": {
        "annotations": [
         {
          "bgcolor": "white",
          "font": {
           "size": 25
          },
          "showarrow": false,
          "text": "BEHRT",
          "x": 0,
          "y": 0
         },
         {
          "bgcolor": "white",
          "font": {
           "size": 25
          },
          "showarrow": false,
          "text": "+BS",
          "x": 1,
          "y": -4
         },
         {
          "bgcolor": "white",
          "font": {
           "size": 25
          },
          "showarrow": false,
          "text": "+FV",
          "x": 2,
          "y": -6
         },
         {
          "bgcolor": "white",
          "font": {
           "size": 25
          },
          "showarrow": false,
          "text": "+FV",
          "x": 2,
          "y": 2
         },
         {
          "bgcolor": "white",
          "font": {
           "size": 25
          },
          "showarrow": false,
          "text": "-SEP",
          "x": 2.7,
          "y": -7
         },
         {
          "bgcolor": "white",
          "font": {
           "size": 25
          },
          "showarrow": false,
          "text": "-SEP",
          "x": 2.7,
          "y": -3
         },
         {
          "bgcolor": "white",
          "font": {
           "size": 25
          },
          "showarrow": false,
          "text": "-SEP",
          "x": 2.7,
          "y": 1
         },
         {
          "bgcolor": "white",
          "font": {
           "size": 25
          },
          "showarrow": false,
          "text": "-SEP",
          "x": 2.7,
          "y": 5
         },
         {
          "bgcolor": "white",
          "font": {
           "size": 25
          },
          "showarrow": false,
          "text": "+BS+FV",
          "x": 11,
          "y": 0
         },
         {
          "bgcolor": "white",
          "font": {
           "size": 25
          },
          "showarrow": false,
          "text": "+CE",
          "x": 12,
          "y": -4
         },
         {
          "bgcolor": "white",
          "font": {
           "size": 25
          },
          "showarrow": false,
          "text": "+T",
          "x": 12.85,
          "y": 2
         },
         {
          "bgcolor": "white",
          "font": {
           "size": 25
          },
          "showarrow": false,
          "text": "+T",
          "x": 12.85,
          "y": -6
         }
        ],
        "height": 600,
        "legend": {
         "tracegroupgap": 0
        },
        "margin": {
         "t": 60
        },
        "plot_bgcolor": "white",
        "showlegend": false,
        "template": {
         "data": {
          "bar": [
           {
            "error_x": {
             "color": "#2a3f5f"
            },
            "error_y": {
             "color": "#2a3f5f"
            },
            "marker": {
             "line": {
              "color": "#E5ECF6",
              "width": 0.5
             },
             "pattern": {
              "fillmode": "overlay",
              "size": 10,
              "solidity": 0.2
             }
            },
            "type": "bar"
           }
          ],
          "barpolar": [
           {
            "marker": {
             "line": {
              "color": "#E5ECF6",
              "width": 0.5
             },
             "pattern": {
              "fillmode": "overlay",
              "size": 10,
              "solidity": 0.2
             }
            },
            "type": "barpolar"
           }
          ],
          "carpet": [
           {
            "aaxis": {
             "endlinecolor": "#2a3f5f",
             "gridcolor": "white",
             "linecolor": "white",
             "minorgridcolor": "white",
             "startlinecolor": "#2a3f5f"
            },
            "baxis": {
             "endlinecolor": "#2a3f5f",
             "gridcolor": "white",
             "linecolor": "white",
             "minorgridcolor": "white",
             "startlinecolor": "#2a3f5f"
            },
            "type": "carpet"
           }
          ],
          "choropleth": [
           {
            "colorbar": {
             "outlinewidth": 0,
             "ticks": ""
            },
            "type": "choropleth"
           }
          ],
          "contour": [
           {
            "colorbar": {
             "outlinewidth": 0,
             "ticks": ""
            },
            "colorscale": [
             [
              0,
              "#0d0887"
             ],
             [
              0.1111111111111111,
              "#46039f"
             ],
             [
              0.2222222222222222,
              "#7201a8"
             ],
             [
              0.3333333333333333,
              "#9c179e"
             ],
             [
              0.4444444444444444,
              "#bd3786"
             ],
             [
              0.5555555555555556,
              "#d8576b"
             ],
             [
              0.6666666666666666,
              "#ed7953"
             ],
             [
              0.7777777777777778,
              "#fb9f3a"
             ],
             [
              0.8888888888888888,
              "#fdca26"
             ],
             [
              1,
              "#f0f921"
             ]
            ],
            "type": "contour"
           }
          ],
          "contourcarpet": [
           {
            "colorbar": {
             "outlinewidth": 0,
             "ticks": ""
            },
            "type": "contourcarpet"
           }
          ],
          "heatmap": [
           {
            "colorbar": {
             "outlinewidth": 0,
             "ticks": ""
            },
            "colorscale": [
             [
              0,
              "#0d0887"
             ],
             [
              0.1111111111111111,
              "#46039f"
             ],
             [
              0.2222222222222222,
              "#7201a8"
             ],
             [
              0.3333333333333333,
              "#9c179e"
             ],
             [
              0.4444444444444444,
              "#bd3786"
             ],
             [
              0.5555555555555556,
              "#d8576b"
             ],
             [
              0.6666666666666666,
              "#ed7953"
             ],
             [
              0.7777777777777778,
              "#fb9f3a"
             ],
             [
              0.8888888888888888,
              "#fdca26"
             ],
             [
              1,
              "#f0f921"
             ]
            ],
            "type": "heatmap"
           }
          ],
          "heatmapgl": [
           {
            "colorbar": {
             "outlinewidth": 0,
             "ticks": ""
            },
            "colorscale": [
             [
              0,
              "#0d0887"
             ],
             [
              0.1111111111111111,
              "#46039f"
             ],
             [
              0.2222222222222222,
              "#7201a8"
             ],
             [
              0.3333333333333333,
              "#9c179e"
             ],
             [
              0.4444444444444444,
              "#bd3786"
             ],
             [
              0.5555555555555556,
              "#d8576b"
             ],
             [
              0.6666666666666666,
              "#ed7953"
             ],
             [
              0.7777777777777778,
              "#fb9f3a"
             ],
             [
              0.8888888888888888,
              "#fdca26"
             ],
             [
              1,
              "#f0f921"
             ]
            ],
            "type": "heatmapgl"
           }
          ],
          "histogram": [
           {
            "marker": {
             "pattern": {
              "fillmode": "overlay",
              "size": 10,
              "solidity": 0.2
             }
            },
            "type": "histogram"
           }
          ],
          "histogram2d": [
           {
            "colorbar": {
             "outlinewidth": 0,
             "ticks": ""
            },
            "colorscale": [
             [
              0,
              "#0d0887"
             ],
             [
              0.1111111111111111,
              "#46039f"
             ],
             [
              0.2222222222222222,
              "#7201a8"
             ],
             [
              0.3333333333333333,
              "#9c179e"
             ],
             [
              0.4444444444444444,
              "#bd3786"
             ],
             [
              0.5555555555555556,
              "#d8576b"
             ],
             [
              0.6666666666666666,
              "#ed7953"
             ],
             [
              0.7777777777777778,
              "#fb9f3a"
             ],
             [
              0.8888888888888888,
              "#fdca26"
             ],
             [
              1,
              "#f0f921"
             ]
            ],
            "type": "histogram2d"
           }
          ],
          "histogram2dcontour": [
           {
            "colorbar": {
             "outlinewidth": 0,
             "ticks": ""
            },
            "colorscale": [
             [
              0,
              "#0d0887"
             ],
             [
              0.1111111111111111,
              "#46039f"
             ],
             [
              0.2222222222222222,
              "#7201a8"
             ],
             [
              0.3333333333333333,
              "#9c179e"
             ],
             [
              0.4444444444444444,
              "#bd3786"
             ],
             [
              0.5555555555555556,
              "#d8576b"
             ],
             [
              0.6666666666666666,
              "#ed7953"
             ],
             [
              0.7777777777777778,
              "#fb9f3a"
             ],
             [
              0.8888888888888888,
              "#fdca26"
             ],
             [
              1,
              "#f0f921"
             ]
            ],
            "type": "histogram2dcontour"
           }
          ],
          "mesh3d": [
           {
            "colorbar": {
             "outlinewidth": 0,
             "ticks": ""
            },
            "type": "mesh3d"
           }
          ],
          "parcoords": [
           {
            "line": {
             "colorbar": {
              "outlinewidth": 0,
              "ticks": ""
             }
            },
            "type": "parcoords"
           }
          ],
          "pie": [
           {
            "automargin": true,
            "type": "pie"
           }
          ],
          "scatter": [
           {
            "fillpattern": {
             "fillmode": "overlay",
             "size": 10,
             "solidity": 0.2
            },
            "type": "scatter"
           }
          ],
          "scatter3d": [
           {
            "line": {
             "colorbar": {
              "outlinewidth": 0,
              "ticks": ""
             }
            },
            "marker": {
             "colorbar": {
              "outlinewidth": 0,
              "ticks": ""
             }
            },
            "type": "scatter3d"
           }
          ],
          "scattercarpet": [
           {
            "marker": {
             "colorbar": {
              "outlinewidth": 0,
              "ticks": ""
             }
            },
            "type": "scattercarpet"
           }
          ],
          "scattergeo": [
           {
            "marker": {
             "colorbar": {
              "outlinewidth": 0,
              "ticks": ""
             }
            },
            "type": "scattergeo"
           }
          ],
          "scattergl": [
           {
            "marker": {
             "colorbar": {
              "outlinewidth": 0,
              "ticks": ""
             }
            },
            "type": "scattergl"
           }
          ],
          "scattermapbox": [
           {
            "marker": {
             "colorbar": {
              "outlinewidth": 0,
              "ticks": ""
             }
            },
            "type": "scattermapbox"
           }
          ],
          "scatterpolar": [
           {
            "marker": {
             "colorbar": {
              "outlinewidth": 0,
              "ticks": ""
             }
            },
            "type": "scatterpolar"
           }
          ],
          "scatterpolargl": [
           {
            "marker": {
             "colorbar": {
              "outlinewidth": 0,
              "ticks": ""
             }
            },
            "type": "scatterpolargl"
           }
          ],
          "scatterternary": [
           {
            "marker": {
             "colorbar": {
              "outlinewidth": 0,
              "ticks": ""
             }
            },
            "type": "scatterternary"
           }
          ],
          "surface": [
           {
            "colorbar": {
             "outlinewidth": 0,
             "ticks": ""
            },
            "colorscale": [
             [
              0,
              "#0d0887"
             ],
             [
              0.1111111111111111,
              "#46039f"
             ],
             [
              0.2222222222222222,
              "#7201a8"
             ],
             [
              0.3333333333333333,
              "#9c179e"
             ],
             [
              0.4444444444444444,
              "#bd3786"
             ],
             [
              0.5555555555555556,
              "#d8576b"
             ],
             [
              0.6666666666666666,
              "#ed7953"
             ],
             [
              0.7777777777777778,
              "#fb9f3a"
             ],
             [
              0.8888888888888888,
              "#fdca26"
             ],
             [
              1,
              "#f0f921"
             ]
            ],
            "type": "surface"
           }
          ],
          "table": [
           {
            "cells": {
             "fill": {
              "color": "#EBF0F8"
             },
             "line": {
              "color": "white"
             }
            },
            "header": {
             "fill": {
              "color": "#C8D4E3"
             },
             "line": {
              "color": "white"
             }
            },
            "type": "table"
           }
          ]
         },
         "layout": {
          "annotationdefaults": {
           "arrowcolor": "#2a3f5f",
           "arrowhead": 0,
           "arrowwidth": 1
          },
          "autotypenumbers": "strict",
          "coloraxis": {
           "colorbar": {
            "outlinewidth": 0,
            "ticks": ""
           }
          },
          "colorscale": {
           "diverging": [
            [
             0,
             "#8e0152"
            ],
            [
             0.1,
             "#c51b7d"
            ],
            [
             0.2,
             "#de77ae"
            ],
            [
             0.3,
             "#f1b6da"
            ],
            [
             0.4,
             "#fde0ef"
            ],
            [
             0.5,
             "#f7f7f7"
            ],
            [
             0.6,
             "#e6f5d0"
            ],
            [
             0.7,
             "#b8e186"
            ],
            [
             0.8,
             "#7fbc41"
            ],
            [
             0.9,
             "#4d9221"
            ],
            [
             1,
             "#276419"
            ]
           ],
           "sequential": [
            [
             0,
             "#0d0887"
            ],
            [
             0.1111111111111111,
             "#46039f"
            ],
            [
             0.2222222222222222,
             "#7201a8"
            ],
            [
             0.3333333333333333,
             "#9c179e"
            ],
            [
             0.4444444444444444,
             "#bd3786"
            ],
            [
             0.5555555555555556,
             "#d8576b"
            ],
            [
             0.6666666666666666,
             "#ed7953"
            ],
            [
             0.7777777777777778,
             "#fb9f3a"
            ],
            [
             0.8888888888888888,
             "#fdca26"
            ],
            [
             1,
             "#f0f921"
            ]
           ],
           "sequentialminus": [
            [
             0,
             "#0d0887"
            ],
            [
             0.1111111111111111,
             "#46039f"
            ],
            [
             0.2222222222222222,
             "#7201a8"
            ],
            [
             0.3333333333333333,
             "#9c179e"
            ],
            [
             0.4444444444444444,
             "#bd3786"
            ],
            [
             0.5555555555555556,
             "#d8576b"
            ],
            [
             0.6666666666666666,
             "#ed7953"
            ],
            [
             0.7777777777777778,
             "#fb9f3a"
            ],
            [
             0.8888888888888888,
             "#fdca26"
            ],
            [
             1,
             "#f0f921"
            ]
           ]
          },
          "colorway": [
           "#636efa",
           "#EF553B",
           "#00cc96",
           "#ab63fa",
           "#FFA15A",
           "#19d3f3",
           "#FF6692",
           "#B6E880",
           "#FF97FF",
           "#FECB52"
          ],
          "font": {
           "color": "#2a3f5f"
          },
          "geo": {
           "bgcolor": "white",
           "lakecolor": "white",
           "landcolor": "#E5ECF6",
           "showlakes": true,
           "showland": true,
           "subunitcolor": "white"
          },
          "hoverlabel": {
           "align": "left"
          },
          "hovermode": "closest",
          "mapbox": {
           "style": "light"
          },
          "paper_bgcolor": "white",
          "plot_bgcolor": "#E5ECF6",
          "polar": {
           "angularaxis": {
            "gridcolor": "white",
            "linecolor": "white",
            "ticks": ""
           },
           "bgcolor": "#E5ECF6",
           "radialaxis": {
            "gridcolor": "white",
            "linecolor": "white",
            "ticks": ""
           }
          },
          "scene": {
           "xaxis": {
            "backgroundcolor": "#E5ECF6",
            "gridcolor": "white",
            "gridwidth": 2,
            "linecolor": "white",
            "showbackground": true,
            "ticks": "",
            "zerolinecolor": "white"
           },
           "yaxis": {
            "backgroundcolor": "#E5ECF6",
            "gridcolor": "white",
            "gridwidth": 2,
            "linecolor": "white",
            "showbackground": true,
            "ticks": "",
            "zerolinecolor": "white"
           },
           "zaxis": {
            "backgroundcolor": "#E5ECF6",
            "gridcolor": "white",
            "gridwidth": 2,
            "linecolor": "white",
            "showbackground": true,
            "ticks": "",
            "zerolinecolor": "white"
           }
          },
          "shapedefaults": {
           "line": {
            "color": "#2a3f5f"
           }
          },
          "ternary": {
           "aaxis": {
            "gridcolor": "white",
            "linecolor": "white",
            "ticks": ""
           },
           "baxis": {
            "gridcolor": "white",
            "linecolor": "white",
            "ticks": ""
           },
           "bgcolor": "#E5ECF6",
           "caxis": {
            "gridcolor": "white",
            "linecolor": "white",
            "ticks": ""
           }
          },
          "title": {
           "x": 0.05
          },
          "xaxis": {
           "automargin": true,
           "gridcolor": "white",
           "linecolor": "white",
           "ticks": "",
           "title": {
            "standoff": 15
           },
           "zerolinecolor": "white",
           "zerolinewidth": 2
          },
          "yaxis": {
           "automargin": true,
           "gridcolor": "white",
           "linecolor": "white",
           "ticks": "",
           "title": {
            "standoff": 15
           },
           "zerolinecolor": "white",
           "zerolinewidth": 2
          }
         }
        },
        "xaxis": {
         "anchor": "y",
         "domain": [
          0,
          1
         ],
         "visible": false
        },
        "yaxis": {
         "anchor": "x",
         "domain": [
          0,
          1
         ],
         "visible": false
        }
       }
      }
     },
     "metadata": {},
     "output_type": "display_data"
    }
   ],
   "source": [
    "fig = px.scatter()\n",
    "fig.update_layout(\n",
    "    height=600,\n",
    "    plot_bgcolor=\"white\",\n",
    "    xaxis=dict(\n",
    "        visible=False\n",
    "    ),\n",
    "    yaxis=dict(\n",
    "        visible=False\n",
    "    ),\n",
    "    showlegend=False,\n",
    ")\n",
    "\n",
    "\"\"\" DATA \"\"\"\n",
    "x0 = 0\n",
    "make_split(fig, 4, x0, 0, double=False, names=[\"BEHRT\"])\n",
    "make_split(fig, 2, x0+1, 4, double=True, names=[\"+BS\"])\n",
    "make_split(fig, 1, x0+2, 6, double=True, names=[\"+FV\"])\n",
    "make_split(fig, 1, x0+2, 2, double=True, names=[\"+FV\"], bottom=False)\n",
    "for x, y in zip([2.7]*4, [-7, -3, 1, 5]):\n",
    "    fig.add_annotation(x=x, y=y, text=\"-SEP\", showarrow=False, bgcolor=\"white\", font=dict(size=25)),\n",
    "\n",
    "bar_y = [7, 5, 3, 1, -1, -3, -5, -7]\n",
    "rocs = [0.948, 0.933, 0.937, 0.937, 0.946, 0.947, 0.950, 0.943]\n",
    "errors = [0.11, 0.12, 0.13, 0.07, 0.05, 0.04, 0.04, 0.09]\n",
    "make_bars(fig, bar_y, rocs, errors, -12)\n",
    "\n",
    "\"\"\" ARCHITECTURE \"\"\"\n",
    "x0 = 11\n",
    "make_split(fig, 4, x0, 0, double=False, names=[\"+BS+FV\"])\n",
    "make_split(fig, 2, x0+1, 4, double=True, names=[\"+CE\"])\n",
    "for x, y in zip([12.85]*2, [2, -6]):\n",
    "    fig.add_annotation(x=x, y=y, text=\"+T\", showarrow=False, bgcolor=\"white\", font=dict(size=25)),\n",
    "bar_y = [6, 2, -2, -6]\n",
    "rocs = [0.950, 0.938, 0.975, 0.98]\n",
    "errors = [0.04, 0.06, 0.09, 0.03]\n",
    "make_bars(fig, bar_y, rocs, errors, -4.2)\n",
    "\n",
    "fig.show()"
   ]
  },
  {
   "cell_type": "code",
   "execution_count": 20,
   "metadata": {},
   "outputs": [
    {
     "data": {
      "application/vnd.plotly.v1+json": {
       "config": {
        "plotlyServerURL": "https://plot.ly"
       },
       "data": [
        {
         "hovertemplate": "<extra></extra>",
         "legendgroup": "",
         "marker": {
          "color": "#636efa",
          "symbol": "circle"
         },
         "mode": "markers",
         "name": "",
         "orientation": "v",
         "showlegend": false,
         "type": "scatter",
         "xaxis": "x",
         "yaxis": "y"
        },
        {
         "line": {
          "color": "black"
         },
         "mode": "lines",
         "type": "scatter",
         "x": [
          1,
          0,
          0,
          0,
          1
         ],
         "y": [
          -4,
          -4,
          0,
          4,
          4
         ]
        },
        {
         "line": {
          "color": "black"
         },
         "mode": "lines",
         "type": "scatter",
         "x": [
          2,
          1,
          1,
          1,
          2
         ],
         "y": [
          2,
          2,
          4,
          6,
          6
         ]
        },
        {
         "line": {
          "color": "black"
         },
         "mode": "lines",
         "type": "scatter",
         "x": [
          2,
          1,
          1,
          1,
          2
         ],
         "y": [
          -6,
          -6,
          -4,
          -2,
          -2
         ]
        },
        {
         "line": {
          "color": "black"
         },
         "mode": "lines",
         "type": "scatter",
         "x": [
          3,
          2,
          2,
          2,
          3
         ],
         "y": [
          5,
          5,
          6,
          7,
          7
         ]
        },
        {
         "line": {
          "color": "black"
         },
         "mode": "lines",
         "type": "scatter",
         "x": [
          3,
          2,
          2,
          2,
          3
         ],
         "y": [
          -7,
          -7,
          -6,
          -5,
          -5
         ]
        },
        {
         "line": {
          "color": "black"
         },
         "mode": "lines",
         "type": "scatter",
         "x": [
          3,
          2,
          2,
          2,
          3
         ],
         "y": [
          1,
          1,
          2,
          3,
          3
         ]
        },
        {
         "line": {
          "color": "black"
         },
         "mode": "lines",
         "type": "scatter",
         "x": [
          3,
          2,
          2,
          2,
          3
         ],
         "y": [
          -3,
          -3,
          -2,
          -1,
          -1
         ]
        },
        {
         "marker": {
          "color": "rgba(0,0,0,0)",
          "line": {
           "width": 0
          }
         },
         "orientation": "h",
         "type": "bar",
         "x": [
          3.5999999999999943,
          3.5,
          3.4499999999999957,
          3.5999999999999943,
          3.5999999999999943,
          3.5999999999999943,
          3.5999999999999943,
          3.5999999999999943
         ],
         "y": [
          7,
          5,
          3,
          1,
          -1,
          -3,
          -5,
          -7
         ]
        },
        {
         "line": {
          "color": "red"
         },
         "type": "scatter",
         "x": [
          3.5999999999999943,
          3.5999999999999943
         ],
         "y": [
          8,
          -8
         ]
        },
        {
         "orientation": "h",
         "type": "bar",
         "x": [
          0,
          0.09999999999999432,
          0.14999999999999858,
          0.15000000000000568,
          0.25,
          0.15000000000000568,
          0.6000000000000014,
          0.10000000000000142
         ],
         "y": [
          7,
          5,
          3,
          1,
          -1,
          -3,
          -5,
          -7
         ]
        }
       ],
       "layout": {
        "annotations": [
         {
          "bgcolor": "white",
          "font": {
           "size": 25
          },
          "showarrow": false,
          "text": "BEHRT",
          "x": 0,
          "y": 0
         },
         {
          "bgcolor": "white",
          "font": {
           "size": 25
          },
          "showarrow": false,
          "text": "+BS",
          "x": 1,
          "y": -4
         },
         {
          "bgcolor": "white",
          "font": {
           "size": 25
          },
          "showarrow": false,
          "text": "+FV",
          "x": 2,
          "y": -6
         },
         {
          "bgcolor": "white",
          "font": {
           "size": 25
          },
          "showarrow": false,
          "text": "+FV",
          "x": 2,
          "y": 2
         },
         {
          "bgcolor": "white",
          "font": {
           "size": 25
          },
          "showarrow": false,
          "text": "-SEP",
          "x": 2.7,
          "y": -7
         },
         {
          "bgcolor": "white",
          "font": {
           "size": 25
          },
          "showarrow": false,
          "text": "-SEP",
          "x": 2.7,
          "y": -3
         },
         {
          "bgcolor": "white",
          "font": {
           "size": 25
          },
          "showarrow": false,
          "text": "-SEP",
          "x": 2.7,
          "y": 1
         },
         {
          "bgcolor": "white",
          "font": {
           "size": 25
          },
          "showarrow": false,
          "text": "-SEP",
          "x": 2.7,
          "y": 5
         }
        ],
        "barmode": "stack",
        "height": 600,
        "legend": {
         "tracegroupgap": 0
        },
        "margin": {
         "t": 60
        },
        "plot_bgcolor": "white",
        "showlegend": false,
        "template": {
         "data": {
          "bar": [
           {
            "error_x": {
             "color": "#2a3f5f"
            },
            "error_y": {
             "color": "#2a3f5f"
            },
            "marker": {
             "line": {
              "color": "#E5ECF6",
              "width": 0.5
             },
             "pattern": {
              "fillmode": "overlay",
              "size": 10,
              "solidity": 0.2
             }
            },
            "type": "bar"
           }
          ],
          "barpolar": [
           {
            "marker": {
             "line": {
              "color": "#E5ECF6",
              "width": 0.5
             },
             "pattern": {
              "fillmode": "overlay",
              "size": 10,
              "solidity": 0.2
             }
            },
            "type": "barpolar"
           }
          ],
          "carpet": [
           {
            "aaxis": {
             "endlinecolor": "#2a3f5f",
             "gridcolor": "white",
             "linecolor": "white",
             "minorgridcolor": "white",
             "startlinecolor": "#2a3f5f"
            },
            "baxis": {
             "endlinecolor": "#2a3f5f",
             "gridcolor": "white",
             "linecolor": "white",
             "minorgridcolor": "white",
             "startlinecolor": "#2a3f5f"
            },
            "type": "carpet"
           }
          ],
          "choropleth": [
           {
            "colorbar": {
             "outlinewidth": 0,
             "ticks": ""
            },
            "type": "choropleth"
           }
          ],
          "contour": [
           {
            "colorbar": {
             "outlinewidth": 0,
             "ticks": ""
            },
            "colorscale": [
             [
              0,
              "#0d0887"
             ],
             [
              0.1111111111111111,
              "#46039f"
             ],
             [
              0.2222222222222222,
              "#7201a8"
             ],
             [
              0.3333333333333333,
              "#9c179e"
             ],
             [
              0.4444444444444444,
              "#bd3786"
             ],
             [
              0.5555555555555556,
              "#d8576b"
             ],
             [
              0.6666666666666666,
              "#ed7953"
             ],
             [
              0.7777777777777778,
              "#fb9f3a"
             ],
             [
              0.8888888888888888,
              "#fdca26"
             ],
             [
              1,
              "#f0f921"
             ]
            ],
            "type": "contour"
           }
          ],
          "contourcarpet": [
           {
            "colorbar": {
             "outlinewidth": 0,
             "ticks": ""
            },
            "type": "contourcarpet"
           }
          ],
          "heatmap": [
           {
            "colorbar": {
             "outlinewidth": 0,
             "ticks": ""
            },
            "colorscale": [
             [
              0,
              "#0d0887"
             ],
             [
              0.1111111111111111,
              "#46039f"
             ],
             [
              0.2222222222222222,
              "#7201a8"
             ],
             [
              0.3333333333333333,
              "#9c179e"
             ],
             [
              0.4444444444444444,
              "#bd3786"
             ],
             [
              0.5555555555555556,
              "#d8576b"
             ],
             [
              0.6666666666666666,
              "#ed7953"
             ],
             [
              0.7777777777777778,
              "#fb9f3a"
             ],
             [
              0.8888888888888888,
              "#fdca26"
             ],
             [
              1,
              "#f0f921"
             ]
            ],
            "type": "heatmap"
           }
          ],
          "heatmapgl": [
           {
            "colorbar": {
             "outlinewidth": 0,
             "ticks": ""
            },
            "colorscale": [
             [
              0,
              "#0d0887"
             ],
             [
              0.1111111111111111,
              "#46039f"
             ],
             [
              0.2222222222222222,
              "#7201a8"
             ],
             [
              0.3333333333333333,
              "#9c179e"
             ],
             [
              0.4444444444444444,
              "#bd3786"
             ],
             [
              0.5555555555555556,
              "#d8576b"
             ],
             [
              0.6666666666666666,
              "#ed7953"
             ],
             [
              0.7777777777777778,
              "#fb9f3a"
             ],
             [
              0.8888888888888888,
              "#fdca26"
             ],
             [
              1,
              "#f0f921"
             ]
            ],
            "type": "heatmapgl"
           }
          ],
          "histogram": [
           {
            "marker": {
             "pattern": {
              "fillmode": "overlay",
              "size": 10,
              "solidity": 0.2
             }
            },
            "type": "histogram"
           }
          ],
          "histogram2d": [
           {
            "colorbar": {
             "outlinewidth": 0,
             "ticks": ""
            },
            "colorscale": [
             [
              0,
              "#0d0887"
             ],
             [
              0.1111111111111111,
              "#46039f"
             ],
             [
              0.2222222222222222,
              "#7201a8"
             ],
             [
              0.3333333333333333,
              "#9c179e"
             ],
             [
              0.4444444444444444,
              "#bd3786"
             ],
             [
              0.5555555555555556,
              "#d8576b"
             ],
             [
              0.6666666666666666,
              "#ed7953"
             ],
             [
              0.7777777777777778,
              "#fb9f3a"
             ],
             [
              0.8888888888888888,
              "#fdca26"
             ],
             [
              1,
              "#f0f921"
             ]
            ],
            "type": "histogram2d"
           }
          ],
          "histogram2dcontour": [
           {
            "colorbar": {
             "outlinewidth": 0,
             "ticks": ""
            },
            "colorscale": [
             [
              0,
              "#0d0887"
             ],
             [
              0.1111111111111111,
              "#46039f"
             ],
             [
              0.2222222222222222,
              "#7201a8"
             ],
             [
              0.3333333333333333,
              "#9c179e"
             ],
             [
              0.4444444444444444,
              "#bd3786"
             ],
             [
              0.5555555555555556,
              "#d8576b"
             ],
             [
              0.6666666666666666,
              "#ed7953"
             ],
             [
              0.7777777777777778,
              "#fb9f3a"
             ],
             [
              0.8888888888888888,
              "#fdca26"
             ],
             [
              1,
              "#f0f921"
             ]
            ],
            "type": "histogram2dcontour"
           }
          ],
          "mesh3d": [
           {
            "colorbar": {
             "outlinewidth": 0,
             "ticks": ""
            },
            "type": "mesh3d"
           }
          ],
          "parcoords": [
           {
            "line": {
             "colorbar": {
              "outlinewidth": 0,
              "ticks": ""
             }
            },
            "type": "parcoords"
           }
          ],
          "pie": [
           {
            "automargin": true,
            "type": "pie"
           }
          ],
          "scatter": [
           {
            "fillpattern": {
             "fillmode": "overlay",
             "size": 10,
             "solidity": 0.2
            },
            "type": "scatter"
           }
          ],
          "scatter3d": [
           {
            "line": {
             "colorbar": {
              "outlinewidth": 0,
              "ticks": ""
             }
            },
            "marker": {
             "colorbar": {
              "outlinewidth": 0,
              "ticks": ""
             }
            },
            "type": "scatter3d"
           }
          ],
          "scattercarpet": [
           {
            "marker": {
             "colorbar": {
              "outlinewidth": 0,
              "ticks": ""
             }
            },
            "type": "scattercarpet"
           }
          ],
          "scattergeo": [
           {
            "marker": {
             "colorbar": {
              "outlinewidth": 0,
              "ticks": ""
             }
            },
            "type": "scattergeo"
           }
          ],
          "scattergl": [
           {
            "marker": {
             "colorbar": {
              "outlinewidth": 0,
              "ticks": ""
             }
            },
            "type": "scattergl"
           }
          ],
          "scattermapbox": [
           {
            "marker": {
             "colorbar": {
              "outlinewidth": 0,
              "ticks": ""
             }
            },
            "type": "scattermapbox"
           }
          ],
          "scatterpolar": [
           {
            "marker": {
             "colorbar": {
              "outlinewidth": 0,
              "ticks": ""
             }
            },
            "type": "scatterpolar"
           }
          ],
          "scatterpolargl": [
           {
            "marker": {
             "colorbar": {
              "outlinewidth": 0,
              "ticks": ""
             }
            },
            "type": "scatterpolargl"
           }
          ],
          "scatterternary": [
           {
            "marker": {
             "colorbar": {
              "outlinewidth": 0,
              "ticks": ""
             }
            },
            "type": "scatterternary"
           }
          ],
          "surface": [
           {
            "colorbar": {
             "outlinewidth": 0,
             "ticks": ""
            },
            "colorscale": [
             [
              0,
              "#0d0887"
             ],
             [
              0.1111111111111111,
              "#46039f"
             ],
             [
              0.2222222222222222,
              "#7201a8"
             ],
             [
              0.3333333333333333,
              "#9c179e"
             ],
             [
              0.4444444444444444,
              "#bd3786"
             ],
             [
              0.5555555555555556,
              "#d8576b"
             ],
             [
              0.6666666666666666,
              "#ed7953"
             ],
             [
              0.7777777777777778,
              "#fb9f3a"
             ],
             [
              0.8888888888888888,
              "#fdca26"
             ],
             [
              1,
              "#f0f921"
             ]
            ],
            "type": "surface"
           }
          ],
          "table": [
           {
            "cells": {
             "fill": {
              "color": "#EBF0F8"
             },
             "line": {
              "color": "white"
             }
            },
            "header": {
             "fill": {
              "color": "#C8D4E3"
             },
             "line": {
              "color": "white"
             }
            },
            "type": "table"
           }
          ]
         },
         "layout": {
          "annotationdefaults": {
           "arrowcolor": "#2a3f5f",
           "arrowhead": 0,
           "arrowwidth": 1
          },
          "autotypenumbers": "strict",
          "coloraxis": {
           "colorbar": {
            "outlinewidth": 0,
            "ticks": ""
           }
          },
          "colorscale": {
           "diverging": [
            [
             0,
             "#8e0152"
            ],
            [
             0.1,
             "#c51b7d"
            ],
            [
             0.2,
             "#de77ae"
            ],
            [
             0.3,
             "#f1b6da"
            ],
            [
             0.4,
             "#fde0ef"
            ],
            [
             0.5,
             "#f7f7f7"
            ],
            [
             0.6,
             "#e6f5d0"
            ],
            [
             0.7,
             "#b8e186"
            ],
            [
             0.8,
             "#7fbc41"
            ],
            [
             0.9,
             "#4d9221"
            ],
            [
             1,
             "#276419"
            ]
           ],
           "sequential": [
            [
             0,
             "#0d0887"
            ],
            [
             0.1111111111111111,
             "#46039f"
            ],
            [
             0.2222222222222222,
             "#7201a8"
            ],
            [
             0.3333333333333333,
             "#9c179e"
            ],
            [
             0.4444444444444444,
             "#bd3786"
            ],
            [
             0.5555555555555556,
             "#d8576b"
            ],
            [
             0.6666666666666666,
             "#ed7953"
            ],
            [
             0.7777777777777778,
             "#fb9f3a"
            ],
            [
             0.8888888888888888,
             "#fdca26"
            ],
            [
             1,
             "#f0f921"
            ]
           ],
           "sequentialminus": [
            [
             0,
             "#0d0887"
            ],
            [
             0.1111111111111111,
             "#46039f"
            ],
            [
             0.2222222222222222,
             "#7201a8"
            ],
            [
             0.3333333333333333,
             "#9c179e"
            ],
            [
             0.4444444444444444,
             "#bd3786"
            ],
            [
             0.5555555555555556,
             "#d8576b"
            ],
            [
             0.6666666666666666,
             "#ed7953"
            ],
            [
             0.7777777777777778,
             "#fb9f3a"
            ],
            [
             0.8888888888888888,
             "#fdca26"
            ],
            [
             1,
             "#f0f921"
            ]
           ]
          },
          "colorway": [
           "#636efa",
           "#EF553B",
           "#00cc96",
           "#ab63fa",
           "#FFA15A",
           "#19d3f3",
           "#FF6692",
           "#B6E880",
           "#FF97FF",
           "#FECB52"
          ],
          "font": {
           "color": "#2a3f5f"
          },
          "geo": {
           "bgcolor": "white",
           "lakecolor": "white",
           "landcolor": "#E5ECF6",
           "showlakes": true,
           "showland": true,
           "subunitcolor": "white"
          },
          "hoverlabel": {
           "align": "left"
          },
          "hovermode": "closest",
          "mapbox": {
           "style": "light"
          },
          "paper_bgcolor": "white",
          "plot_bgcolor": "#E5ECF6",
          "polar": {
           "angularaxis": {
            "gridcolor": "white",
            "linecolor": "white",
            "ticks": ""
           },
           "bgcolor": "#E5ECF6",
           "radialaxis": {
            "gridcolor": "white",
            "linecolor": "white",
            "ticks": ""
           }
          },
          "scene": {
           "xaxis": {
            "backgroundcolor": "#E5ECF6",
            "gridcolor": "white",
            "gridwidth": 2,
            "linecolor": "white",
            "showbackground": true,
            "ticks": "",
            "zerolinecolor": "white"
           },
           "yaxis": {
            "backgroundcolor": "#E5ECF6",
            "gridcolor": "white",
            "gridwidth": 2,
            "linecolor": "white",
            "showbackground": true,
            "ticks": "",
            "zerolinecolor": "white"
           },
           "zaxis": {
            "backgroundcolor": "#E5ECF6",
            "gridcolor": "white",
            "gridwidth": 2,
            "linecolor": "white",
            "showbackground": true,
            "ticks": "",
            "zerolinecolor": "white"
           }
          },
          "shapedefaults": {
           "line": {
            "color": "#2a3f5f"
           }
          },
          "ternary": {
           "aaxis": {
            "gridcolor": "white",
            "linecolor": "white",
            "ticks": ""
           },
           "baxis": {
            "gridcolor": "white",
            "linecolor": "white",
            "ticks": ""
           },
           "bgcolor": "#E5ECF6",
           "caxis": {
            "gridcolor": "white",
            "linecolor": "white",
            "ticks": ""
           }
          },
          "title": {
           "x": 0.05
          },
          "xaxis": {
           "automargin": true,
           "gridcolor": "white",
           "linecolor": "white",
           "ticks": "",
           "title": {
            "standoff": 15
           },
           "zerolinecolor": "white",
           "zerolinewidth": 2
          },
          "yaxis": {
           "automargin": true,
           "gridcolor": "white",
           "linecolor": "white",
           "ticks": "",
           "title": {
            "standoff": 15
           },
           "zerolinecolor": "white",
           "zerolinewidth": 2
          }
         }
        },
        "xaxis": {
         "anchor": "y",
         "domain": [
          0,
          1
         ],
         "visible": false
        },
        "yaxis": {
         "anchor": "x",
         "domain": [
          0,
          1
         ],
         "visible": false
        }
       }
      }
     },
     "metadata": {},
     "output_type": "display_data"
    }
   ],
   "source": [
    "fig = px.scatter()\n",
    "fig.update_layout(\n",
    "    height=600,\n",
    "    plot_bgcolor=\"white\",\n",
    "    xaxis=dict(\n",
    "        visible=False\n",
    "    ),\n",
    "    yaxis=dict(\n",
    "        visible=False\n",
    "    ),\n",
    "    showlegend=False,\n",
    ")\n",
    "\n",
    "\"\"\" DATA \"\"\"\n",
    "x0 = 0\n",
    "make_split(fig, 4, x0, 0, double=False, names=[\"BEHRT\"])\n",
    "make_split(fig, 2, x0+1, 4, double=True, names=[\"+BS\"])\n",
    "make_split(fig, 1, x0+2, 6, double=True, names=[\"+FV\"])\n",
    "make_split(fig, 1, x0+2, 2, double=True, names=[\"+FV\"], bottom=False)\n",
    "for x, y in zip([2.7]*4, [-7, -3, 1, 5]):\n",
    "    fig.add_annotation(x=x, y=y, text=\"-SEP\", showarrow=False, bgcolor=\"white\", font=dict(size=25)),\n",
    "\n",
    "bar_y = [7, 5, 3, 1, -1, -3, -5, -7]\n",
    "results = {\n",
    "    'FV0_BS0_SEP0': {'PR': (0.593, 0.015), 'ROC': (0.940, 0.007)},\n",
    "    'FV0_BS0_SEP1': {'PR': (0.606, 0.032), 'ROC': (0.942, 0.007)},\n",
    "    'FV0_BS1_SEP0': {'PR': (0.612, 0.021), 'ROC': (0.945, 0.002)},\n",
    "    'FV0_BS1_SEP1': {'PR': (0.616, 0.025), 'ROC': (0.947, 0.006)},\n",
    "    'FV1_BS0_SEP0': {'PR': (0.586, 0.005), 'ROC': (0.945, 0.004)},\n",
    "    'FV1_BS0_SEP1': {'PR': (0.592, 0.023), 'ROC': (0.939, 0.007)},\n",
    "    'FV1_BS1_SEP0': {'PR': (0.614, 0.019), 'ROC': (0.944, 0.005)},\n",
    "    'FV1_BS1_SEP1': {'PR': (0.643, 0.011), 'ROC': (0.954, 0.006)}\n",
    "}\n",
    "chart_order = [\n",
    "    \"FV0_BS0_SEP1\", \n",
    "    \"FV0_BS0_SEP0\", \n",
    "    \"FV1_BS0_SEP1\", \n",
    "    \"FV1_BS0_SEP0\", \n",
    "    \"FV0_BS1_SEP1\", \n",
    "    \"FV0_BS1_SEP0\", \n",
    "    \"FV1_BS1_SEP1\", \n",
    "    \"FV1_BS1_SEP0\"\n",
    "]\n",
    "rocs = [results[name][\"ROC\"][0]*50 for name in chart_order]\n",
    "errors = [results[name][\"ROC\"][1] for name in chart_order]\n",
    "diff = [r - rocs[0] for r in rocs]\n",
    "\n",
    "fig.add_trace(go.Bar(\n",
    "    x=[-43.5 + min(rocs[0], rocs[0] + d) for d in diff],\n",
    "    y=bar_y,\n",
    "    orientation=\"h\",\n",
    "    marker=dict(color=\"rgba(0,0,0,0)\", line=dict(width=0))\n",
    "))\n",
    "fig.add_trace(go.Scatter(\n",
    "    x=[-43.5 + rocs[0]]*2,\n",
    "    y=[8, -8],\n",
    "    line=dict(color=\"red\"),\n",
    "))\n",
    "fig.add_trace(go.Bar(\n",
    "    x=[abs(d) for d in diff],\n",
    "    y=bar_y,\n",
    "    orientation=\"h\",\n",
    "))\n",
    "\n",
    "fig.update_layout(barmode=\"stack\")\n",
    "\n",
    "fig.show()"
   ]
  },
  {
   "cell_type": "code",
   "execution_count": 28,
   "metadata": {},
   "outputs": [
    {
     "data": {
      "application/vnd.plotly.v1+json": {
       "config": {
        "plotlyServerURL": "https://plot.ly"
       },
       "data": [
        {
         "hovertemplate": "<extra></extra>",
         "legendgroup": "",
         "marker": {
          "color": "#636efa",
          "symbol": "circle"
         },
         "mode": "markers",
         "name": "",
         "orientation": "v",
         "showlegend": false,
         "type": "scatter",
         "xaxis": "x",
         "yaxis": "y"
        },
        {
         "line": {
          "color": "black"
         },
         "mode": "lines",
         "type": "scatter",
         "x": [
          1,
          0,
          0,
          0,
          1
         ],
         "y": [
          -4,
          -4,
          0,
          4,
          4
         ]
        },
        {
         "line": {
          "color": "black"
         },
         "mode": "lines",
         "type": "scatter",
         "x": [
          2,
          1,
          1,
          1,
          2
         ],
         "y": [
          2,
          2,
          4,
          6,
          6
         ]
        },
        {
         "line": {
          "color": "black"
         },
         "mode": "lines",
         "type": "scatter",
         "x": [
          2,
          1,
          1,
          1,
          2
         ],
         "y": [
          -6,
          -6,
          -4,
          -2,
          -2
         ]
        },
        {
         "line": {
          "color": "black"
         },
         "mode": "lines",
         "type": "scatter",
         "x": [
          3,
          2,
          2,
          2,
          3
         ],
         "y": [
          5,
          5,
          6,
          7,
          7
         ]
        },
        {
         "line": {
          "color": "black"
         },
         "mode": "lines",
         "type": "scatter",
         "x": [
          3,
          2,
          2,
          2,
          3
         ],
         "y": [
          -7,
          -7,
          -6,
          -5,
          -5
         ]
        },
        {
         "line": {
          "color": "black"
         },
         "mode": "lines",
         "type": "scatter",
         "x": [
          3,
          2,
          2,
          2,
          3
         ],
         "y": [
          1,
          1,
          2,
          3,
          3
         ]
        },
        {
         "line": {
          "color": "black"
         },
         "mode": "lines",
         "type": "scatter",
         "x": [
          3,
          2,
          2,
          2,
          3
         ],
         "y": [
          -3,
          -3,
          -2,
          -1,
          -1
         ]
        },
        {
         "marker": {
          "color": "rgba(0,0,0,0)",
          "line": {
           "width": 0
          }
         },
         "orientation": "h",
         "type": "bar",
         "x": [
          3,
          3,
          3,
          3,
          3,
          3,
          3,
          3
         ],
         "y": [
          7,
          5,
          3,
          1,
          -1,
          -3,
          -5,
          -7
         ]
        },
        {
         "orientation": "h",
         "type": "bar",
         "x": [
          0,
          0.09999999999999432,
          0.14999999999999858,
          0.15000000000000568,
          0.25,
          0.15000000000000568,
          0.6000000000000014,
          0.10000000000000142
         ],
         "y": [
          7,
          5,
          3,
          1,
          -1,
          -3,
          -5,
          -7
         ]
        }
       ],
       "layout": {
        "annotations": [
         {
          "bgcolor": "white",
          "font": {
           "size": 25
          },
          "showarrow": false,
          "text": "BEHRT",
          "x": 0,
          "y": 0
         },
         {
          "bgcolor": "white",
          "font": {
           "size": 25
          },
          "showarrow": false,
          "text": "+BS",
          "x": 1,
          "y": -4
         },
         {
          "bgcolor": "white",
          "font": {
           "size": 25
          },
          "showarrow": false,
          "text": "+FV",
          "x": 2,
          "y": -6
         },
         {
          "bgcolor": "white",
          "font": {
           "size": 25
          },
          "showarrow": false,
          "text": "+FV",
          "x": 2,
          "y": 2
         },
         {
          "bgcolor": "white",
          "font": {
           "size": 25
          },
          "showarrow": false,
          "text": "-SEP",
          "x": 2.7,
          "y": -7
         },
         {
          "bgcolor": "white",
          "font": {
           "size": 25
          },
          "showarrow": false,
          "text": "-SEP",
          "x": 2.7,
          "y": -3
         },
         {
          "bgcolor": "white",
          "font": {
           "size": 25
          },
          "showarrow": false,
          "text": "-SEP",
          "x": 2.7,
          "y": 1
         },
         {
          "bgcolor": "white",
          "font": {
           "size": 25
          },
          "showarrow": false,
          "text": "-SEP",
          "x": 2.7,
          "y": 5
         }
        ],
        "barmode": "stack",
        "height": 600,
        "legend": {
         "tracegroupgap": 0
        },
        "margin": {
         "t": 60
        },
        "plot_bgcolor": "white",
        "showlegend": false,
        "template": {
         "data": {
          "bar": [
           {
            "error_x": {
             "color": "#2a3f5f"
            },
            "error_y": {
             "color": "#2a3f5f"
            },
            "marker": {
             "line": {
              "color": "#E5ECF6",
              "width": 0.5
             },
             "pattern": {
              "fillmode": "overlay",
              "size": 10,
              "solidity": 0.2
             }
            },
            "type": "bar"
           }
          ],
          "barpolar": [
           {
            "marker": {
             "line": {
              "color": "#E5ECF6",
              "width": 0.5
             },
             "pattern": {
              "fillmode": "overlay",
              "size": 10,
              "solidity": 0.2
             }
            },
            "type": "barpolar"
           }
          ],
          "carpet": [
           {
            "aaxis": {
             "endlinecolor": "#2a3f5f",
             "gridcolor": "white",
             "linecolor": "white",
             "minorgridcolor": "white",
             "startlinecolor": "#2a3f5f"
            },
            "baxis": {
             "endlinecolor": "#2a3f5f",
             "gridcolor": "white",
             "linecolor": "white",
             "minorgridcolor": "white",
             "startlinecolor": "#2a3f5f"
            },
            "type": "carpet"
           }
          ],
          "choropleth": [
           {
            "colorbar": {
             "outlinewidth": 0,
             "ticks": ""
            },
            "type": "choropleth"
           }
          ],
          "contour": [
           {
            "colorbar": {
             "outlinewidth": 0,
             "ticks": ""
            },
            "colorscale": [
             [
              0,
              "#0d0887"
             ],
             [
              0.1111111111111111,
              "#46039f"
             ],
             [
              0.2222222222222222,
              "#7201a8"
             ],
             [
              0.3333333333333333,
              "#9c179e"
             ],
             [
              0.4444444444444444,
              "#bd3786"
             ],
             [
              0.5555555555555556,
              "#d8576b"
             ],
             [
              0.6666666666666666,
              "#ed7953"
             ],
             [
              0.7777777777777778,
              "#fb9f3a"
             ],
             [
              0.8888888888888888,
              "#fdca26"
             ],
             [
              1,
              "#f0f921"
             ]
            ],
            "type": "contour"
           }
          ],
          "contourcarpet": [
           {
            "colorbar": {
             "outlinewidth": 0,
             "ticks": ""
            },
            "type": "contourcarpet"
           }
          ],
          "heatmap": [
           {
            "colorbar": {
             "outlinewidth": 0,
             "ticks": ""
            },
            "colorscale": [
             [
              0,
              "#0d0887"
             ],
             [
              0.1111111111111111,
              "#46039f"
             ],
             [
              0.2222222222222222,
              "#7201a8"
             ],
             [
              0.3333333333333333,
              "#9c179e"
             ],
             [
              0.4444444444444444,
              "#bd3786"
             ],
             [
              0.5555555555555556,
              "#d8576b"
             ],
             [
              0.6666666666666666,
              "#ed7953"
             ],
             [
              0.7777777777777778,
              "#fb9f3a"
             ],
             [
              0.8888888888888888,
              "#fdca26"
             ],
             [
              1,
              "#f0f921"
             ]
            ],
            "type": "heatmap"
           }
          ],
          "heatmapgl": [
           {
            "colorbar": {
             "outlinewidth": 0,
             "ticks": ""
            },
            "colorscale": [
             [
              0,
              "#0d0887"
             ],
             [
              0.1111111111111111,
              "#46039f"
             ],
             [
              0.2222222222222222,
              "#7201a8"
             ],
             [
              0.3333333333333333,
              "#9c179e"
             ],
             [
              0.4444444444444444,
              "#bd3786"
             ],
             [
              0.5555555555555556,
              "#d8576b"
             ],
             [
              0.6666666666666666,
              "#ed7953"
             ],
             [
              0.7777777777777778,
              "#fb9f3a"
             ],
             [
              0.8888888888888888,
              "#fdca26"
             ],
             [
              1,
              "#f0f921"
             ]
            ],
            "type": "heatmapgl"
           }
          ],
          "histogram": [
           {
            "marker": {
             "pattern": {
              "fillmode": "overlay",
              "size": 10,
              "solidity": 0.2
             }
            },
            "type": "histogram"
           }
          ],
          "histogram2d": [
           {
            "colorbar": {
             "outlinewidth": 0,
             "ticks": ""
            },
            "colorscale": [
             [
              0,
              "#0d0887"
             ],
             [
              0.1111111111111111,
              "#46039f"
             ],
             [
              0.2222222222222222,
              "#7201a8"
             ],
             [
              0.3333333333333333,
              "#9c179e"
             ],
             [
              0.4444444444444444,
              "#bd3786"
             ],
             [
              0.5555555555555556,
              "#d8576b"
             ],
             [
              0.6666666666666666,
              "#ed7953"
             ],
             [
              0.7777777777777778,
              "#fb9f3a"
             ],
             [
              0.8888888888888888,
              "#fdca26"
             ],
             [
              1,
              "#f0f921"
             ]
            ],
            "type": "histogram2d"
           }
          ],
          "histogram2dcontour": [
           {
            "colorbar": {
             "outlinewidth": 0,
             "ticks": ""
            },
            "colorscale": [
             [
              0,
              "#0d0887"
             ],
             [
              0.1111111111111111,
              "#46039f"
             ],
             [
              0.2222222222222222,
              "#7201a8"
             ],
             [
              0.3333333333333333,
              "#9c179e"
             ],
             [
              0.4444444444444444,
              "#bd3786"
             ],
             [
              0.5555555555555556,
              "#d8576b"
             ],
             [
              0.6666666666666666,
              "#ed7953"
             ],
             [
              0.7777777777777778,
              "#fb9f3a"
             ],
             [
              0.8888888888888888,
              "#fdca26"
             ],
             [
              1,
              "#f0f921"
             ]
            ],
            "type": "histogram2dcontour"
           }
          ],
          "mesh3d": [
           {
            "colorbar": {
             "outlinewidth": 0,
             "ticks": ""
            },
            "type": "mesh3d"
           }
          ],
          "parcoords": [
           {
            "line": {
             "colorbar": {
              "outlinewidth": 0,
              "ticks": ""
             }
            },
            "type": "parcoords"
           }
          ],
          "pie": [
           {
            "automargin": true,
            "type": "pie"
           }
          ],
          "scatter": [
           {
            "fillpattern": {
             "fillmode": "overlay",
             "size": 10,
             "solidity": 0.2
            },
            "type": "scatter"
           }
          ],
          "scatter3d": [
           {
            "line": {
             "colorbar": {
              "outlinewidth": 0,
              "ticks": ""
             }
            },
            "marker": {
             "colorbar": {
              "outlinewidth": 0,
              "ticks": ""
             }
            },
            "type": "scatter3d"
           }
          ],
          "scattercarpet": [
           {
            "marker": {
             "colorbar": {
              "outlinewidth": 0,
              "ticks": ""
             }
            },
            "type": "scattercarpet"
           }
          ],
          "scattergeo": [
           {
            "marker": {
             "colorbar": {
              "outlinewidth": 0,
              "ticks": ""
             }
            },
            "type": "scattergeo"
           }
          ],
          "scattergl": [
           {
            "marker": {
             "colorbar": {
              "outlinewidth": 0,
              "ticks": ""
             }
            },
            "type": "scattergl"
           }
          ],
          "scattermapbox": [
           {
            "marker": {
             "colorbar": {
              "outlinewidth": 0,
              "ticks": ""
             }
            },
            "type": "scattermapbox"
           }
          ],
          "scatterpolar": [
           {
            "marker": {
             "colorbar": {
              "outlinewidth": 0,
              "ticks": ""
             }
            },
            "type": "scatterpolar"
           }
          ],
          "scatterpolargl": [
           {
            "marker": {
             "colorbar": {
              "outlinewidth": 0,
              "ticks": ""
             }
            },
            "type": "scatterpolargl"
           }
          ],
          "scatterternary": [
           {
            "marker": {
             "colorbar": {
              "outlinewidth": 0,
              "ticks": ""
             }
            },
            "type": "scatterternary"
           }
          ],
          "surface": [
           {
            "colorbar": {
             "outlinewidth": 0,
             "ticks": ""
            },
            "colorscale": [
             [
              0,
              "#0d0887"
             ],
             [
              0.1111111111111111,
              "#46039f"
             ],
             [
              0.2222222222222222,
              "#7201a8"
             ],
             [
              0.3333333333333333,
              "#9c179e"
             ],
             [
              0.4444444444444444,
              "#bd3786"
             ],
             [
              0.5555555555555556,
              "#d8576b"
             ],
             [
              0.6666666666666666,
              "#ed7953"
             ],
             [
              0.7777777777777778,
              "#fb9f3a"
             ],
             [
              0.8888888888888888,
              "#fdca26"
             ],
             [
              1,
              "#f0f921"
             ]
            ],
            "type": "surface"
           }
          ],
          "table": [
           {
            "cells": {
             "fill": {
              "color": "#EBF0F8"
             },
             "line": {
              "color": "white"
             }
            },
            "header": {
             "fill": {
              "color": "#C8D4E3"
             },
             "line": {
              "color": "white"
             }
            },
            "type": "table"
           }
          ]
         },
         "layout": {
          "annotationdefaults": {
           "arrowcolor": "#2a3f5f",
           "arrowhead": 0,
           "arrowwidth": 1
          },
          "autotypenumbers": "strict",
          "coloraxis": {
           "colorbar": {
            "outlinewidth": 0,
            "ticks": ""
           }
          },
          "colorscale": {
           "diverging": [
            [
             0,
             "#8e0152"
            ],
            [
             0.1,
             "#c51b7d"
            ],
            [
             0.2,
             "#de77ae"
            ],
            [
             0.3,
             "#f1b6da"
            ],
            [
             0.4,
             "#fde0ef"
            ],
            [
             0.5,
             "#f7f7f7"
            ],
            [
             0.6,
             "#e6f5d0"
            ],
            [
             0.7,
             "#b8e186"
            ],
            [
             0.8,
             "#7fbc41"
            ],
            [
             0.9,
             "#4d9221"
            ],
            [
             1,
             "#276419"
            ]
           ],
           "sequential": [
            [
             0,
             "#0d0887"
            ],
            [
             0.1111111111111111,
             "#46039f"
            ],
            [
             0.2222222222222222,
             "#7201a8"
            ],
            [
             0.3333333333333333,
             "#9c179e"
            ],
            [
             0.4444444444444444,
             "#bd3786"
            ],
            [
             0.5555555555555556,
             "#d8576b"
            ],
            [
             0.6666666666666666,
             "#ed7953"
            ],
            [
             0.7777777777777778,
             "#fb9f3a"
            ],
            [
             0.8888888888888888,
             "#fdca26"
            ],
            [
             1,
             "#f0f921"
            ]
           ],
           "sequentialminus": [
            [
             0,
             "#0d0887"
            ],
            [
             0.1111111111111111,
             "#46039f"
            ],
            [
             0.2222222222222222,
             "#7201a8"
            ],
            [
             0.3333333333333333,
             "#9c179e"
            ],
            [
             0.4444444444444444,
             "#bd3786"
            ],
            [
             0.5555555555555556,
             "#d8576b"
            ],
            [
             0.6666666666666666,
             "#ed7953"
            ],
            [
             0.7777777777777778,
             "#fb9f3a"
            ],
            [
             0.8888888888888888,
             "#fdca26"
            ],
            [
             1,
             "#f0f921"
            ]
           ]
          },
          "colorway": [
           "#636efa",
           "#EF553B",
           "#00cc96",
           "#ab63fa",
           "#FFA15A",
           "#19d3f3",
           "#FF6692",
           "#B6E880",
           "#FF97FF",
           "#FECB52"
          ],
          "font": {
           "color": "#2a3f5f"
          },
          "geo": {
           "bgcolor": "white",
           "lakecolor": "white",
           "landcolor": "#E5ECF6",
           "showlakes": true,
           "showland": true,
           "subunitcolor": "white"
          },
          "hoverlabel": {
           "align": "left"
          },
          "hovermode": "closest",
          "mapbox": {
           "style": "light"
          },
          "paper_bgcolor": "white",
          "plot_bgcolor": "#E5ECF6",
          "polar": {
           "angularaxis": {
            "gridcolor": "white",
            "linecolor": "white",
            "ticks": ""
           },
           "bgcolor": "#E5ECF6",
           "radialaxis": {
            "gridcolor": "white",
            "linecolor": "white",
            "ticks": ""
           }
          },
          "scene": {
           "xaxis": {
            "backgroundcolor": "#E5ECF6",
            "gridcolor": "white",
            "gridwidth": 2,
            "linecolor": "white",
            "showbackground": true,
            "ticks": "",
            "zerolinecolor": "white"
           },
           "yaxis": {
            "backgroundcolor": "#E5ECF6",
            "gridcolor": "white",
            "gridwidth": 2,
            "linecolor": "white",
            "showbackground": true,
            "ticks": "",
            "zerolinecolor": "white"
           },
           "zaxis": {
            "backgroundcolor": "#E5ECF6",
            "gridcolor": "white",
            "gridwidth": 2,
            "linecolor": "white",
            "showbackground": true,
            "ticks": "",
            "zerolinecolor": "white"
           }
          },
          "shapedefaults": {
           "line": {
            "color": "#2a3f5f"
           }
          },
          "ternary": {
           "aaxis": {
            "gridcolor": "white",
            "linecolor": "white",
            "ticks": ""
           },
           "baxis": {
            "gridcolor": "white",
            "linecolor": "white",
            "ticks": ""
           },
           "bgcolor": "#E5ECF6",
           "caxis": {
            "gridcolor": "white",
            "linecolor": "white",
            "ticks": ""
           }
          },
          "title": {
           "x": 0.05
          },
          "xaxis": {
           "automargin": true,
           "gridcolor": "white",
           "linecolor": "white",
           "ticks": "",
           "title": {
            "standoff": 15
           },
           "zerolinecolor": "white",
           "zerolinewidth": 2
          },
          "yaxis": {
           "automargin": true,
           "gridcolor": "white",
           "linecolor": "white",
           "ticks": "",
           "title": {
            "standoff": 15
           },
           "zerolinecolor": "white",
           "zerolinewidth": 2
          }
         }
        },
        "xaxis": {
         "anchor": "y",
         "domain": [
          0,
          1
         ],
         "visible": false
        },
        "yaxis": {
         "anchor": "x",
         "domain": [
          0,
          1
         ],
         "visible": false
        }
       }
      }
     },
     "metadata": {},
     "output_type": "display_data"
    }
   ],
   "source": [
    "fig = px.scatter()\n",
    "fig.update_layout(\n",
    "    height=600,\n",
    "    plot_bgcolor=\"white\",\n",
    "    xaxis=dict(\n",
    "        visible=False\n",
    "    ),\n",
    "    yaxis=dict(\n",
    "        visible=False\n",
    "    ),\n",
    "    showlegend=False,\n",
    ")\n",
    "\n",
    "\"\"\" DATA \"\"\"\n",
    "x0 = 0\n",
    "make_split(fig, 4, x0, 0, double=False, names=[\"BEHRT\"])\n",
    "make_split(fig, 2, x0+1, 4, double=True, names=[\"+BS\"])\n",
    "make_split(fig, 1, x0+2, 6, double=True, names=[\"+FV\"])\n",
    "make_split(fig, 1, x0+2, 2, double=True, names=[\"+FV\"], bottom=False)\n",
    "for x, y in zip([2.7]*4, [-7, -3, 1, 5]):\n",
    "    fig.add_annotation(x=x, y=y, text=\"-SEP\", showarrow=False, bgcolor=\"white\", font=dict(size=25)),\n",
    "\n",
    "bar_y = [7, 5, 3, 1, -1, -3, -5, -7]\n",
    "results = {\n",
    "    'FV0_BS0_SEP0': {'PR': (0.593, 0.015), 'ROC': (0.940, 0.007)},\n",
    "    'FV0_BS0_SEP1': {'PR': (0.606, 0.032), 'ROC': (0.942, 0.007)},\n",
    "    'FV0_BS1_SEP0': {'PR': (0.612, 0.021), 'ROC': (0.945, 0.002)},\n",
    "    'FV0_BS1_SEP1': {'PR': (0.616, 0.025), 'ROC': (0.947, 0.006)},\n",
    "    'FV1_BS0_SEP0': {'PR': (0.586, 0.005), 'ROC': (0.945, 0.004)},\n",
    "    'FV1_BS0_SEP1': {'PR': (0.592, 0.023), 'ROC': (0.939, 0.007)},\n",
    "    'FV1_BS1_SEP0': {'PR': (0.614, 0.019), 'ROC': (0.944, 0.005)},\n",
    "    'FV1_BS1_SEP1': {'PR': (0.643, 0.011), 'ROC': (0.954, 0.006)}\n",
    "}\n",
    "chart_order = [\n",
    "    \"FV0_BS0_SEP1\", \n",
    "    \"FV0_BS0_SEP0\", \n",
    "    \"FV1_BS0_SEP1\", \n",
    "    \"FV1_BS0_SEP0\", \n",
    "    \"FV0_BS1_SEP1\", \n",
    "    \"FV0_BS1_SEP0\", \n",
    "    \"FV1_BS1_SEP1\", \n",
    "    \"FV1_BS1_SEP0\"\n",
    "]\n",
    "rocs = [results[name][\"ROC\"][0]*50 for name in chart_order]\n",
    "errors = [results[name][\"ROC\"][1] for name in chart_order]\n",
    "diff = [r - rocs[0] for r in rocs]\n",
    "abs_diff = [abs(d) for d in diff]\n",
    "\n",
    "fig.add_trace(go.Bar(\n",
    "    x=[3]*len(bar_y),\n",
    "    y=bar_y,\n",
    "    orientation=\"h\",\n",
    "    marker=dict(color=\"rgba(0,0,0,0)\", line=dict(width=0))\n",
    "))\n",
    "\n",
    "fig.add_trace(go.Bar(\n",
    "    x=[r for r in abs_diff],\n",
    "    y=bar_y,\n",
    "    orientation=\"h\",\n",
    "))\n",
    "\n",
    "\n",
    "fig.update_layout(barmode=\"stack\")\n",
    "\n",
    "fig.show()"
   ]
  },
  {
   "cell_type": "code",
   "execution_count": null,
   "metadata": {},
   "outputs": [],
   "source": []
  }
 ],
 "metadata": {
  "kernelspec": {
   "display_name": "Python 3.10.7 64-bit",
   "language": "python",
   "name": "python3"
  },
  "language_info": {
   "codemirror_mode": {
    "name": "ipython",
    "version": 3
   },
   "file_extension": ".py",
   "mimetype": "text/x-python",
   "name": "python",
   "nbconvert_exporter": "python",
   "pygments_lexer": "ipython3",
   "version": "3.10.9"
  },
  "orig_nbformat": 4,
  "vscode": {
   "interpreter": {
    "hash": "aee8b7b246df8f9039afb4144a1f6fd8d2ca17a180786b69acc140d282b71a49"
   }
  }
 },
 "nbformat": 4,
 "nbformat_minor": 2
}
